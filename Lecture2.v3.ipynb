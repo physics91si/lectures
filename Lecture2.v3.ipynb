{
 "metadata": {
  "celltoolbar": "Slideshow",
  "kernelspec": {
   "display_name": "Python 3",
   "language": "python",
   "name": "python3"
  },
  "language_info": {
   "codemirror_mode": {
    "name": "ipython",
    "version": 3
   },
   "file_extension": ".py",
   "mimetype": "text/x-python",
   "name": "python",
   "nbconvert_exporter": "python",
   "pygments_lexer": "ipython3",
   "version": "3.4.3"
  },
  "name": ""
 },
 "nbformat": 3,
 "nbformat_minor": 0,
 "worksheets": [
  {
   "cells": [
    {
     "cell_type": "code",
     "collapsed": true,
     "input": [
      "from IPython.display import clear_output"
     ],
     "language": "python",
     "metadata": {
      "slideshow": {
       "slide_type": "skip"
      }
     },
     "outputs": [],
     "prompt_number": 1
    },
    {
     "cell_type": "markdown",
     "metadata": {
      "slideshow": {
       "slide_type": "slide"
      }
     },
     "source": [
      "#### Lecture 2: Advanced Python Data Structures + Processing\n",
      "Welcome back!\n",
      "\n",
      "We've got a lot lined up for today:\n",
      "\n",
      "\n"
     ]
    },
    {
     "cell_type": "markdown",
     "metadata": {
      "slideshow": {
       "slide_type": "fragment"
      }
     },
     "source": [
      "1. Advanced Types\n",
      "2. Data Structures\n",
      "3. Advanced Data Processing\n",
      "4. IPython Notebook Introduction"
     ]
    },
    {
     "cell_type": "markdown",
     "metadata": {
      "slideshow": {
       "slide_type": "slide"
      }
     },
     "source": [
      "####Feel free to follow along and play with the examples in lecture.\n",
      "\n",
      "You can use \n",
      "2. repl.it\n",
      "3. Python at the command line\n"
     ]
    },
    {
     "cell_type": "markdown",
     "metadata": {
      "slideshow": {
       "slide_type": "slide"
      }
     },
     "source": [
      "#### Let's take a look back first\n",
      "\n",
      "We covered a lot of Tuesday"
     ]
    },
    {
     "cell_type": "markdown",
     "metadata": {
      "slideshow": {
       "slide_type": "fragment"
      }
     },
     "source": [
      "Questions from lecture or lab?"
     ]
    },
    {
     "cell_type": "code",
     "collapsed": false,
     "input": [
      "# What is this going to do?\n",
      "\n",
      "a, b = 2, 5   # Use your intuition!\n",
      "print(a // b) # I use Python 3, // means / for you guys! \n",
      "              # Also my prints have ()'s. They're the same otherwise."
     ],
     "language": "python",
     "metadata": {
      "scrolled": true,
      "slideshow": {
       "slide_type": "slide"
      }
     },
     "outputs": [
      {
       "output_type": "stream",
       "stream": "stdout",
       "text": [
        "0\n"
       ]
      }
     ],
     "prompt_number": 6
    },
    {
     "cell_type": "code",
     "collapsed": false,
     "input": [
      "print(type(a))"
     ],
     "language": "python",
     "metadata": {
      "slideshow": {
       "slide_type": "fragment"
      }
     },
     "outputs": [
      {
       "output_type": "stream",
       "stream": "stdout",
       "text": [
        "<class 'int'>\n"
       ]
      }
     ],
     "prompt_number": 7
    },
    {
     "cell_type": "code",
     "collapsed": false,
     "input": [
      "# How to get 2/5 not to be 0? Maybe want a to be something other than int?"
     ],
     "language": "python",
     "metadata": {
      "slideshow": {
       "slide_type": "fragment"
      }
     },
     "outputs": [],
     "prompt_number": 12
    },
    {
     "cell_type": "code",
     "collapsed": false,
     "input": [
      "# And this? I want to print out the sequence 0, 1, 4, 9, 16...\n",
      "\n",
      "for n in range(10):\n",
      "    sq = n * n\n",
      "    print(sq)\n"
     ],
     "language": "python",
     "metadata": {
      "slideshow": {
       "slide_type": "slide"
      }
     },
     "outputs": [
      {
       "output_type": "stream",
       "stream": "stdout",
       "text": [
        "0\n",
        "1\n",
        "4\n",
        "9\n",
        "16\n",
        "25\n",
        "36\n",
        "49\n",
        "64\n",
        "81\n"
       ]
      }
     ],
     "prompt_number": 8
    },
    {
     "cell_type": "markdown",
     "metadata": {
      "slideshow": {
       "slide_type": "slide"
      }
     },
     "source": [
      "#### You Guys Discovered a Lot During Lab!\n",
      "\n",
      "Here's an incomplete list of the things people asked us about"
     ]
    },
    {
     "cell_type": "code",
     "collapsed": false,
     "input": [
      "def next_number(n):\n",
      "    n += 1\n",
      "    return n\n",
      "\n",
      "print(next_number(5))"
     ],
     "language": "python",
     "metadata": {
      "slideshow": {
       "slide_type": "fragment"
      }
     },
     "outputs": [],
     "prompt_number": 19
    },
    {
     "cell_type": "code",
     "collapsed": false,
     "input": [
      "type(5.0)"
     ],
     "language": "python",
     "metadata": {
      "slideshow": {
       "slide_type": "slide"
      }
     },
     "outputs": [
      {
       "metadata": {},
       "output_type": "pyout",
       "prompt_number": 9,
       "text": [
        "float"
       ]
      }
     ],
     "prompt_number": 9
    },
    {
     "cell_type": "code",
     "collapsed": true,
     "input": [
      "double(5) == 5.0# Python uses == for equality tests"
     ],
     "language": "python",
     "metadata": {
      "slideshow": {
       "slide_type": "fragment"
      }
     },
     "outputs": [],
     "prompt_number": null
    },
    {
     "cell_type": "code",
     "collapsed": false,
     "input": [
      "integer, big_integer, decimal, complex_number = 0, 2**(1000), 3.14159, 1 + 1j\n",
      "print(integer, big_integer, type(integer))"
     ],
     "language": "python",
     "metadata": {
      "slideshow": {
       "slide_type": "fragment"
      }
     },
     "outputs": [
      {
       "output_type": "stream",
       "stream": "stdout",
       "text": [
        "0 10715086071862673209484250490600018105614048117055336074437503883703510511249361224931983788156958581275946729175531468251871452856923140435984577574698574803934567774824230985421074605062371141877954182153046474983581941267398767559165543946077062914571196477686542167660429831652624386837205668069376 <class 'int'>\n"
       ]
      }
     ],
     "prompt_number": 10
    },
    {
     "cell_type": "code",
     "collapsed": false,
     "input": [
      "print(decimal, type(decimal))"
     ],
     "language": "python",
     "metadata": {
      "slideshow": {
       "slide_type": "fragment"
      }
     },
     "outputs": [
      {
       "output_type": "stream",
       "stream": "stdout",
       "text": [
        "3.14159 <class 'float'>\n"
       ]
      }
     ],
     "prompt_number": 11
    },
    {
     "cell_type": "code",
     "collapsed": false,
     "input": [
      "print(complex_number, type(complex_number))"
     ],
     "language": "python",
     "metadata": {
      "slideshow": {
       "slide_type": "fragment"
      }
     },
     "outputs": [
      {
       "output_type": "stream",
       "stream": "stdout",
       "text": [
        "(1+1j) <class 'complex'>\n"
       ]
      }
     ],
     "prompt_number": 12
    },
    {
     "cell_type": "markdown",
     "metadata": {
      "slideshow": {
       "slide_type": "slide"
      }
     },
     "source": [
      "### Administrivia\n",
      "\n",
      "Lectures will be made available shortly after the session on the day they are given.\n",
      "\n",
      "Please read the syllabus before next Tuesday."
     ]
    },
    {
     "cell_type": "markdown",
     "metadata": {
      "slideshow": {
       "slide_type": "slide"
      }
     },
     "source": [
      "### Learning Goals for Today\n",
      "\n",
      "Yesterday we got a taste of Python by looking at numerics, types, iteration, functions, and conditionals.\n",
      "\n",
      "Today we are going to see a more advanced side of Python data structures and the organization of Python programs.\n"
     ]
    },
    {
     "cell_type": "markdown",
     "metadata": {
      "slideshow": {
       "slide_type": "fragment"
      }
     },
     "source": [
      "#### High Level Priorities\n",
      "\n",
      "1. Write and understand more complicated Python programs, using functions to organize code.\n",
      "2. Learn about more advanced types and data, and how they contrast to Java.\n",
      "3. Understand that effective programming in any context is about workflow and design. We'll be talking a little bit about workflow today through IPython/git.\n",
      "4. Build intuition for Python and think of Python as an interactive system."
     ]
    },
    {
     "cell_type": "markdown",
     "metadata": {
      "slideshow": {
       "slide_type": "slide"
      }
     },
     "source": [
      "### In the Context of the Four Big Course \"What\"s\n",
      "\n",
      "#####What's Up?\n",
      "Dataflow, Workflow, Design and Structure\n",
      "\n",
      "#####What's Next?\n",
      "Python Syntax and what you'll actually type"
     ]
    },
    {
     "cell_type": "markdown",
     "metadata": {
      "slideshow": {
       "slide_type": "slide"
      }
     },
     "source": [
      "### The Zen of Python\n",
      "\n",
      "Python is a very opinionated language. \n",
      "\n",
      "Understanding it's opinions will make it easier to understand it when it disagrees, and to be able to tell it what you mean to say."
     ]
    },
    {
     "cell_type": "code",
     "collapsed": false,
     "input": [
      "import this"
     ],
     "language": "python",
     "metadata": {
      "slideshow": {
       "slide_type": "fragment"
      }
     },
     "outputs": [
      {
       "output_type": "stream",
       "stream": "stdout",
       "text": [
        "The Zen of Python, by Tim Peters\n",
        "\n",
        "Beautiful is better than ugly.\n",
        "Explicit is better than implicit.\n",
        "Simple is better than complex.\n",
        "Complex is better than complicated.\n",
        "Flat is better than nested.\n",
        "Sparse is better than dense.\n",
        "Readability counts.\n",
        "Special cases aren't special enough to break the rules.\n",
        "Although practicality beats purity.\n",
        "Errors should never pass silently.\n",
        "Unless explicitly silenced.\n",
        "In the face of ambiguity, refuse the temptation to guess.\n",
        "There should be one-- and preferably only one --obvious way to do it.\n",
        "Although that way may not be obvious at first unless you're Dutch.\n",
        "Now is better than never.\n",
        "Although never is often better than *right* now.\n",
        "If the implementation is hard to explain, it's a bad idea.\n",
        "If the implementation is easy to explain, it may be a good idea.\n",
        "Namespaces are one honking great idea -- let's do more of those!\n"
       ]
      }
     ],
     "prompt_number": 13
    },
    {
     "cell_type": "markdown",
     "metadata": {
      "slideshow": {
       "slide_type": "slide"
      }
     },
     "source": [
      "As we go through the lecture, try to keep a few of these in mind:\n",
      "\n",
      "1. Simple is better than complex.\n",
      "2. Special cases aren't special enough to break the rules.\n",
      "3. There should be one-- and preferably onle one --obvious way to do it.\n",
      "\n",
      "These maxims are powerful rules for helping you keep a level head as you explore Python."
     ]
    },
    {
     "cell_type": "heading",
     "level": 2,
     "metadata": {
      "slideshow": {
       "slide_type": "slide"
      }
     },
     "source": [
      "Some Advanced Types"
     ]
    },
    {
     "cell_type": "heading",
     "level": 4,
     "metadata": {
      "slideshow": {
       "slide_type": "slide"
      }
     },
     "source": [
      "Complex Numbers in Python"
     ]
    },
    {
     "cell_type": "code",
     "collapsed": true,
     "input": [
      "# Python has complex numbers:\n",
      "\n",
      "z = 3 + 4j # uses j instead of i, Mathematicians beware!"
     ],
     "language": "python",
     "metadata": {
      "slideshow": {
       "slide_type": "fragment"
      }
     },
     "outputs": [],
     "prompt_number": 14
    },
    {
     "cell_type": "code",
     "collapsed": false,
     "input": [
      "# Conjugating complex numbers is simple!\n",
      "# Can anyone guess? (Maxims?)\n",
      "\n",
      "z.conjugate()\n",
      "\n",
      "# How about to get the real part?\n",
      "\n",
      "z.imag"
     ],
     "language": "python",
     "metadata": {
      "slideshow": {
       "slide_type": "fragment"
      }
     },
     "outputs": [
      {
       "metadata": {},
       "output_type": "pyout",
       "prompt_number": 18,
       "text": [
        "4.0"
       ]
      }
     ],
     "prompt_number": 18
    },
    {
     "cell_type": "code",
     "collapsed": false,
     "input": [
      "# How about a function to find the norm of a complex numbers?\n",
      "def norm(z):\n",
      "    norm = z*z.conjugate()\n",
      "    return norm.real\n",
      "\n",
      "print(norm(z))"
     ],
     "language": "python",
     "metadata": {
      "slideshow": {
       "slide_type": "fragment"
      }
     },
     "outputs": [
      {
       "output_type": "stream",
       "stream": "stdout",
       "text": [
        "25.0\n"
       ]
      }
     ],
     "prompt_number": 19
    },
    {
     "cell_type": "markdown",
     "metadata": {
      "slideshow": {
       "slide_type": "slide"
      }
     },
     "source": [
      "#### Lists in Python\n",
      "\n",
      "Organizing data is a *very* common need. Python makes it really easy!\n",
      "\n",
      "You might have accidentally run into a list or two during lab yesterday..."
     ]
    },
    {
     "cell_type": "code",
     "collapsed": true,
     "input": [
      "# How to declare a list?\n",
      "test = [1, 2, 3]"
     ],
     "language": "python",
     "metadata": {
      "slideshow": {
       "slide_type": "fragment"
      }
     },
     "outputs": [],
     "prompt_number": 20
    },
    {
     "cell_type": "code",
     "collapsed": true,
     "input": [
      "# In Java, you can have an array of doubles, an array of strings, an array of ints...\n",
      "# Should this work?\n",
      "\n",
      "crazy_shopping_list = [\"Veggies\", 3.14159265, [\"Milk\", \"Butter\", \"Eggs\"]]\n",
      "\n",
      "# Uhh..."
     ],
     "language": "python",
     "metadata": {
      "slideshow": {
       "slide_type": "fragment"
      }
     },
     "outputs": [],
     "prompt_number": 22
    },
    {
     "cell_type": "code",
     "collapsed": false,
     "input": [
      "# Need some way of getting stuff out too!\n",
      "# You can think of lists like mailboxes:\n",
      "# crazy_shopping_list:\n",
      "#  ____________________________________________________\n",
      "# |     0     |     1      |            2             |\n",
      "# -----------------------------------------------------\n",
      "# | \"Veggies\" | 3.14159265 |[\"Milk\", \"Butter\", \"Eggs\"]|\n",
      "# -----------------------------------------------------\n",
      "\n",
      "# Remember the number, and you can get the mail:\n",
      "\n",
      "print(crazy_shopping_list[2][2])\n",
      "\n",
      "# You're also welcome to put your own mail in... guess how? \n",
      "# I've decided I prefer cake to pi after all...\n",
      "\n",
      "crazy_shopping_list[1] = 'cake'"
     ],
     "language": "python",
     "metadata": {
      "slideshow": {
       "slide_type": "slide"
      }
     },
     "outputs": [
      {
       "output_type": "stream",
       "stream": "stdout",
       "text": [
        "Eggs\n"
       ]
      }
     ],
     "prompt_number": 25
    },
    {
     "cell_type": "code",
     "collapsed": false,
     "input": [
      "# Getting more than a little of the mail...\n",
      "\n",
      "crazy_shopping_list[3]"
     ],
     "language": "python",
     "metadata": {
      "slideshow": {
       "slide_type": "slide"
      }
     },
     "outputs": [
      {
       "ename": "IndexError",
       "evalue": "list index out of range",
       "output_type": "pyerr",
       "traceback": [
        "\u001b[0;31m---------------------------------------------------------------------------\u001b[0m",
        "\u001b[0;31mIndexError\u001b[0m                                Traceback (most recent call last)",
        "\u001b[0;32m<ipython-input-31-14d8c906dad8>\u001b[0m in \u001b[0;36m<module>\u001b[0;34m()\u001b[0m\n\u001b[1;32m      1\u001b[0m \u001b[0;31m# Getting more than a little of the mail...\u001b[0m\u001b[0;34m\u001b[0m\u001b[0;34m\u001b[0m\u001b[0m\n\u001b[1;32m      2\u001b[0m \u001b[0;34m\u001b[0m\u001b[0m\n\u001b[0;32m----> 3\u001b[0;31m \u001b[0mcrazy_shopping_list\u001b[0m\u001b[0;34m[\u001b[0m\u001b[0;36m3\u001b[0m\u001b[0;34m]\u001b[0m\u001b[0;34m\u001b[0m\u001b[0m\n\u001b[0m",
        "\u001b[0;31mIndexError\u001b[0m: list index out of range"
       ]
      }
     ],
     "prompt_number": 31
    },
    {
     "cell_type": "code",
     "collapsed": false,
     "input": [
      "# We can also add things to our shopping list\n",
      "\n",
      "crazy_shopping_list.append(5)\n",
      "\n",
      "for item in crazy_shopping_list:\n",
      "    print(item)\n"
     ],
     "language": "python",
     "metadata": {
      "slideshow": {
       "slide_type": "slide"
      }
     },
     "outputs": [
      {
       "output_type": "stream",
       "stream": "stdout",
       "text": [
        "Veggies\n",
        "cake\n",
        "['Milk', 'Butter', 'Eggs']\n",
        "5\n",
        "5\n",
        "5\n",
        "5\n"
       ]
      }
     ],
     "prompt_number": 36
    },
    {
     "cell_type": "code",
     "collapsed": false,
     "input": [
      "# Python has many functions for working with lists because they are so common\n",
      "\n",
      "favorite_numbers = [2, float('Inf'), 0, -4]\n",
      "print(favorite_numbers)\n",
      "\n",
      "# sorting\n",
      "sorted_numbers = sorted(favorite_numbers)\n",
      "print(favorite_numbers)\n",
      "print(sorted_numbers)"
     ],
     "language": "python",
     "metadata": {
      "slideshow": {
       "slide_type": "slide"
      }
     },
     "outputs": [
      {
       "output_type": "stream",
       "stream": "stdout",
       "text": [
        "[2, inf, 0, -4]\n",
        "[2, inf, 0, -4]\n",
        "[-4, 0, 2, inf]\n"
       ]
      }
     ],
     "prompt_number": 43
    },
    {
     "cell_type": "code",
     "collapsed": true,
     "input": [
      "# adding numbers from 0 to 10"
     ],
     "language": "python",
     "metadata": {
      "slideshow": {
       "slide_type": "fragment"
      }
     },
     "outputs": [],
     "prompt_number": null
    },
    {
     "cell_type": "code",
     "collapsed": false,
     "input": [
      "# sorting again...\n",
      "animals = [\"fish\", \"dog\", \"zebra\", \"cat\"]\n",
      "animals.sort()\n",
      "print(animals)\n",
      "# hmm..."
     ],
     "language": "python",
     "metadata": {
      "slideshow": {
       "slide_type": "fragment"
      }
     },
     "outputs": [
      {
       "output_type": "stream",
       "stream": "stdout",
       "text": [
        "['cat', 'dog', 'fish', 'zebra']\n"
       ]
      }
     ],
     "prompt_number": 44
    },
    {
     "cell_type": "markdown",
     "metadata": {
      "slideshow": {
       "slide_type": "slide"
      }
     },
     "source": [
      "#### Wait... sorted() and .sort()? What's up with that?\n",
      "\n",
      "The difference is that .sort() *changes* the list so that it's sorted,\n",
      "\n",
      "sorted() makes a copy and sorts that, returning it for assignment.\n",
      "\n",
      "This confusion arises due to..."
     ]
    },
    {
     "cell_type": "markdown",
     "metadata": {
      "slideshow": {
       "slide_type": "slide"
      }
     },
     "source": [
      "### Mutability\n",
      "\n",
      "You can modify certain Python objects but not others (there's a good reason for this we will discuss later)"
     ]
    },
    {
     "cell_type": "code",
     "collapsed": false,
     "input": [
      "# Consider numbers\n",
      "x = 5\n",
      "y = x\n",
      "y += 2\n",
      "\n",
      "print(x)"
     ],
     "language": "python",
     "metadata": {
      "slideshow": {
       "slide_type": "fragment"
      }
     },
     "outputs": [
      {
       "output_type": "stream",
       "stream": "stdout",
       "text": [
        "5\n"
       ]
      }
     ],
     "prompt_number": 37
    },
    {
     "cell_type": "code",
     "collapsed": false,
     "input": [
      "# And lists\n",
      "letters = [\"A\", \"B\", \"C\"]\n",
      "\n",
      "alphabet = letters\n",
      "for letter in \"DEFGHIJKLMNOPQRSTUVWXYZ\":\n",
      "    alphabet.append(letter)\n",
      "\n",
      "print(alphabet)\n",
      "print(letters)"
     ],
     "language": "python",
     "metadata": {
      "slideshow": {
       "slide_type": "fragment"
      }
     },
     "outputs": [
      {
       "output_type": "stream",
       "stream": "stdout",
       "text": [
        "['A', 'B', 'C', 'D', 'E', 'F', 'G', 'H', 'I', 'J', 'K', 'L', 'M', 'N', 'O', 'P', 'Q', 'R', 'S', 'T', 'U', 'V', 'W', 'X', 'Y', 'Z']\n",
        "['A', 'B', 'C', 'D', 'E', 'F', 'G', 'H', 'I', 'J', 'K', 'L', 'M', 'N', 'O', 'P', 'Q', 'R', 'S', 'T', 'U', 'V', 'W', 'X', 'Y', 'Z']\n"
       ]
      }
     ],
     "prompt_number": 39
    },
    {
     "cell_type": "code",
     "collapsed": false,
     "input": [
      "def sneaky_appends(element, l = None):\n",
      "    if l is None:\n",
      "        l = []\n",
      "    l.append(element)\n",
      "    return l\n",
      "\n",
      "print(sneaky_appends(1))"
     ],
     "language": "python",
     "metadata": {
      "slideshow": {
       "slide_type": "slide"
      }
     },
     "outputs": [
      {
       "output_type": "stream",
       "stream": "stdout",
       "text": [
        "[1]\n"
       ]
      }
     ],
     "prompt_number": 45
    },
    {
     "cell_type": "code",
     "collapsed": false,
     "input": [
      "print(sneaky_appends(2))\n",
      "print(sneaky_appends(3))"
     ],
     "language": "python",
     "metadata": {
      "slideshow": {
       "slide_type": "fragment"
      }
     },
     "outputs": [
      {
       "output_type": "stream",
       "stream": "stdout",
       "text": [
        "[1, 2]\n",
        "[1, 2, 3]\n"
       ]
      }
     ],
     "prompt_number": 46
    },
    {
     "cell_type": "markdown",
     "metadata": {
      "slideshow": {
       "slide_type": "slide"
      }
     },
     "source": [
      "#### Escaping From Mutability\n",
      "\n",
      "Numbers, bools, and strings are immutable.\n",
      "\n",
      "There's also an immutable collection type called the tuple which looks a lot like a list."
     ]
    },
    {
     "cell_type": "code",
     "collapsed": false,
     "input": [
      "coordinates = (32, 55) # note the ()s rather than []s\n",
      "\n",
      "def announce_coordinates(coords):\n",
      "    announcement = \"My coordinates are \"\n",
      "    announcement += str(coords[0])\n",
      "    announcement += \"N, \"\n",
      "    announcement += str(coords[1])\n",
      "    announcement += \"W. Mayday!\"\n",
      "    \n",
      "    print(announcement)\n",
      "\n",
      "announce_coordinates(coordinates)"
     ],
     "language": "python",
     "metadata": {
      "slideshow": {
       "slide_type": "fragment"
      }
     },
     "outputs": [
      {
       "output_type": "stream",
       "stream": "stdout",
       "text": [
        "My coordinates are 32N, 55W. Mayday!\n"
       ]
      }
     ],
     "prompt_number": 48
    },
    {
     "cell_type": "code",
     "collapsed": false,
     "input": [
      "coordinates.append(\"Altitude?\")"
     ],
     "language": "python",
     "metadata": {
      "slideshow": {
       "slide_type": "fragment"
      }
     },
     "outputs": [
      {
       "ename": "AttributeError",
       "evalue": "'tuple' object has no attribute 'append'",
       "output_type": "pyerr",
       "traceback": [
        "\u001b[0;31m---------------------------------------------------------------------------\u001b[0m",
        "\u001b[0;31mAttributeError\u001b[0m                            Traceback (most recent call last)",
        "\u001b[0;32m<ipython-input-49-f6b4011dcf38>\u001b[0m in \u001b[0;36m<module>\u001b[0;34m()\u001b[0m\n\u001b[0;32m----> 1\u001b[0;31m \u001b[0mcoordinates\u001b[0m\u001b[0;34m.\u001b[0m\u001b[0mappend\u001b[0m\u001b[0;34m(\u001b[0m\u001b[0;34m\"Altitude?\"\u001b[0m\u001b[0;34m)\u001b[0m\u001b[0;34m\u001b[0m\u001b[0m\n\u001b[0m",
        "\u001b[0;31mAttributeError\u001b[0m: 'tuple' object has no attribute 'append'"
       ]
      }
     ],
     "prompt_number": 49
    },
    {
     "cell_type": "code",
     "collapsed": true,
     "input": [
      "# How to turn one into another?\n",
      "list_coordinates = list(coordinates)"
     ],
     "language": "python",
     "metadata": {
      "slideshow": {
       "slide_type": "fragment"
      }
     },
     "outputs": [],
     "prompt_number": 50
    },
    {
     "cell_type": "markdown",
     "metadata": {
      "slideshow": {
       "slide_type": "slide"
      }
     },
     "source": [
      "#### Dictionaries\n",
      "\n",
      "You might know them by the name 'map', 'key-value store', 'associative array' or many others."
     ]
    },
    {
     "cell_type": "code",
     "collapsed": true,
     "input": [
      "# Dictionaries are a way of keeping associations of some set of stuff to another.\n",
      "# Imagine tracking student happiness..."
     ],
     "language": "python",
     "metadata": {
      "slideshow": {
       "slide_type": "fragment"
      }
     },
     "outputs": [],
     "prompt_number": null
    },
    {
     "cell_type": "code",
     "collapsed": false,
     "input": [
      "student_happiness = {\"Alfred\": 9, \"Beth\": 7, \"Carol\": 10}\n",
      "\n",
      "# we can get just like arrays, but the indices can be (almost) arbitrary!\n",
      "print(\"Carol's happiness is \" + str(student_happiness[\"Carol\"]) + \"/10\")"
     ],
     "language": "python",
     "metadata": {
      "slideshow": {
       "slide_type": "fragment"
      }
     },
     "outputs": [
      {
       "output_type": "stream",
       "stream": "stdout",
       "text": [
        "Carol's happiness is 10/10\n"
       ]
      }
     ],
     "prompt_number": 52
    },
    {
     "cell_type": "code",
     "collapsed": false,
     "input": [
      "# Alfred didn't like the lecture...\n",
      "# How to remember this?\n",
      "\n",
      "student_happiness[\"Alfred\"] -= 5\n",
      "print(student_happiness)"
     ],
     "language": "python",
     "metadata": {
      "slideshow": {
       "slide_type": "fragment"
      }
     },
     "outputs": [
      {
       "output_type": "stream",
       "stream": "stdout",
       "text": [
        "{'Carol': 10, 'Alfred': -1, 'Beth': 7}\n"
       ]
      }
     ],
     "prompt_number": 54
    },
    {
     "cell_type": "code",
     "collapsed": true,
     "input": [
      "# Unlike lists, we can add to a dictionary using []\n",
      "student_happiness[\"David\"] = 0"
     ],
     "language": "python",
     "metadata": {
      "slideshow": {
       "slide_type": "fragment"
      }
     },
     "outputs": [],
     "prompt_number": 55
    },
    {
     "cell_type": "heading",
     "level": 4,
     "metadata": {
      "slideshow": {
       "slide_type": "slide"
      }
     },
     "source": [
      "Revisiting Iteration with Lists and Dictionaries"
     ]
    },
    {
     "cell_type": "code",
     "collapsed": false,
     "input": [
      "my_classes = [\"Wine Tasting\", \"Physics 91SI\", \"Thesis Research\"]\n",
      "\n",
      "# how to print all my classes?\n",
      "for classname in my_classes:\n",
      "    print(classname)"
     ],
     "language": "python",
     "metadata": {
      "slideshow": {
       "slide_type": "fragment"
      }
     },
     "outputs": [
      {
       "output_type": "stream",
       "stream": "stdout",
       "text": [
        "Wine Tasting\n",
        "Physics 91SI\n",
        "Thesis Research\n"
       ]
      }
     ],
     "prompt_number": 56
    },
    {
     "cell_type": "code",
     "collapsed": true,
     "input": [
      "# Triaging \"in\"... how do we know that something is in a container?"
     ],
     "language": "python",
     "metadata": {
      "slideshow": {
       "slide_type": "fragment"
      }
     },
     "outputs": [],
     "prompt_number": null
    },
    {
     "cell_type": "code",
     "collapsed": true,
     "input": [
      "# What about how much I enjoy them?\n",
      "class_scores = {\"Wine Tasting\": 8, \"Physics 91SI\": 11, \"Thesis Research\": 9}\n",
      "\n",
      "# how to print all the classes and their scores?\n",
      "for classname in my_classes:\n",
      "    print(classname)"
     ],
     "language": "python",
     "metadata": {
      "slideshow": {
       "slide_type": "fragment"
      }
     },
     "outputs": [],
     "prompt_number": 57
    },
    {
     "cell_type": "code",
     "collapsed": false,
     "input": [
      "for classname in class_scores.items():\n",
      "    print(classname)\n",
      "    \n",
      "# what could .items() be doing?\n",
      "# Remember: special cases aren't special enough to break the rules!"
     ],
     "language": "python",
     "metadata": {
      "slideshow": {
       "slide_type": "fragment"
      }
     },
     "outputs": [
      {
       "output_type": "stream",
       "stream": "stdout",
       "text": [
        "('Wine Tasting', 8)\n",
        "('Thesis Research', 9)\n",
        "('Physics 91SI', 11)\n"
       ]
      }
     ],
     "prompt_number": 62
    },
    {
     "cell_type": "markdown",
     "metadata": {
      "slideshow": {
       "slide_type": "slide"
      }
     },
     "source": [
      "#### Other Containers\n",
      "\n",
      "Lists and Dictionaries are pretty great! \n",
      "\n",
      "Python has lots of special containers that are used in different contexts though.\n",
      "\n",
      "We won't talk about them now, but good to know that they exist, in case one sneaks up on you, or you get the feeling \"I bet someone's done this before!\"."
     ]
    },
    {
     "cell_type": "markdown",
     "metadata": {
      "slideshow": {
       "slide_type": "fragment"
      }
     },
     "source": [
      "In order to talk about these containers though, we need to discuss..."
     ]
    },
    {
     "cell_type": "markdown",
     "metadata": {
      "slideshow": {
       "slide_type": "slide"
      }
     },
     "source": [
      "##Modules\n",
      "\n",
      "Functions are a useful structural unit for code, but there's a lot more besides functions!\n",
      "\n",
      "Modules provide sets of related functionality: typically some group of functions.\n",
      "\n",
      "(They can also contain hidden away types, like other containers!)"
     ]
    },
    {
     "cell_type": "code",
     "collapsed": false,
     "input": [
      "from math import sqrt\n",
      "\n",
      "sqrt(5)"
     ],
     "language": "python",
     "metadata": {
      "slideshow": {
       "slide_type": "fragment"
      }
     },
     "outputs": [
      {
       "metadata": {},
       "output_type": "pyout",
       "prompt_number": 66,
       "text": [
        "2.23606797749979"
       ]
      }
     ],
     "prompt_number": 66
    },
    {
     "cell_type": "code",
     "collapsed": true,
     "input": [
      "# Lots of useful modules in Python!\n",
      "\n",
      "# math, collections, functools, itertools, os, sys, time\n",
      "# Will explore many of these later."
     ],
     "language": "python",
     "metadata": {
      "slideshow": {
       "slide_type": "fragment"
      }
     },
     "outputs": [],
     "prompt_number": null
    },
    {
     "cell_type": "heading",
     "level": 4,
     "metadata": {
      "slideshow": {
       "slide_type": "slide"
      }
     },
     "source": [
      "I promised you a container..."
     ]
    },
    {
     "cell_type": "code",
     "collapsed": false,
     "input": [
      "from collections import Counter\n",
      "\n",
      "list_of_test_scores = [99, 99, 85, 100, 99, 88, 67, 92, 85, 87, 89]\n",
      "\n",
      "c = Counter(list_of_test_scores)"
     ],
     "language": "python",
     "metadata": {
      "slideshow": {
       "slide_type": "fragment"
      }
     },
     "outputs": [],
     "prompt_number": 68
    },
    {
     "cell_type": "code",
     "collapsed": false,
     "input": [
      "# how many students got a 99?\n",
      "print(c[99])"
     ],
     "language": "python",
     "metadata": {
      "slideshow": {
       "slide_type": "fragment"
      }
     },
     "outputs": [
      {
       "output_type": "stream",
       "stream": "stdout",
       "text": [
        "3\n"
       ]
      }
     ],
     "prompt_number": 69
    },
    {
     "cell_type": "code",
     "collapsed": false,
     "input": [
      "# what were the two most common scores?\n",
      "print(c.most_common(2))"
     ],
     "language": "python",
     "metadata": {
      "slideshow": {
       "slide_type": "fragment"
      }
     },
     "outputs": [
      {
       "output_type": "stream",
       "stream": "stdout",
       "text": [
        "[(99, 3), (85, 2)]\n"
       ]
      }
     ],
     "prompt_number": 70
    },
    {
     "cell_type": "markdown",
     "metadata": {
      "slideshow": {
       "slide_type": "fragment"
      }
     },
     "source": [
      "Point of this discussion is that you rarely have to work as hard in Python as you think."
     ]
    },
    {
     "cell_type": "markdown",
     "metadata": {
      "slideshow": {
       "slide_type": "slide"
      }
     },
     "source": [
      "### Some Powerful Builtins\n",
      "\n",
      "We've already seen about how to sort..."
     ]
    },
    {
     "cell_type": "code",
     "collapsed": false,
     "input": [
      "# length\n",
      "len(range(5))"
     ],
     "language": "python",
     "metadata": {
      "slideshow": {
       "slide_type": "fragment"
      }
     },
     "outputs": [
      {
       "metadata": {},
       "output_type": "pyout",
       "prompt_number": 72,
       "text": [
        "5"
       ]
      }
     ],
     "prompt_number": 72
    },
    {
     "cell_type": "code",
     "collapsed": false,
     "input": [
      "# splitting and joining strings\n",
      "sentence = \"Are you guys loving Python?\"\n",
      "sentence.split()"
     ],
     "language": "python",
     "metadata": {
      "slideshow": {
       "slide_type": "fragment"
      }
     },
     "outputs": [
      {
       "metadata": {},
       "output_type": "pyout",
       "prompt_number": 73,
       "text": [
        "['Are', 'you', 'guys', 'loving', 'Python?']"
       ]
      }
     ],
     "prompt_number": 73
    },
    {
     "cell_type": "code",
     "collapsed": false,
     "input": [
      "csv = \"Comma,separated,values\"\n",
      "csv.split(\",\")\n",
      "\n",
      "# uh oh"
     ],
     "language": "python",
     "metadata": {
      "slideshow": {
       "slide_type": "fragment"
      }
     },
     "outputs": [
      {
       "metadata": {},
       "output_type": "pyout",
       "prompt_number": 75,
       "text": [
        "['Comma', 'separated', 'values']"
       ]
      }
     ],
     "prompt_number": 75
    },
    {
     "cell_type": "code",
     "collapsed": false,
     "input": [
      "words = sentence.split()\n",
      "print(\"\\n\".join(words))\n",
      "# put them back together?"
     ],
     "language": "python",
     "metadata": {
      "slideshow": {
       "slide_type": "fragment"
      }
     },
     "outputs": [
      {
       "output_type": "stream",
       "stream": "stdout",
       "text": [
        "Are\n",
        "you\n",
        "guys\n",
        "loving\n",
        "Python?\n"
       ]
      }
     ],
     "prompt_number": 80
    },
    {
     "cell_type": "code",
     "collapsed": true,
     "input": [
      "# special whitespace characters... \\n \\t\n",
      "\n",
      "# get list of lines?"
     ],
     "language": "python",
     "metadata": {
      "slideshow": {
       "slide_type": "fragment"
      }
     },
     "outputs": [],
     "prompt_number": null
    },
    {
     "cell_type": "code",
     "collapsed": false,
     "input": [
      "# You probably noticed that strings are a lot like lists...\n",
      "\n",
      "print(sorted(\"My name is Conrad\"))"
     ],
     "language": "python",
     "metadata": {
      "slideshow": {
       "slide_type": "slide"
      }
     },
     "outputs": [],
     "prompt_number": 110
    },
    {
     "cell_type": "code",
     "collapsed": false,
     "input": [
      "# A lot of the stuff we would have to do manually with for loops Python can do for us!\n",
      "\n",
      "some_numbers = [1, 2, 3]\n",
      "some_more_numbers = [4, 5, 6]\n",
      "\n",
      "some_numbers.extend(some_more_numbers)\n",
      "print(some_numbers)"
     ],
     "language": "python",
     "metadata": {
      "slideshow": {
       "slide_type": "slide"
      }
     },
     "outputs": [
      {
       "output_type": "stream",
       "stream": "stdout",
       "text": [
        "[1, 2, 3, 4, 5, 6]\n"
       ]
      }
     ],
     "prompt_number": 82
    },
    {
     "cell_type": "heading",
     "level": 4,
     "metadata": {
      "slideshow": {
       "slide_type": "slide"
      }
     },
     "source": [
      "Numeric Builtins"
     ]
    },
    {
     "cell_type": "code",
     "collapsed": false,
     "input": [
      "# We saw sum before... what else do we do to lists of numbers?\n",
      "# max? min?\n",
      "\n",
      "sum(range(101))"
     ],
     "language": "python",
     "metadata": {
      "slideshow": {
       "slide_type": "fragment"
      }
     },
     "outputs": [
      {
       "metadata": {},
       "output_type": "pyout",
       "prompt_number": 86,
       "text": [
        "5050"
       ]
      }
     ],
     "prompt_number": 86
    },
    {
     "cell_type": "markdown",
     "metadata": {
      "slideshow": {
       "slide_type": "slide"
      }
     },
     "source": [
      "#### String Formatting\n",
      "\n",
      "Plussing (+ing) is annoying, have to do type conversion, verbose."
     ]
    },
    {
     "cell_type": "code",
     "collapsed": false,
     "input": [
      "name = \"Conrad\"\n",
      "major = \"physics\"\n",
      "\n",
      "print(\"Hi my name is \" + name + \" and my major is \" + major + \".\")\n",
      "print(\"Hi my name is %(name)s and my major is %(major)s.\" \\\n",
      "      % {\"name\": name, \"major\": major})"
     ],
     "language": "python",
     "metadata": {
      "slideshow": {
       "slide_type": "fragment"
      }
     },
     "outputs": [
      {
       "output_type": "stream",
       "stream": "stdout",
       "text": [
        "Hi my name is Conrad and my major is physics.\n",
        "Hi my name is Conrad and my major is physics.\n"
       ]
      }
     ],
     "prompt_number": 87
    },
    {
     "cell_type": "code",
     "collapsed": false,
     "input": [
      "# What about numbers?\n",
      "\"There are %(n)d %(sub_unit)ss in a %(unit)s.\" \\\n",
      "    % {\"n\": 7, \"sub_unit\": \"day\", \"unit\": \"week\"}\n",
      "\n",
      "# general specifier format %(label_for_insertion)X\n",
      "# X is a type, can be s for string, d for int, f for float..."
     ],
     "language": "python",
     "metadata": {
      "slideshow": {
       "slide_type": "fragment"
      }
     },
     "outputs": [
      {
       "metadata": {},
       "output_type": "pyout",
       "prompt_number": 89,
       "text": [
        "'There are 7 days in a week.'"
       ]
      }
     ],
     "prompt_number": 89
    },
    {
     "cell_type": "markdown",
     "metadata": {
      "slideshow": {
       "slide_type": "slide"
      }
     },
     "source": [
      "#### One Last Thing... Keyword Arguments\n",
      "\n",
      "Functions that have a lot of parameters can be a pain..."
     ]
    },
    {
     "cell_type": "code",
     "collapsed": false,
     "input": [
      "def tries_FLT(n = 2, a = 0, b = 0, c = 0):\n",
      "    if a**n + b**n == c**n:\n",
      "        if n > 2:\n",
      "            print(\"WHAT!!?!!??!\")\n",
      "            print(\"Oh... abc = \" + str(a * b * c))\n",
      "        elif n == 2:\n",
      "            print(\"Congratulations... who do you think you are, Pythagoras?\")\n",
      "        else:\n",
      "            print(\"So you can add...\")\n",
      "    else:\n",
      "        print(\"Sorry!\")\n",
      "\n",
      "\n",
      "# let's test just pythagorean triples\n",
      "\n",
      "tries_FLT(a = 2, b = 4)"
     ],
     "language": "python",
     "metadata": {
      "slideshow": {
       "slide_type": "slide"
      }
     },
     "outputs": [
      {
       "output_type": "stream",
       "stream": "stdout",
       "text": [
        "Sorry!\n"
       ]
      }
     ],
     "prompt_number": 90
    },
    {
     "cell_type": "markdown",
     "metadata": {
      "slideshow": {
       "slide_type": "slide"
      }
     },
     "source": [
      "#### That's it for Python for today (+ questions, of course)!\n",
      "\n",
      "Have a few things to mention before starting the lab, \n",
      "take a moment to reflect on what we learned about Python syntax:\n",
      "\n",
      "1. The different kinds of numbers\n",
      "2. Lists, indexing, slicing\n",
      "3. Dictionaries\n",
      "4. Thematic similarities between different kinds of collections \n",
      " * ADS (advanced data structures) - stringy correspondance in Python\n",
      " * .items() for iteration\n",
      "5. Powerful builtins\n",
      "6. Module system with lots of functionality under the hood\n",
      " * math, collections both very useful\n",
      " * You can use to organize your own code. Modules are just files!\n",
      "7. Keyword arguments\n",
      " \n"
     ]
    },
    {
     "cell_type": "markdown",
     "metadata": {
      "slideshow": {
       "slide_type": "slide"
      }
     },
     "source": [
      "#### Prelab\n",
      "\n",
      "I've been using IPython notebook (with some extensions) for this lecture.\n",
      "\n",
      "REALLY AWESOME SYSTEM"
     ]
    },
    {
     "cell_type": "markdown",
     "metadata": {
      "slideshow": {
       "slide_type": "fragment"
      }
     },
     "source": [
      "1. Helps you to organize code and ideas\n",
      "2. Highly interactive\n",
      "3. Abstracts away from IO a lot of the time, easy to change parameters in a cell\n",
      "4. Common format, especially in scientific research/data science\n",
      "5. Most labs (and my lectures) will be in IPython notebook!"
     ]
    },
    {
     "cell_type": "markdown",
     "metadata": {
      "slideshow": {
       "slide_type": "fragment"
      }
     },
     "source": [
      "Let's learn how to use IPython notebook, make cells, and use it for workflow.\n",
      "\n",
      "Then one more brief slide."
     ]
    },
    {
     "cell_type": "markdown",
     "metadata": {
      "slideshow": {
       "slide_type": "slide"
      }
     },
     "source": [
      "## Notes on Program Design, and Basic Workflow\n",
      "\n",
      "#### Workflow\n",
      "Python encourages interaction and exploration. \n",
      "\n",
      "IPython notebook makes it less of a language to write programs in, and more of a living system that can be studied, investigated, interacted with, and yes, at times, angered (or at least it seems that way sometimes).\n",
      "\n",
      "This is powerful for taming Python, because Python is a profoundly large and powerful system, suitable for a wide variety of computing tasks, from building simple scripts, to writing particle physics analyses at scale, or building commercial products.\n",
      "\n",
      "Enjoy the freedom to explore that IPython provides."
     ]
    },
    {
     "cell_type": "markdown",
     "metadata": {
      "slideshow": {
       "slide_type": "slide"
      }
     },
     "source": [
      "## Design by Divide and Conquer\n",
      "It pays to think hierarchically:\n",
      "\n",
      "1. Think about your inputs and your outputs. \n",
      "2. If the gap between the two is small enough, bridge it.\n",
      "3. If the gap is large, break up the distance into a *FEW* meaningful pieces, identify the divisions this creates, and recurse. \n",
      "\n",
      "This recursion will not work (at least not in appropriate runtime!) if you don't choose meaningful pieces of work to subdivide the task, or if you attempt to break a task into too many pieces in one step.\n",
      "\n",
      " "
     ]
    },
    {
     "cell_type": "markdown",
     "metadata": {
      "slideshow": {
       "slide_type": "slide"
      }
     },
     "source": [
      "#### Identifying the base case\n",
      "When is small small enough? \n",
      "\n",
      "Python is powerful enough that many gaps that appear large may in fact not be, building maturity with the language will help you identify these opportunities!"
     ]
    },
    {
     "cell_type": "markdown",
     "metadata": {
      "slideshow": {
       "slide_type": "fragment"
      }
     },
     "source": [
      "I'm biased... (you'll see why in a few weeks) "
     ]
    },
    {
     "cell_type": "markdown",
     "metadata": {
      "slideshow": {
       "slide_type": "fragment"
      }
     },
     "source": [
      "...but it's still good advice to think in *functions*.\n",
      "\n",
      "Try to apply this design reasoning to the lab!"
     ]
    },
    {
     "cell_type": "heading",
     "level": 1,
     "metadata": {
      "slideshow": {
       "slide_type": "slide"
      }
     },
     "source": [
      "LAB TIME"
     ]
    },
    {
     "cell_type": "markdown",
     "metadata": {
      "slideshow": {
       "slide_type": "slide"
      }
     },
     "source": [
      "## After Lab Info\n",
      "\n",
      "#### Recap\n",
      "\n",
      "1. Python basics including collections types.\n",
      "2. IPython and basic workflow\n",
      "3. Enough git to get by\n",
      "\n",
      "Make sure you have submitted your lab before leaving! (Ask one of us if you are confused how.)\n"
     ]
    },
    {
     "cell_type": "markdown",
     "metadata": {
      "slideshow": {
       "slide_type": "slide"
      }
     },
     "source": [
      "## Before Next Week\n",
      "If you have not read the full syllabus, please please do so before the next course meeting on Tuesday. It's a lovely document that will serve you well.\n"
     ]
    },
    {
     "cell_type": "markdown",
     "metadata": {
      "slideshow": {
       "slide_type": "fragment"
      }
     },
     "source": [
      "Peer review. These are meant to be a learning opportunity for you, see how everyone solved problems, and to help them along if there was some aspect they didn't solve. I will email out this weeks' peer review groups, instructions on how to perform the review, and some questions to consider soon."
     ]
    },
    {
     "cell_type": "markdown",
     "metadata": {
      "slideshow": {
       "slide_type": "fragment"
      }
     },
     "source": [
      "My office hours are tomorrow, Friday, from 1-3pm at Coupa Cafe Y2E2 as mentioned last lecture.\n",
      "\n",
      "Stop by with questions or just to chat about Python and physics!"
     ]
    },
    {
     "cell_type": "markdown",
     "metadata": {
      "slideshow": {
       "slide_type": "slide"
      }
     },
     "source": [
      "## Plan for Next Week\n",
      "\n",
      "###Learning Goals\n",
      "1. Advanced UNIX, editors, and workflow\n",
      "  1. [CS 1U](https://practicalunix.org/content/week-2-intro) A bit hardcore, but interesting. Video lectures on UNIX.\n",
      "2. git and Github \n",
      "  1. [Simple git Guide](http://rogerdudler.github.io/git-guide/)\n",
      "  2. [git Homepage, good getting started](http://git-scm.com/)\n",
      "3. File I/O\n",
      "4. Understanding Errors. We're all bad communicators when we're upset (except Python, sometimes)."
     ]
    },
    {
     "cell_type": "markdown",
     "metadata": {
      "slideshow": {
       "slide_type": "fragment"
      }
     },
     "source": [
      "###Project Milestones and Assignments\n",
      "\n",
      "1. Setting up an effective, personal workflow\n",
      "2. Feel free, but unobliged, to think about your project topic"
     ]
    },
    {
     "cell_type": "heading",
     "level": 1,
     "metadata": {
      "slideshow": {
       "slide_type": "slide"
      }
     },
     "source": [
      "Have a great weekend!"
     ]
    }
   ],
   "metadata": {}
  }
 ]
}