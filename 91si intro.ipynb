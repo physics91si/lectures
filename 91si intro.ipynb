{
 "cells": [
  {
   "cell_type": "markdown",
   "metadata": {},
   "source": [
    "# Physics 91si Guest Lecture 5/12/2016\n",
    "# Predicting Specific Star Formation Rates in Galaxies"
   ]
  },
  {
   "cell_type": "code",
   "execution_count": 10,
   "metadata": {
    "collapsed": false
   },
   "outputs": [
    {
     "name": "stdout",
     "output_type": "stream",
     "text": [
      "time: 12.1 ms\n"
     ]
    }
   ],
   "source": [
    "import matplotlib.pyplot as plt\n",
    "import numpy as np\n",
    "import pandas as pd\n",
    "import seaborn as sns\n"
   ]
  },
  {
   "cell_type": "code",
   "execution_count": null,
   "metadata": {
    "collapsed": true
   },
   "outputs": [],
   "source": [
    "def generate_data(N=30000, num_missing=700):\n",
    "    x = np.random.uniform(0,75,N)\n",
    "    y = np.random.uniform(0,75,N)\n",
    "    z = np.random.uniform(0,75,N)\n",
    "    mstar = 10 **np.random.uniform(8,12,N)\n",
    "    shuffled_idxs = np.random.permutation(N)\n",
    "    mstar[shuffled_idxs[:num_missing]] = 0\n",
    "    sfr = np.random.uniform(0,1e-9,N)\n",
    "    sfr[shuffled_idxs[num_missing:7*num_missing]] = 0\n",
    "    mvir = 10 ** np.random.uniform(9,13,N)\n",
    "    return pd.DataFrame({'x': x,\n",
    "                         'y': y,\n",
    "                         'z': z,\n",
    "                         'sfr': sfr,\n",
    "                         'mstar': mstar,\n",
    "                         'mvir': mvir})\n",
    "df = generate_data()"
   ]
  },
  {
   "cell_type": "markdown",
   "metadata": {},
   "source": [
    "## What is a dataframe? "
   ]
  },
  {
   "cell_type": "markdown",
   "metadata": {},
   "source": [
    "Basically like super hyped up dictionary.\n",
    "    - access columns by names\n",
    "    - access entries by index or names (or both!)\n",
    "    - there are methods for selecting portions of data that make it really useful!"
   ]
  },
  {
   "cell_type": "markdown",
   "metadata": {},
   "source": [
    "## Exploratory information\n",
    "We have a box filled with galaxies and information about them. What are some of the things we're curious to know?"
   ]
  },
  {
   "cell_type": "code",
   "execution_count": null,
   "metadata": {
    "collapsed": false
   },
   "outputs": [],
   "source": []
  },
  {
   "cell_type": "markdown",
   "metadata": {
    "collapsed": true
   },
   "source": [
    "## Processing"
   ]
  },
  {
   "cell_type": "code",
   "execution_count": null,
   "metadata": {
    "collapsed": false
   },
   "outputs": [],
   "source": []
  },
  {
   "cell_type": "code",
   "execution_count": null,
   "metadata": {
    "collapsed": true
   },
   "outputs": [],
   "source": []
  },
  {
   "cell_type": "markdown",
   "metadata": {},
   "source": [
    "# Begin predictions "
   ]
  },
  {
   "cell_type": "code",
   "execution_count": null,
   "metadata": {
    "collapsed": true
   },
   "outputs": [],
   "source": []
  },
  {
   "cell_type": "code",
   "execution_count": null,
   "metadata": {
    "collapsed": true
   },
   "outputs": [],
   "source": []
  }
 ],
 "metadata": {
  "kernelspec": {
   "display_name": "Python 2",
   "language": "python",
   "name": "python2"
  },
  "language_info": {
   "codemirror_mode": {
    "name": "ipython",
    "version": 2
   },
   "file_extension": ".py",
   "mimetype": "text/x-python",
   "name": "python",
   "nbconvert_exporter": "python",
   "pygments_lexer": "ipython2",
   "version": "2.7.11"
  }
 },
 "nbformat": 4,
 "nbformat_minor": 0
}
