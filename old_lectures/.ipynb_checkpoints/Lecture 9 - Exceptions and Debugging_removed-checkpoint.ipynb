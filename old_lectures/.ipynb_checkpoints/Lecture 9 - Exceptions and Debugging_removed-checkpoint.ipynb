{
 "cells": [
  {
   "cell_type": "code",
   "execution_count": 1,
   "metadata": {
    "collapsed": false,
    "slideshow": {
     "slide_type": "skip"
    }
   },
   "outputs": [],
   "source": [
    "from IPython.display import clear_output\n",
    "import readline\n",
    "import numpy as np\n",
    "from scipy import misc\n",
    "import scipy\n",
    "import matplotlib.pyplot as plt\n",
    "from copy import deepcopy\n",
    "\n",
    "%matplotlib inline\n"
   ]
  },
  {
   "cell_type": "markdown",
   "metadata": {
    "slideshow": {
     "slide_type": "slide"
    }
   },
   "source": [
    "## Lecture 9: Exceptions and Debugging"
   ]
  },
  {
   "cell_type": "markdown",
   "metadata": {
    "slideshow": {
     "slide_type": "subslide"
    }
   },
   "source": [
    "Here's what's planned for today:\n",
    "\n",
    "Addressing problems before they happen:\n",
    "1. Asserts!\n",
    "2. Exceptions! An object we've been running into a lot! \n",
    "3. Raising an exception (complaining about a problem)\n",
    "4. Catching an exception (dealing with a problem)\n",
    "\n",
    "Dealing with unexpected problems:\n",
    "1. Finding unexpected problems\n",
    "\n",
    "Preventing problems:\n",
    "1. Documentation\n",
    "2. Modular design"
   ]
  },
  {
   "cell_type": "markdown",
   "metadata": {
    "slideshow": {
     "slide_type": "slide"
    }
   },
   "source": [
    "#### Learning Objectives\n",
    "\n",
    "1. Learn how to think about code structure\n",
    "2. Assert and test correctness of small pieces of code\n",
    "3. Assemble hierarchies of functionality to do awesome stuff!\n",
    "\n",
    "Remember that it pays to think before you type, if you don't you'll just have more work to do later when something breaks!"
   ]
  },
  {
   "cell_type": "markdown",
   "metadata": {
    "slideshow": {
     "slide_type": "slide"
    }
   },
   "source": [
    "#### A quick review from last time"
   ]
  },
  {
   "cell_type": "markdown",
   "metadata": {
    "slideshow": {
     "slide_type": "fragment"
    }
   },
   "source": [
    "##### On Thursday, We Discussed OOP, Classes\n",
    "\n",
    "OOP allows us to organize our code by thinking about data in terms of actors and actions\n",
    "\n",
    "Classes *declare kinds* of data, and instances are particular representations of that data:\n",
    "\n",
    "This is the difference between the class 'Float' and the number 3.14159"
   ]
  },
  {
   "cell_type": "markdown",
   "metadata": {
    "slideshow": {
     "slide_type": "slide"
    }
   },
   "source": [
    "#### A potential point of potential confusion: Class variables and instance variables\n",
    "\n"
   ]
  },
  {
   "cell_type": "code",
   "execution_count": 38,
   "metadata": {
    "collapsed": false,
    "slideshow": {
     "slide_type": "fragment"
    }
   },
   "outputs": [],
   "source": [
    "class Dog:\n",
    "    toys = []\n",
    "    \n",
    "    def __init__(self,startAge,breed):\n",
    "        self.age = startAge\n",
    "        self.breed = breed\n",
    "    \n",
    "    def add_toy(self,toy):\n",
    "        self.toys.append(toy)\n",
    "        \n",
    "Sirius = Dog(5,'Pomeranian')\n",
    "Sirius.add_toy('bone')\n",
    "Cerberus = Dog(10,'Retriever')\n",
    "Cerberus.add_toy('frisbee')\n",
    "\n",
    "Sirius.toys\n",
    "Cerberus.toys\n",
    "    "
   ]
  },
  {
   "cell_type": "markdown",
   "metadata": {
    "slideshow": {
     "slide_type": "slide"
    }
   },
   "source": [
    "##### Classes are very useful!\n",
    "\n",
    "OOP is a fairly natural way of organizing how you think about your code, but don't go overboard. Sometimes achieving the kind of data/method locality required by OOP forces you to program unnaturally.\n",
    "\n",
    "It is better to do something *simply* and *naturally* than to try to shove it into a particular paradigm.\n",
    "\n"
   ]
  },
  {
   "cell_type": "code",
   "execution_count": 39,
   "metadata": {
    "collapsed": false,
    "slideshow": {
     "slide_type": "slide"
    }
   },
   "outputs": [],
   "source": [
    "# Okay... new material\n",
    "# Who remembers seeing exceptions?\n",
    "1 / 0"
   ]
  },
  {
   "cell_type": "markdown",
   "metadata": {
    "slideshow": {
     "slide_type": "slide"
    }
   },
   "source": [
    "##### Exceptions get raised in lots of circumstances\n",
    "\n",
    "Type errors, index errors, bad file read... plenty of others!\n",
    "\n",
    "How do you think they are organized?"
   ]
  },
  {
   "cell_type": "code",
   "execution_count": 32,
   "metadata": {
    "collapsed": false,
    "slideshow": {
     "slide_type": "fragment"
    }
   },
   "outputs": [],
   "source": [
    "def p():\n",
    "    pass\n",
    "p(5)"
   ]
  },
  {
   "cell_type": "code",
   "execution_count": 15,
   "metadata": {
    "collapsed": false,
    "slideshow": {
     "slide_type": "slide"
    }
   },
   "outputs": [],
   "source": [
    "def only_adds_odds(a, b):\n",
    "    if a % 2 == 0 or b % 2 == 0:\n",
    "        raise TypeError()\n",
    "    return a + b\n",
    "    \n",
    "lvs = [1, 7, 13, 28, 5]\n",
    "rvs = [9, 0, -5, 28, 59]\n",
    "\n",
    "for a, b in zip(lvs, rvs):\n",
    "    try:\n",
    "        print(only_adds_odds(a, b))\n",
    "    except:\n",
    "        print(\"One of those was even.\")"
   ]
  },
  {
   "cell_type": "code",
   "execution_count": 33,
   "metadata": {
    "collapsed": true
   },
   "outputs": [],
   "source": [
    "zip?"
   ]
  },
  {
   "cell_type": "markdown",
   "metadata": {
    "collapsed": true,
    "slideshow": {
     "slide_type": "slide"
    }
   },
   "source": [
    "#### Okay but what *are* Exceptions?\n",
    "\n",
    "Exceptions are just instances of some particular class.\n",
    "\n",
    "They hold information related to the programmatic context in which something went wrong, as well as what in particular happened."
   ]
  },
  {
   "cell_type": "markdown",
   "metadata": {
    "slideshow": {
     "slide_type": "fragment"
    }
   },
   "source": [
    "Because different *kinds* of bad things can happen, there are different classes of exceptions.\n",
    "\n",
    "Our \"I can't even.\" ValueError occurred because our function hated even numbers, but ValueErrors occur whenever a piece of code encounters an unexpected value.\n",
    "\n",
    "This is the difference between a class (TypeError) and an instance of that class (TypeError(\"Some complaint\")"
   ]
  },
  {
   "cell_type": "markdown",
   "metadata": {
    "slideshow": {
     "slide_type": "slide"
    }
   },
   "source": [
    "#### Let's Tear an Exception Apart in IPython"
   ]
  },
  {
   "cell_type": "markdown",
   "metadata": {
    "slideshow": {
     "slide_type": "slide"
    }
   },
   "source": [
    "#### Some advice\n",
    "\n",
    "We saw that we can catch the most general exception! \"except Exception:\"\n",
    "\n",
    "Don't do this! Only make handlers for things you're actually handling!\n",
    "\n",
    "To do otherwise defeats the purpose of the exceptions, to let you know something bad is happening!"
   ]
  },
  {
   "cell_type": "markdown",
   "metadata": {
    "slideshow": {
     "slide_type": "fragment"
    }
   },
   "source": [
    "#### What you should do...\n",
    "\n",
    "Use assertions!"
   ]
  },
  {
   "cell_type": "code",
   "execution_count": 17,
   "metadata": {
    "collapsed": false,
    "slideshow": {
     "slide_type": "slide"
    }
   },
   "outputs": [],
   "source": [
    "def make_sure_its_zero(a):\n",
    "    \"\"\"Ensures it's argument is zero using the \n",
    "    Python language feature, 'assert' \"\"\"\n",
    "    assert a == 0\n",
    "    \n",
    "\n",
    "def alternate(a):\n",
    "    \"\"\"Makes sure it's argument is zero \n",
    "    by directly raising an AssertionError\"\"\"\n",
    "    if a != 0:\n",
    "        raise AssertionError()\n",
    "\n",
    "make_sure_its_zero(1)"
   ]
  },
  {
   "cell_type": "markdown",
   "metadata": {
    "slideshow": {
     "slide_type": "slide"
    }
   },
   "source": [
    "#### Why Assertions?\n",
    "\n",
    "This is a good question!\n",
    "In order to really answer this adequately I want to take a step back and talk about modular program design."
   ]
  },
  {
   "cell_type": "markdown",
   "metadata": {
    "slideshow": {
     "slide_type": "fragment"
    }
   },
   "source": [
    "##### Modularization and Abstraction Management\n",
    "OOP and other programming paradigms give us ways of modularizing code and managing abstractions.\n",
    "\n",
    "You should think of OOP as a way of designing, and as a tool to be situated among others Python offers:\n",
    "\n",
    "1. Module level design\n",
    "2. Classes/OOP + Functional (we'll talk about functional next week)\n",
    "3. Functions\n",
    "4. Python builtins\n",
    "\n",
    "If you work in IPython Notebook, there is also the 'cell abstraction'\n"
   ]
  },
  {
   "cell_type": "markdown",
   "metadata": {
    "slideshow": {
     "slide_type": "slide"
    }
   },
   "source": [
    "##### Hierarchies of Scope\n",
    "Each level of this hierarchy has a different scope, but in each case it's narrower than that of the 'full' program\n",
    "\n",
    "HOWEVER\n",
    "\n",
    "Scope limitations don't exist to the computer, design abstractions only exist to benefit the *readers* and *writers* of the program\n",
    "\n",
    "You have to *assert* some set of invariants to declare these limitations of scope, and thereby restrict behavior.\n",
    "\n",
    "It's a sad reality that the space of valid computations achievable with the program you write is larger than the set you were probably trying to address! Possible bugs!"
   ]
  },
  {
   "cell_type": "markdown",
   "metadata": {
    "slideshow": {
     "slide_type": "slide"
    }
   },
   "source": [
    "##### 'Asserting' Hierarchies\n",
    "Type systems, as in Java and other statically typed languages, are one way of declaring these invariants.\n",
    "\n",
    "Asserts are also a very common way of doing this."
   ]
  },
  {
   "cell_type": "markdown",
   "metadata": {
    "slideshow": {
     "slide_type": "fragment"
    }
   },
   "source": [
    "Here are some reasonable uses of things to be checked with assertions:\n",
    "\n",
    "1. Parameter types, classes, or values\n",
    "2. Data structure invariants\n",
    "3. Presence of unintended manipulations to mutable data\n",
    "4. Reasonability of return results\n",
    "\n",
    "Do you notice anything about these in particular? (except maybe 2?)"
   ]
  },
  {
   "cell_type": "markdown",
   "metadata": {
    "slideshow": {
     "slide_type": "slide"
    }
   },
   "source": [
    "## Avoiding Errors in the First Place"
   ]
  },
  {
   "cell_type": "markdown",
   "metadata": {
    "slideshow": {
     "slide_type": "slide"
    }
   },
   "source": [
    "We don't have to deal with exceptions as much if we prevent errors from occurring in the first place!\n",
    "\n",
    "Python makes this easier than most languages, because it has a REPL:\n",
    "\n",
    "Encourages the following workflow:\n",
    "\n",
    "1. Pick a small piece of the problem\n",
    "2. Write/fix code to solve it\n",
    "3. Test it in the REPL! (Go back to 2 if necessary.)\n",
    "\n",
    "In particular... DON'T test the full system"
   ]
  },
  {
   "cell_type": "markdown",
   "metadata": {
    "collapsed": true,
    "slideshow": {
     "slide_type": "slide"
    }
   },
   "source": [
    "Given how easy it is to test code by hand in Python, there's really no excuse to write a lot of code and cross your fingers that it works\n",
    "\n",
    "If you find that you can't get to a problem quickly by playing with it in a REPL, there are lots of tools available to you find and fix issues. One beautiful one is pdb."
   ]
  },
  {
   "cell_type": "markdown",
   "metadata": {
    "slideshow": {
     "slide_type": "slide"
    }
   },
   "source": [
    "#### Review:\n",
    "\n",
    "Keep in mind that classes, modules (which are just Python files), and functions allow you to structure the code that you write.\n",
    "\n",
    "Use asserts/exceptions, hand debugging in a REPL, and pdb to figure out what went wrong\n",
    "\n",
    "Document your code to make your (and your readers') lives easier!"
   ]
  },
  {
   "cell_type": "code",
   "execution_count": null,
   "metadata": {
    "collapsed": true,
    "slideshow": {
     "slide_type": "fragment"
    }
   },
   "outputs": [],
   "source": [
    "# Classes\n",
    "class MyClass:\n",
    "    def __init__(self, ...):\n",
    "        pass\n",
    "    ...\n",
    "\n",
    "# Exceptions\n",
    "raise [some exception object] # e.g. raise ZeroDivisionError()\n",
    "\n",
    "# Undertaking a dangerous operation:\n",
    "try:\n",
    "    # some stuff here\n",
    "    pass\n",
    "except [ExceptionType] [optional: as e]:\n",
    "    # handle e\n",
    "    pass\n",
    "\n",
    "# Asserting\n",
    "assert [some boolean condition]\n",
    "\n",
    "# Documenting\n",
    "def my_fn(a, b, c):\n",
    "    \"\"\"\n",
    "    my_fn uses the numerical value provided through a and blah blah blah...\n",
    "    returns blah blah blah\n",
    "    \"\"\"\n",
    "    pass\n",
    "\n",
    "# IPython\n",
    "# Tab completion! Question mark! Exclamation point!\n",
    "\n",
    "# OPTIONAL\n",
    "# pdb\n",
    "# s, c, p, bt, %debug (IPython magic), pdb.set_trace()\n"
   ]
  },
  {
   "cell_type": "markdown",
   "metadata": {
    "slideshow": {
     "slide_type": "slide"
    }
   },
   "source": [
    "#### Next Class\n",
    "\n",
    "We have two principal goals for the next two classes\n",
    "\n",
    "1. Advanced OOP\n",
    "2. Functional programming \n",
    "\n",
    "You will see how these tools let you write less code, and instead leverage what's already built into Python!\n"
   ]
  }
 ],
 "metadata": {
  "celltoolbar": "Slideshow",
  "kernelspec": {
   "display_name": "Python 3",
   "language": "python",
   "name": "python3"
  },
  "language_info": {
   "codemirror_mode": {
    "name": "ipython",
    "version": 3
   },
   "file_extension": ".py",
   "mimetype": "text/x-python",
   "name": "python",
   "nbconvert_exporter": "python",
   "pygments_lexer": "ipython3",
   "version": "3.5.1"
  }
 },
 "nbformat": 4,
 "nbformat_minor": 0
}
