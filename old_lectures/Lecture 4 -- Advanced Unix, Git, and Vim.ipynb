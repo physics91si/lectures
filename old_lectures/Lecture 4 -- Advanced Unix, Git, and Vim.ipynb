{
 "cells": [
  {
   "cell_type": "markdown",
   "metadata": {
    "slideshow": {
     "slide_type": "slide"
    }
   },
   "source": [
    "#### Lecture 4: Advanced Unix, Introduction to Git, Vim, Assorted Topics in Python\n",
    "Welcome back!\n",
    "\n",
    "Once again we have a lot to get through today:"
   ]
  },
  {
   "cell_type": "markdown",
   "metadata": {
    "slideshow": {
     "slide_type": "fragment"
    }
   },
   "source": [
    "1. Vim\n",
    "2. Python\n",
    "  * File IO\n",
    "  * Reading Errors\n",
    "  * Python in the Shell\n",
    "3. git\n",
    "  * Practical use of git\n",
    "  * git for your labs and assignments\n",
    "  \n",
    "Optional (I made slides for you, you can go through them if you want):\n",
    "1. Unix\n",
    "  * Command structure\n",
    "  * Input and output of commands\n",
    "  * Unix philosophy\n",
    "  * Stringing commands together"
   ]
  },
  {
   "cell_type": "markdown",
   "metadata": {
    "slideshow": {
     "slide_type": "slide"
    }
   },
   "source": [
    "# Questions?"
   ]
  },
  {
   "cell_type": "code",
   "execution_count": 17,
   "metadata": {
    "collapsed": false,
    "slideshow": {
     "slide_type": "slide"
    }
   },
   "outputs": [
    {
     "name": "stdout",
     "output_type": "stream",
     "text": [
      "Let's get started. First... some review.\r\n"
     ]
    }
   ],
   "source": [
    "echo \"Let's get started. First... some review.\""
   ]
  },
  {
   "cell_type": "markdown",
   "metadata": {
    "slideshow": {
     "slide_type": "fragment"
    }
   },
   "source": [
    "So... where are we?"
   ]
  },
  {
   "cell_type": "code",
   "execution_count": 1,
   "metadata": {
    "collapsed": false,
    "slideshow": {
     "slide_type": "fragment"
    }
   },
   "outputs": [
    {
     "data": {
      "text/plain": [
       "u'/Users/Andrew/Physics-91_SI/lectures'"
      ]
     },
     "execution_count": 1,
     "metadata": {},
     "output_type": "execute_result"
    }
   ],
   "source": [
    "pwd\n"
   ]
  },
  {
   "cell_type": "markdown",
   "metadata": {
    "slideshow": {
     "slide_type": "fragment"
    }
   },
   "source": [
    "Maybe we should have a look around?"
   ]
  },
  {
   "cell_type": "code",
   "execution_count": 2,
   "metadata": {
    "collapsed": false,
    "slideshow": {
     "slide_type": "fragment"
    }
   },
   "outputs": [
    {
     "name": "stdout",
     "output_type": "stream",
     "text": [
      "Lecture 10 -- Functional Programming in Python.ipynb\r\n",
      "Lecture 10 -- Functional Programming in Python.v3.ipynb\r\n",
      "Lecture 12 -- Regular Expressions.ipynb\r\n",
      "Lecture 12 -- Regular Expressions.v3.ipynb\r\n",
      "Lecture 3 Unix Command.pdf\r\n",
      "Lecture 4 -- Advanced Unix, Git, and Vim.ipynb\r\n",
      "Lecture 4 -- Advanced Unix, Git, and Vim.v3.ipynb\r\n",
      "Lecture 4 -- Errors in Python.ipynb\r\n",
      "Lecture 4 -- Errors in Python.v3.ipynb\r\n",
      "Lecture 5 NumPy & Plotting.pdf\r\n",
      "Lecture 6--Advanced Numpy, Documentation, and Workflow.ipynb\r\n",
      "Lecture 8--Exceptions, Debugging, and Designing in the Modern World.ipynb\r\n",
      "Lecture 8--Exceptions, Debugging, and Designing in the Modern World.v3.ipynb\r\n",
      "\u001b[34mLecture 9--Advanced OOP\u001b[m\u001b[m/\r\n",
      "Lecture1.pptx\r\n",
      "Lecture2.ipynb\r\n",
      "Lecture2.v3.ipynb\r\n",
      "\u001b[31mOOP.pdf\u001b[m\u001b[m*\r\n",
      "README.md\r\n",
      "\u001b[34mlecture15_optimization\u001b[m\u001b[m/\r\n",
      "\u001b[34mlecture16_numerical_methods\u001b[m\u001b[m/\r\n"
     ]
    }
   ],
   "source": [
    "ls"
   ]
  },
  {
   "cell_type": "markdown",
   "metadata": {
    "slideshow": {
     "slide_type": "slide"
    }
   },
   "source": [
    "What if we wanted to make a folder? How about with the name \"review\"?"
   ]
  },
  {
   "cell_type": "code",
   "execution_count": 3,
   "metadata": {
    "collapsed": false,
    "slideshow": {
     "slide_type": "fragment"
    }
   },
   "outputs": [],
   "source": [
    "mkdir review"
   ]
  },
  {
   "cell_type": "markdown",
   "metadata": {
    "slideshow": {
     "slide_type": "fragment"
    }
   },
   "source": [
    "Let's go there and make a file."
   ]
  },
  {
   "cell_type": "code",
   "execution_count": null,
   "metadata": {
    "collapsed": false
   },
   "outputs": [],
   "source": []
  },
  {
   "cell_type": "markdown",
   "metadata": {
    "slideshow": {
     "slide_type": "slide"
    }
   },
   "source": [
    "And if we want to put some stuff in it? \n",
    "\n",
    "We could use emacs/another editor, but maybe there's another way to do it?"
   ]
  },
  {
   "cell_type": "code",
   "execution_count": null,
   "metadata": {
    "collapsed": true,
    "slideshow": {
     "slide_type": "fragment"
    }
   },
   "outputs": [],
   "source": []
  },
  {
   "cell_type": "markdown",
   "metadata": {
    "slideshow": {
     "slide_type": "slide"
    }
   },
   "source": [
    "#### Vimterlude\n",
    "\n",
    "Please note. I'm not going to talk more about Unix today unless time permits.\n",
    "\n",
    "However, I've put together a few more slides about more advanced Unix topics, the Unix philosophy, pipes, and the command structure. They'll go up with the rest of my slides and have lots of examples!"
   ]
  },
  {
   "cell_type": "markdown",
   "metadata": {
    "slideshow": {
     "slide_type": "slide"
    }
   },
   "source": [
    "#### Understanding Errors in Python"
   ]
  },
  {
   "cell_type": "markdown",
   "metadata": {
    "slideshow": {
     "slide_type": "slide"
    }
   },
   "source": [
    "# Git!\n",
    "\n",
    "We'll move to corn for this.\n",
    "\n",
    "I've been encouraging you all to follow along, now it is REQUIRED! We're going to be making directories for your projects and milestone submissions! \n",
    "\n",
    "Make sure you have sshed onto corn before you let me continue!"
   ]
  },
  {
   "cell_type": "markdown",
   "metadata": {
    "slideshow": {
     "slide_type": "slide"
    }
   },
   "source": [
    "## Recap for the Day\n",
    "\n",
    "We learned about a few new topics, and a few old ones in more detail:\n",
    "\n",
    "1. Vim (please choose one of Vim or Emacs and stick with it! This will really benefit you)\n",
    "  * Navigating\n",
    "  * Searching\n",
    "  * Modal/non-modal (chordal?) editors\n",
    "2. Python\n",
    "  * File IO (.write(), .readlines(), list(), with open() as _:)\n",
    "  * Errors (Location, text, type)\n",
    "  * Python in the Shell (sys.argv)\n",
    "3. git\n",
    "  * Recall how we learned about the tool through --help and man\n",
    "  * init, status, diff, add, rm, commit, remote add, config, revert...\n",
    "  * Don't try to remember everything\n",
    "  * But do remember how we found the information so you can do so later!\n",
    "\n",
    "  "
   ]
  },
  {
   "cell_type": "markdown",
   "metadata": {
    "slideshow": {
     "slide_type": "slide"
    }
   },
   "source": [
    "#### Looking Forward to next Week"
   ]
  },
  {
   "cell_type": "markdown",
   "metadata": {
    "slideshow": {
     "slide_type": "fragment"
    }
   },
   "source": [
    "###### Content\n",
    "\n",
    "1. Dataflow\n",
    "2. Using documentation\n",
    "3. numpy (matrix algebra, vectors, high performance Python)\n",
    "4. matplotlib (visualizing results!)\n",
    "\n",
    "This is a really empowering set of tools to talk about when considering Python!"
   ]
  },
  {
   "cell_type": "markdown",
   "metadata": {
    "slideshow": {
     "slide_type": "fragment"
    }
   },
   "source": [
    "#####Due for Next Week\n",
    "\n",
    "1. Make sure you finish lab 4 before class on Tuesday. You can update your submission with commit + push\n",
    "2. Milestone 2: Set up a workflow (editor, git process, Unix environment) for effective programming\n",
    "  * We will get to you with more details about what you need to turn in"
   ]
  },
  {
   "cell_type": "markdown",
   "metadata": {
    "slideshow": {
     "slide_type": "slide"
    }
   },
   "source": [
    "#### Your Exit Ticket\n",
    "\n",
    "Before you go today you have:\n",
    "\n",
    "1. Committed and pushed, lab2, lab4, project to separate respositories\n",
    "2. Understood what is due for next Tuesday (milestone 2, finishing lab 4)\n",
    "3. Filled out a short feedback questionaire (it will only take a few minutes)"
   ]
  },
  {
   "cell_type": "markdown",
   "metadata": {
    "slideshow": {
     "slide_type": "fragment"
    }
   },
   "source": [
    "Hmm... that's interesting. In order to understand this, let's talk a little bit about the Unix philosophy and command structure."
   ]
  },
  {
   "cell_type": "markdown",
   "metadata": {
    "slideshow": {
     "slide_type": "slide"
    }
   },
   "source": [
    "#### Unix Philosphy\n",
    "\n",
    "The Unix community is *extremely* opinionated about how things should work a particular way, and why.\n",
    "\n",
    "Ken Thompson, Richard Stallman, Linus Torvalds, others have a lot to say..."
   ]
  },
  {
   "cell_type": "markdown",
   "metadata": {
    "slideshow": {
     "slide_type": "fragment"
    }
   },
   "source": [
    "Sufficient to understand that Unix is composed of \"small, sharp tools\"."
   ]
  },
  {
   "cell_type": "markdown",
   "metadata": {
    "slideshow": {
     "slide_type": "fragment"
    }
   },
   "source": [
    "Have seen this already, plurality of small, simple commands:\n",
    "\n",
    "1. Navigation + File Management\n",
    "  * cd, ls\n",
    "  * touch, mkdir\n",
    "  * rm, rmdir\n",
    "  * cp, mv\n",
    "2. General Utilities\n",
    "  * cat, echo, yes, man\n",
    "3. Networking\n",
    "  * ssh (Secure SHell)\n",
    "  * scp (any guesses?)\n",
    "  "
   ]
  },
  {
   "cell_type": "markdown",
   "metadata": {
    "slideshow": {
     "slide_type": "slide"
    }
   },
   "source": [
    "Editors, which can be very complicated, are the exception rather than the rule."
   ]
  },
  {
   "cell_type": "markdown",
   "metadata": {
    "slideshow": {
     "slide_type": "slide"
    }
   },
   "source": [
    "#### Command Structure\n",
    "\n",
    "A Unix command is (with a few exceptions) a space separated list of words.\n",
    "\n",
    "1. The first word is a program (ls, cd, cp, mv, cat, echo, ssh...)\n",
    "2. The remaining words are arguments to the program\n",
    "\n",
    "But there are still two hidden pieces!\n"
   ]
  },
  {
   "cell_type": "markdown",
   "metadata": {
    "slideshow": {
     "slide_type": "fragment"
    }
   },
   "source": [
    "Question: If the commands we've been talking about are separate programs\\*, then how do they know how to print stuff to the terminal?\n",
    "\n",
    "\\* some are, some are builtins (ones that change the shell state are builtins, others are built-in for performance reasons)"
   ]
  },
  {
   "cell_type": "markdown",
   "metadata": {
    "slideshow": {
     "slide_type": "slide"
    }
   },
   "source": [
    "Turns out each program that gets run also has an input and output (also an error stream, we can ignore it), called\n",
    "\n",
    "1. stdin -- the standard input\n",
    "2. stdout -- the standard output\n"
   ]
  },
  {
   "cell_type": "markdown",
   "metadata": {
    "slideshow": {
     "slide_type": "fragment"
    }
   },
   "source": [
    "Unix programs generally process data from their stdin, and produce results to their stdout."
   ]
  },
  {
   "cell_type": "markdown",
   "metadata": {
    "slideshow": {
     "slide_type": "fragment"
    }
   },
   "source": [
    "How might we get more complicated behavior out of the basic commands? \n",
    "\n",
    "Maybe we can do part of the computation with one command, and the rest using the result of the first..."
   ]
  },
  {
   "cell_type": "markdown",
   "metadata": {
    "slideshow": {
     "slide_type": "slide"
    }
   },
   "source": [
    "#### Redirection and Piping"
   ]
  },
  {
   "cell_type": "markdown",
   "metadata": {
    "slideshow": {
     "slide_type": "fragment"
    }
   },
   "source": [
    "Let's imagine a simple problem. Counting the number of files and directories in a given directory."
   ]
  },
  {
   "cell_type": "markdown",
   "metadata": {
    "slideshow": {
     "slide_type": "fragment"
    }
   },
   "source": [
    "Have two tools:\n",
    "\n",
    "1. ls -l\n",
    "  * ignores stdin, puts list of files and folders to stdout\n",
    "2. wc (word count, pretty self descriptive)\n",
    "  * counts the number of lines, words, characters, in its stdin"
   ]
  },
  {
   "cell_type": "markdown",
   "metadata": {
    "slideshow": {
     "slide_type": "fragment"
    }
   },
   "source": [
    "If we could feed the stdout for ls to the stdin of wc, we would be done!\n"
   ]
  },
  {
   "cell_type": "code",
   "execution_count": null,
   "metadata": {
    "collapsed": false,
    "slideshow": {
     "slide_type": "fragment"
    }
   },
   "outputs": [],
   "source": [
    "ls -l | wc"
   ]
  },
  {
   "cell_type": "markdown",
   "metadata": {
    "slideshow": {
     "slide_type": "slide"
    }
   },
   "source": [
    "#### Unix Philosophy Redux\n",
    "\n",
    "The Unix philosophy of small, sharp tools is enabled by composing programs into pipelines"
   ]
  },
  {
   "cell_type": "markdown",
   "metadata": {
    "slideshow": {
     "slide_type": "fragment"
    }
   },
   "source": [
    "Let's see how useful this can be, but first, I'll introduce \"grep\".\n",
    "\n",
    "How could we find more about grep?"
   ]
  },
  {
   "cell_type": "markdown",
   "metadata": {
    "slideshow": {
     "slide_type": "fragment"
    }
   },
   "source": [
    "man grep!"
   ]
  },
  {
   "cell_type": "markdown",
   "metadata": {
    "slideshow": {
     "slide_type": "fragment"
    }
   },
   "source": [
    "Any guesses as to what file grep defaults to?\n",
    "\n",
    "stdin!"
   ]
  },
  {
   "cell_type": "markdown",
   "metadata": {
    "slideshow": {
     "slide_type": "slide"
    }
   },
   "source": [
    "#### Example Use Case, Lotsa Pipes\n",
    "\n",
    "Let's look at how many running processes are associated with Safari."
   ]
  },
  {
   "cell_type": "code",
   "execution_count": 30,
   "metadata": {
    "collapsed": false,
    "slideshow": {
     "slide_type": "fragment"
    }
   },
   "outputs": [
    {
     "name": "stdout",
     "output_type": "stream",
     "text": [
      "       6      49    1133\r\n"
     ]
    }
   ],
   "source": [
    "# get all proccesses -> filter by \"safari\" -> remove the one which is \"grep for safari\" -> word count\n",
    "ps -ef | grep \"Safari\" | grep -v grep | wc"
   ]
  },
  {
   "cell_type": "markdown",
   "metadata": {
    "slideshow": {
     "slide_type": "fragment"
    }
   },
   "source": [
    "What if we wanted to quit everything associated with Safari?"
   ]
  },
  {
   "cell_type": "code",
   "execution_count": 27,
   "metadata": {
    "collapsed": false,
    "slideshow": {
     "slide_type": "fragment"
    }
   },
   "outputs": [
    {
     "name": "stdout",
     "output_type": "stream",
     "text": [
      "342\r\n",
      "384\r\n",
      "534\r\n",
      "1481\r\n",
      "3193\r\n",
      "3309\r\n"
     ]
    }
   ],
   "source": [
    "# here's all the processes, you could feed this to 'kill' by using 'xargs'\n",
    "ps -ef | grep \"Safari\" | grep -v grep | awk '{print $2}'"
   ]
  },
  {
   "cell_type": "markdown",
   "metadata": {
    "slideshow": {
     "slide_type": "slide"
    }
   },
   "source": [
    "#### Redirecting at the end of the line\n",
    "\n",
    "What if we want the output of our pipeline to go somewhere other than the display?\n",
    "\n",
    "Common cases are discarding it, and sending it to a file for safekeeping."
   ]
  },
  {
   "cell_type": "code",
   "execution_count": 23,
   "metadata": {
    "collapsed": false,
    "slideshow": {
     "slide_type": "fragment"
    }
   },
   "outputs": [
    {
     "name": "stdout",
     "output_type": "stream",
     "text": []
    }
   ],
   "source": [
    "# Let's keep the list of files in a new file, called \"file_list\"\n",
    "ll > file_list"
   ]
  },
  {
   "cell_type": "code",
   "execution_count": null,
   "metadata": {
    "collapsed": true,
    "slideshow": {
     "slide_type": "fragment"
    }
   },
   "outputs": [],
   "source": [
    "# Tossing out output. Yes it's a contrived example. yes prints an infinite stream of y's, /dev/null is a black hole\n",
    "yes > /dev/null"
   ]
  }
 ],
 "metadata": {
  "celltoolbar": "Slideshow",
  "kernelspec": {
   "display_name": "Python 3",
   "language": "python",
   "name": "python3"
  },
  "language_info": {
   "codemirror_mode": {
    "name": "ipython",
    "version": 3
   },
   "file_extension": ".py",
   "mimetype": "text/x-python",
   "name": "python",
   "nbconvert_exporter": "python",
   "pygments_lexer": "ipython3",
   "version": "3.5.1"
  }
 },
 "nbformat": 4,
 "nbformat_minor": 0
}
