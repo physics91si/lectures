{
 "metadata": {
  "celltoolbar": "Slideshow",
  "kernelspec": {
   "display_name": "Bash",
   "language": "bash",
   "name": "bash"
  },
  "language_info": {
   "codemirror_mode": "shell",
   "file_extension": ".sh",
   "mimetype": "text/x-sh",
   "name": "bash"
  },
  "name": ""
 },
 "nbformat": 3,
 "nbformat_minor": 0,
 "worksheets": [
  {
   "cells": [
    {
     "cell_type": "markdown",
     "metadata": {
      "slideshow": {
       "slide_type": "slide"
      }
     },
     "source": [
      "#### Lecture 4: Advanced Unix, Introduction to Git, Vim, Assorted Topics in Python\n",
      "Welcome back!\n",
      "\n",
      "Once again we have a lot to get through today:"
     ]
    },
    {
     "cell_type": "markdown",
     "metadata": {
      "slideshow": {
       "slide_type": "fragment"
      }
     },
     "source": [
      "1. Vim\n",
      "2. Python\n",
      "  * File IO\n",
      "  * Reading Errors\n",
      "  * Python in the Shell\n",
      "3. git\n",
      "  * Practical use of git\n",
      "  * git for your labs and assignments\n",
      "  \n",
      "Optional (I made slides for you, you can go through them if you want):\n",
      "1. Unix\n",
      "  * Command structure\n",
      "  * Input and output of commands\n",
      "  * Unix philosophy\n",
      "  * Stringing commands together"
     ]
    },
    {
     "cell_type": "heading",
     "level": 1,
     "metadata": {
      "slideshow": {
       "slide_type": "slide"
      }
     },
     "source": [
      "Questions?"
     ]
    },
    {
     "cell_type": "code",
     "collapsed": false,
     "input": [
      "echo \"Let's get started. First... some review.\""
     ],
     "language": "python",
     "metadata": {
      "slideshow": {
       "slide_type": "slide"
      }
     },
     "outputs": [
      {
       "output_type": "stream",
       "stream": "stdout",
       "text": [
        "Let's get started. First... some review.\r\n"
       ]
      }
     ],
     "prompt_number": 17
    },
    {
     "cell_type": "markdown",
     "metadata": {
      "slideshow": {
       "slide_type": "fragment"
      }
     },
     "source": [
      "So... where are we?"
     ]
    },
    {
     "cell_type": "code",
     "collapsed": false,
     "input": [
      "pwd"
     ],
     "language": "python",
     "metadata": {
      "slideshow": {
       "slide_type": "fragment"
      }
     },
     "outputs": [
      {
       "output_type": "stream",
       "stream": "stdout",
       "text": [
        "/Users/chstansbury/teaching/91si\r\n"
       ]
      }
     ],
     "prompt_number": 3
    },
    {
     "cell_type": "markdown",
     "metadata": {
      "slideshow": {
       "slide_type": "fragment"
      }
     },
     "source": [
      "Maybe we should have a look around?"
     ]
    },
    {
     "cell_type": "code",
     "collapsed": false,
     "input": [
      "ls"
     ],
     "language": "python",
     "metadata": {
      "slideshow": {
       "slide_type": "fragment"
      }
     },
     "outputs": [
      {
       "output_type": "stream",
       "stream": "stdout",
       "text": [
        "Backup.ipynb\r\n",
        "Lecture 4 -- Advanced Unix, Git, and Vim.ipynb\r\n",
        "Lecture 4 -- Errors in Python.ipynb\r\n",
        "Lecture2.ipynb\r\n",
        "Lecture2_backup.ipynb\r\n",
        "RISE\r\n",
        "TestLecture.ipynb\r\n",
        "TestLecture.slides.html\r\n",
        "Untitled0.ipynb\r\n",
        "handouts\r\n",
        "lab2\r\n",
        "lab3\r\n",
        "lectures\r\n",
        "review\r\n"
       ]
      }
     ],
     "prompt_number": 4
    },
    {
     "cell_type": "markdown",
     "metadata": {
      "slideshow": {
       "slide_type": "slide"
      }
     },
     "source": [
      "What if we wanted to make a folder? How about with the name \"review\"?"
     ]
    },
    {
     "cell_type": "code",
     "collapsed": false,
     "input": [
      "mkdir review"
     ],
     "language": "python",
     "metadata": {
      "slideshow": {
       "slide_type": "fragment"
      }
     },
     "outputs": [
      {
       "output_type": "stream",
       "stream": "stdout",
       "text": [
        "mkdir: review: File exists\r\n"
       ]
      }
     ],
     "prompt_number": 5
    },
    {
     "cell_type": "markdown",
     "metadata": {
      "slideshow": {
       "slide_type": "fragment"
      }
     },
     "source": [
      "Let's go there and make a file."
     ]
    },
    {
     "cell_type": "code",
     "collapsed": false,
     "input": [
      "\n"
     ],
     "language": "python",
     "metadata": {},
     "outputs": [
      {
       "output_type": "stream",
       "stream": "stdout",
       "text": []
      }
     ],
     "prompt_number": 6
    },
    {
     "cell_type": "markdown",
     "metadata": {
      "slideshow": {
       "slide_type": "slide"
      }
     },
     "source": [
      "And if we want to put some stuff in it? \n",
      "\n",
      "We could use emacs/another editor, but maybe there's another way to do it?"
     ]
    },
    {
     "cell_type": "code",
     "collapsed": true,
     "input": [],
     "language": "python",
     "metadata": {
      "slideshow": {
       "slide_type": "fragment"
      }
     },
     "outputs": [],
     "prompt_number": null
    },
    {
     "cell_type": "markdown",
     "metadata": {
      "slideshow": {
       "slide_type": "slide"
      }
     },
     "source": [
      "#### Vimterlude\n",
      "\n",
      "Please note. I'm not going to talk more about Unix today unless time permits.\n",
      "\n",
      "However, I've put together a few more slides about more advanced Unix topics, the Unix philosophy, pipes, and the command structure. They'll go up with the rest of my slides and have lots of examples!"
     ]
    },
    {
     "cell_type": "heading",
     "level": 4,
     "metadata": {
      "slideshow": {
       "slide_type": "slide"
      }
     },
     "source": [
      "Understanding Errors in Python"
     ]
    },
    {
     "cell_type": "markdown",
     "metadata": {
      "slideshow": {
       "slide_type": "slide"
      }
     },
     "source": [
      "# Git!\n",
      "\n",
      "We'll move to corn for this.\n",
      "\n",
      "I've been encouraging you all to follow along, now it is REQUIRED! We're going to be making directories for your projects and milestone submissions! \n",
      "\n",
      "Make sure you have sshed onto corn before you let me continue!"
     ]
    },
    {
     "cell_type": "markdown",
     "metadata": {
      "slideshow": {
       "slide_type": "slide"
      }
     },
     "source": [
      "## Recap for the Day\n",
      "\n",
      "We learned about a few new topics, and a few old ones in more detail:\n",
      "\n",
      "1. Vim (please choose one of Vim or Emacs and stick with it! This will really benefit you)\n",
      "  * Navigating\n",
      "  * Searching\n",
      "  * Modal/non-modal (chordal?) editors\n",
      "2. Python\n",
      "  * File IO (.write(), .readlines(), list(), with open() as _:)\n",
      "  * Errors (Location, text, type)\n",
      "  * Python in the Shell (sys.argv)\n",
      "3. git\n",
      "  * Recall how we learned about the tool through --help and man\n",
      "  * init, status, diff, add, rm, commit, remote add, config, revert...\n",
      "  * Don't try to remember everything\n",
      "  * But do remember how we found the information so you can do so later!\n",
      "\n",
      "  "
     ]
    },
    {
     "cell_type": "heading",
     "level": 4,
     "metadata": {
      "slideshow": {
       "slide_type": "slide"
      }
     },
     "source": [
      "Looking Forward to next Week"
     ]
    },
    {
     "cell_type": "markdown",
     "metadata": {
      "slideshow": {
       "slide_type": "fragment"
      }
     },
     "source": [
      "###### Content\n",
      "\n",
      "1. Dataflow\n",
      "2. Using documentation\n",
      "3. numpy (matrix algebra, vectors, high performance Python)\n",
      "4. matplotlib (visualizing results!)\n",
      "\n",
      "This is a really empowering set of tools to talk about when considering Python!"
     ]
    },
    {
     "cell_type": "markdown",
     "metadata": {
      "slideshow": {
       "slide_type": "fragment"
      }
     },
     "source": [
      "#####Due for Next Week\n",
      "\n",
      "1. Make sure you finish lab 4 before class on Tuesday. You can update your submission with commit + push\n",
      "2. Milestone 2: Set up a workflow (editor, git process, Unix environment) for effective programming\n",
      "  * We will get to you with more details about what you need to turn in"
     ]
    },
    {
     "cell_type": "markdown",
     "metadata": {
      "slideshow": {
       "slide_type": "slide"
      }
     },
     "source": [
      "#### Your Exit Ticket\n",
      "\n",
      "Before you go today you have:\n",
      "\n",
      "1. Committed and pushed, lab2, lab4, project to separate respositories\n",
      "2. Understood what is due for next Tuesday (milestone 2, finishing lab 4)\n",
      "3. Filled out a short feedback questionaire (it will only take a few minutes)"
     ]
    },
    {
     "cell_type": "markdown",
     "metadata": {
      "slideshow": {
       "slide_type": "fragment"
      }
     },
     "source": [
      "Hmm... that's interesting. In order to understand this, let's talk a little bit about the Unix philosophy and command structure."
     ]
    },
    {
     "cell_type": "markdown",
     "metadata": {
      "slideshow": {
       "slide_type": "slide"
      }
     },
     "source": [
      "#### Unix Philosphy\n",
      "\n",
      "The Unix community is *extremely* opinionated about how things should work a particular way, and why.\n",
      "\n",
      "Ken Thompson, Richard Stallman, Linus Torvalds, others have a lot to say..."
     ]
    },
    {
     "cell_type": "markdown",
     "metadata": {
      "slideshow": {
       "slide_type": "fragment"
      }
     },
     "source": [
      "Sufficient to understand that Unix is composed of \"small, sharp tools\"."
     ]
    },
    {
     "cell_type": "markdown",
     "metadata": {
      "slideshow": {
       "slide_type": "fragment"
      }
     },
     "source": [
      "Have seen this already, plurality of small, simple commands:\n",
      "\n",
      "1. Navigation + File Management\n",
      "  * cd, ls\n",
      "  * touch, mkdir\n",
      "  * rm, rmdir\n",
      "  * cp, mv\n",
      "2. General Utilities\n",
      "  * cat, echo, yes, man\n",
      "3. Networking\n",
      "  * ssh (Secure SHell)\n",
      "  * scp (any guesses?)\n",
      "  "
     ]
    },
    {
     "cell_type": "markdown",
     "metadata": {
      "slideshow": {
       "slide_type": "slide"
      }
     },
     "source": [
      "Editors, which can be very complicated, are the exception rather than the rule."
     ]
    },
    {
     "cell_type": "markdown",
     "metadata": {
      "slideshow": {
       "slide_type": "slide"
      }
     },
     "source": [
      "#### Command Structure\n",
      "\n",
      "A Unix command is (with a few exceptions) a space separated list of words.\n",
      "\n",
      "1. The first word is a program (ls, cd, cp, mv, cat, echo, ssh...)\n",
      "2. The remaining words are arguments to the program\n",
      "\n",
      "But there are still two hidden pieces!\n"
     ]
    },
    {
     "cell_type": "markdown",
     "metadata": {
      "slideshow": {
       "slide_type": "fragment"
      }
     },
     "source": [
      "Question: If the commands we've been talking about are separate programs\\*, then how do they know how to print stuff to the terminal?\n",
      "\n",
      "\\* some are, some are builtins (ones that change the shell state are builtins, others are built-in for performance reasons)"
     ]
    },
    {
     "cell_type": "markdown",
     "metadata": {
      "slideshow": {
       "slide_type": "slide"
      }
     },
     "source": [
      "Turns out each program that gets run also has an input and output (also an error stream, we can ignore it), called\n",
      "\n",
      "1. stdin -- the standard input\n",
      "2. stdout -- the standard output\n"
     ]
    },
    {
     "cell_type": "markdown",
     "metadata": {
      "slideshow": {
       "slide_type": "fragment"
      }
     },
     "source": [
      "Unix programs generally process data from their stdin, and produce results to their stdout."
     ]
    },
    {
     "cell_type": "markdown",
     "metadata": {
      "slideshow": {
       "slide_type": "fragment"
      }
     },
     "source": [
      "How might we get more complicated behavior out of the basic commands? \n",
      "\n",
      "Maybe we can do part of the computation with one command, and the rest using the result of the first..."
     ]
    },
    {
     "cell_type": "heading",
     "level": 4,
     "metadata": {
      "slideshow": {
       "slide_type": "slide"
      }
     },
     "source": [
      "Redirection and Piping"
     ]
    },
    {
     "cell_type": "markdown",
     "metadata": {
      "slideshow": {
       "slide_type": "fragment"
      }
     },
     "source": [
      "Let's imagine a simple problem. Counting the number of files and directories in a given directory."
     ]
    },
    {
     "cell_type": "markdown",
     "metadata": {
      "slideshow": {
       "slide_type": "fragment"
      }
     },
     "source": [
      "Have two tools:\n",
      "\n",
      "1. ls -l\n",
      "  * ignores stdin, puts list of files and folders to stdout\n",
      "2. wc (word count, pretty self descriptive)\n",
      "  * counts the number of lines, words, characters, in its stdin"
     ]
    },
    {
     "cell_type": "markdown",
     "metadata": {
      "slideshow": {
       "slide_type": "fragment"
      }
     },
     "source": [
      "If we could feed the stdout for ls to the stdin of wc, we would be done!\n"
     ]
    },
    {
     "cell_type": "code",
     "collapsed": false,
     "input": [
      "ls -l | wc"
     ],
     "language": "python",
     "metadata": {
      "slideshow": {
       "slide_type": "fragment"
      }
     },
     "outputs": [],
     "prompt_number": null
    },
    {
     "cell_type": "markdown",
     "metadata": {
      "slideshow": {
       "slide_type": "slide"
      }
     },
     "source": [
      "#### Unix Philosophy Redux\n",
      "\n",
      "The Unix philosophy of small, sharp tools is enabled by composing programs into pipelines"
     ]
    },
    {
     "cell_type": "markdown",
     "metadata": {
      "slideshow": {
       "slide_type": "fragment"
      }
     },
     "source": [
      "Let's see how useful this can be, but first, I'll introduce \"grep\".\n",
      "\n",
      "How could we find more about grep?"
     ]
    },
    {
     "cell_type": "markdown",
     "metadata": {
      "slideshow": {
       "slide_type": "fragment"
      }
     },
     "source": [
      "man grep!"
     ]
    },
    {
     "cell_type": "markdown",
     "metadata": {
      "slideshow": {
       "slide_type": "fragment"
      }
     },
     "source": [
      "Any guesses as to what file grep defaults to?\n",
      "\n",
      "stdin!"
     ]
    },
    {
     "cell_type": "markdown",
     "metadata": {
      "slideshow": {
       "slide_type": "slide"
      }
     },
     "source": [
      "#### Example Use Case, Lotsa Pipes\n",
      "\n",
      "Let's look at how many running processes are associated with Safari."
     ]
    },
    {
     "cell_type": "code",
     "collapsed": false,
     "input": [
      "# get all proccesses -> filter by \"safari\" -> remove the one which is \"grep for safari\" -> word count\n",
      "ps -ef | grep \"Safari\" | grep -v grep | wc"
     ],
     "language": "python",
     "metadata": {
      "slideshow": {
       "slide_type": "fragment"
      }
     },
     "outputs": [
      {
       "output_type": "stream",
       "stream": "stdout",
       "text": [
        "       6      49    1133\r\n"
       ]
      }
     ],
     "prompt_number": 30
    },
    {
     "cell_type": "markdown",
     "metadata": {
      "slideshow": {
       "slide_type": "fragment"
      }
     },
     "source": [
      "What if we wanted to quit everything associated with Safari?"
     ]
    },
    {
     "cell_type": "code",
     "collapsed": false,
     "input": [
      "# here's all the processes, you could feed this to 'kill' by using 'xargs'\n",
      "ps -ef | grep \"Safari\" | grep -v grep | awk '{print $2}'"
     ],
     "language": "python",
     "metadata": {
      "slideshow": {
       "slide_type": "fragment"
      }
     },
     "outputs": [
      {
       "output_type": "stream",
       "stream": "stdout",
       "text": [
        "342\r\n",
        "384\r\n",
        "534\r\n",
        "1481\r\n",
        "3193\r\n",
        "3309\r\n"
       ]
      }
     ],
     "prompt_number": 27
    },
    {
     "cell_type": "markdown",
     "metadata": {
      "slideshow": {
       "slide_type": "slide"
      }
     },
     "source": [
      "#### Redirecting at the end of the line\n",
      "\n",
      "What if we want the output of our pipeline to go somewhere other than the display?\n",
      "\n",
      "Common cases are discarding it, and sending it to a file for safekeeping."
     ]
    },
    {
     "cell_type": "code",
     "collapsed": false,
     "input": [
      "# Let's keep the list of files in a new file, called \"file_list\"\n",
      "ll > file_list"
     ],
     "language": "python",
     "metadata": {
      "slideshow": {
       "slide_type": "fragment"
      }
     },
     "outputs": [
      {
       "output_type": "stream",
       "stream": "stdout",
       "text": []
      }
     ],
     "prompt_number": 23
    },
    {
     "cell_type": "code",
     "collapsed": true,
     "input": [
      "# Tossing out output. Yes it's a contrived example. yes prints an infinite stream of y's, /dev/null is a black hole\n",
      "yes > /dev/null"
     ],
     "language": "python",
     "metadata": {
      "slideshow": {
       "slide_type": "fragment"
      }
     },
     "outputs": [],
     "prompt_number": null
    }
   ],
   "metadata": {}
  }
 ]
}