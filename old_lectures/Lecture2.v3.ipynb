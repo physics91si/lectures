{
 "cells": [
  {
   "cell_type": "code",
   "execution_count": 1,
   "metadata": {
    "collapsed": true,
    "slideshow": {
     "slide_type": "skip"
    }
   },
   "outputs": [],
   "source": [
    "from IPython.display import clear_output"
   ]
  },
  {
   "cell_type": "markdown",
   "metadata": {
    "slideshow": {
     "slide_type": "slide"
    }
   },
   "source": [
    "#### Lecture 2: Advanced Python Data Structures + Processing\n",
    "Welcome back!\n",
    "\n",
    "We've got a lot lined up for today:\n",
    "\n",
    "\n"
   ]
  },
  {
   "cell_type": "markdown",
   "metadata": {
    "slideshow": {
     "slide_type": "fragment"
    }
   },
   "source": [
    "1. Advanced Types\n",
    "2. Data Structures\n",
    "3. Advanced Data Processing\n",
    "4. IPython Notebook Introduction"
   ]
  },
  {
   "cell_type": "markdown",
   "metadata": {
    "slideshow": {
     "slide_type": "slide"
    }
   },
   "source": [
    "####Feel free to follow along and play with the examples in lecture.\n",
    "\n",
    "You can use \n",
    "2. repl.it\n",
    "3. Python at the command line\n"
   ]
  },
  {
   "cell_type": "markdown",
   "metadata": {
    "slideshow": {
     "slide_type": "slide"
    }
   },
   "source": [
    "#### Let's take a look back first\n",
    "\n",
    "We covered a lot of Tuesday"
   ]
  },
  {
   "cell_type": "markdown",
   "metadata": {
    "slideshow": {
     "slide_type": "fragment"
    }
   },
   "source": [
    "Questions from lecture or lab?"
   ]
  },
  {
   "cell_type": "code",
   "execution_count": 6,
   "metadata": {
    "collapsed": false,
    "scrolled": true,
    "slideshow": {
     "slide_type": "slide"
    }
   },
   "outputs": [
    {
     "name": "stdout",
     "output_type": "stream",
     "text": [
      "0\n"
     ]
    }
   ],
   "source": [
    "# What is this going to do?\n",
    "\n",
    "a, b = 2, 5   # Use your intuition!\n",
    "print(a // b) # I use Python 3, // means / for you guys! \n",
    "              # Also my prints have ()'s. They're the same otherwise."
   ]
  },
  {
   "cell_type": "code",
   "execution_count": 7,
   "metadata": {
    "collapsed": false,
    "slideshow": {
     "slide_type": "fragment"
    }
   },
   "outputs": [
    {
     "name": "stdout",
     "output_type": "stream",
     "text": [
      "<class 'int'>\n"
     ]
    }
   ],
   "source": [
    "print(type(a))"
   ]
  },
  {
   "cell_type": "code",
   "execution_count": 12,
   "metadata": {
    "collapsed": false,
    "slideshow": {
     "slide_type": "fragment"
    }
   },
   "outputs": [],
   "source": [
    "# How to get 2/5 not to be 0? Maybe want a to be something other than int?"
   ]
  },
  {
   "cell_type": "code",
   "execution_count": 8,
   "metadata": {
    "collapsed": false,
    "slideshow": {
     "slide_type": "slide"
    }
   },
   "outputs": [
    {
     "name": "stdout",
     "output_type": "stream",
     "text": [
      "0\n",
      "1\n",
      "4\n",
      "9\n",
      "16\n",
      "25\n",
      "36\n",
      "49\n",
      "64\n",
      "81\n"
     ]
    }
   ],
   "source": [
    "# And this? I want to print out the sequence 0, 1, 4, 9, 16...\n",
    "\n",
    "for n in range(10):\n",
    "    sq = n * n\n",
    "    print(sq)\n"
   ]
  },
  {
   "cell_type": "markdown",
   "metadata": {
    "slideshow": {
     "slide_type": "slide"
    }
   },
   "source": [
    "#### You Guys Discovered a Lot During Lab!\n",
    "\n",
    "Here's an incomplete list of the things people asked us about"
   ]
  },
  {
   "cell_type": "code",
   "execution_count": 1,
   "metadata": {
    "collapsed": false,
    "slideshow": {
     "slide_type": "fragment"
    }
   },
   "outputs": [
    {
     "name": "stdout",
     "output_type": "stream",
     "text": [
      "6\n"
     ]
    }
   ],
   "source": [
    "def next_number(n):\n",
    "    n += 1\n",
    "    return n\n",
    "\n",
    "print(next_number(5))"
   ]
  },
  {
   "cell_type": "code",
   "execution_count": 9,
   "metadata": {
    "collapsed": false,
    "slideshow": {
     "slide_type": "slide"
    }
   },
   "outputs": [
    {
     "data": {
      "text/plain": [
       "float"
      ]
     },
     "execution_count": 9,
     "metadata": {},
     "output_type": "execute_result"
    }
   ],
   "source": [
    "type(5.0)"
   ]
  },
  {
   "cell_type": "code",
   "execution_count": null,
   "metadata": {
    "collapsed": true,
    "slideshow": {
     "slide_type": "fragment"
    }
   },
   "outputs": [],
   "source": [
    "double(5) == 5.0# Python uses == for equality tests"
   ]
  },
  {
   "cell_type": "code",
   "execution_count": 10,
   "metadata": {
    "collapsed": false,
    "slideshow": {
     "slide_type": "fragment"
    }
   },
   "outputs": [
    {
     "name": "stdout",
     "output_type": "stream",
     "text": [
      "0 10715086071862673209484250490600018105614048117055336074437503883703510511249361224931983788156958581275946729175531468251871452856923140435984577574698574803934567774824230985421074605062371141877954182153046474983581941267398767559165543946077062914571196477686542167660429831652624386837205668069376 <class 'int'>\n"
     ]
    }
   ],
   "source": [
    "integer, big_integer, decimal, complex_number = 0, 2**(1000), 3.14159, 1 + 1j\n",
    "print(integer, big_integer, type(integer))"
   ]
  },
  {
   "cell_type": "code",
   "execution_count": 11,
   "metadata": {
    "collapsed": false,
    "slideshow": {
     "slide_type": "fragment"
    }
   },
   "outputs": [
    {
     "name": "stdout",
     "output_type": "stream",
     "text": [
      "3.14159 <class 'float'>\n"
     ]
    }
   ],
   "source": [
    "print(decimal, type(decimal))"
   ]
  },
  {
   "cell_type": "code",
   "execution_count": 12,
   "metadata": {
    "collapsed": false,
    "slideshow": {
     "slide_type": "fragment"
    }
   },
   "outputs": [
    {
     "name": "stdout",
     "output_type": "stream",
     "text": [
      "(1+1j) <class 'complex'>\n"
     ]
    }
   ],
   "source": [
    "print(complex_number, type(complex_number))"
   ]
  },
  {
   "cell_type": "markdown",
   "metadata": {
    "slideshow": {
     "slide_type": "slide"
    }
   },
   "source": [
    "### Administrivia\n",
    "\n",
    "Lectures will be made available shortly after the session on the day they are given.\n",
    "\n",
    "Please read the syllabus before next Tuesday."
   ]
  },
  {
   "cell_type": "markdown",
   "metadata": {
    "slideshow": {
     "slide_type": "slide"
    }
   },
   "source": [
    "### Learning Goals for Today\n",
    "\n",
    "Yesterday we got a taste of Python by looking at numerics, types, iteration, functions, and conditionals.\n",
    "\n",
    "Today we are going to see a more advanced side of Python data structures and the organization of Python programs.\n"
   ]
  },
  {
   "cell_type": "markdown",
   "metadata": {
    "slideshow": {
     "slide_type": "fragment"
    }
   },
   "source": [
    "#### High Level Priorities\n",
    "\n",
    "1. Write and understand more complicated Python programs, using functions to organize code.\n",
    "2. Learn about more advanced types and data, and how they contrast to Java.\n",
    "3. Understand that effective programming in any context is about workflow and design. We'll be talking a little bit about workflow today through IPython/git.\n",
    "4. Build intuition for Python and think of Python as an interactive system."
   ]
  },
  {
   "cell_type": "markdown",
   "metadata": {
    "slideshow": {
     "slide_type": "slide"
    }
   },
   "source": [
    "### In the Context of the Four Big Course \"What\"s\n",
    "\n",
    "#####What's Up?\n",
    "Dataflow, Workflow, Design and Structure\n",
    "\n",
    "#####What's Next?\n",
    "Python Syntax and what you'll actually type"
   ]
  },
  {
   "cell_type": "markdown",
   "metadata": {
    "slideshow": {
     "slide_type": "slide"
    }
   },
   "source": [
    "### The Zen of Python\n",
    "\n",
    "Python is a very opinionated language. \n",
    "\n",
    "Understanding it's opinions will make it easier to understand it when it disagrees, and to be able to tell it what you mean to say."
   ]
  },
  {
   "cell_type": "code",
   "execution_count": 13,
   "metadata": {
    "collapsed": false,
    "slideshow": {
     "slide_type": "fragment"
    }
   },
   "outputs": [
    {
     "name": "stdout",
     "output_type": "stream",
     "text": [
      "The Zen of Python, by Tim Peters\n",
      "\n",
      "Beautiful is better than ugly.\n",
      "Explicit is better than implicit.\n",
      "Simple is better than complex.\n",
      "Complex is better than complicated.\n",
      "Flat is better than nested.\n",
      "Sparse is better than dense.\n",
      "Readability counts.\n",
      "Special cases aren't special enough to break the rules.\n",
      "Although practicality beats purity.\n",
      "Errors should never pass silently.\n",
      "Unless explicitly silenced.\n",
      "In the face of ambiguity, refuse the temptation to guess.\n",
      "There should be one-- and preferably only one --obvious way to do it.\n",
      "Although that way may not be obvious at first unless you're Dutch.\n",
      "Now is better than never.\n",
      "Although never is often better than *right* now.\n",
      "If the implementation is hard to explain, it's a bad idea.\n",
      "If the implementation is easy to explain, it may be a good idea.\n",
      "Namespaces are one honking great idea -- let's do more of those!\n"
     ]
    }
   ],
   "source": [
    "import this"
   ]
  },
  {
   "cell_type": "markdown",
   "metadata": {
    "slideshow": {
     "slide_type": "slide"
    }
   },
   "source": [
    "As we go through the lecture, try to keep a few of these in mind:\n",
    "\n",
    "1. Simple is better than complex.\n",
    "2. Special cases aren't special enough to break the rules.\n",
    "3. There should be one-- and preferably onle one --obvious way to do it.\n",
    "\n",
    "These maxims are powerful rules for helping you keep a level head as you explore Python."
   ]
  },
  {
   "cell_type": "markdown",
   "metadata": {
    "slideshow": {
     "slide_type": "slide"
    }
   },
   "source": [
    "## Some Advanced Types"
   ]
  },
  {
   "cell_type": "markdown",
   "metadata": {
    "slideshow": {
     "slide_type": "slide"
    }
   },
   "source": [
    "#### Complex Numbers in Python"
   ]
  },
  {
   "cell_type": "code",
   "execution_count": 3,
   "metadata": {
    "collapsed": true,
    "slideshow": {
     "slide_type": "fragment"
    }
   },
   "outputs": [],
   "source": [
    "# Python has complex numbers:\n",
    "\n",
    "z = 3 + 4j # uses j instead of i, Mathematicians beware!"
   ]
  },
  {
   "cell_type": "code",
   "execution_count": 4,
   "metadata": {
    "collapsed": false,
    "slideshow": {
     "slide_type": "fragment"
    }
   },
   "outputs": [
    {
     "data": {
      "text/plain": [
       "4.0"
      ]
     },
     "execution_count": 4,
     "metadata": {},
     "output_type": "execute_result"
    }
   ],
   "source": [
    "# Conjugating complex numbers is simple!\n",
    "# Can anyone guess? (Maxims?)\n",
    "\n",
    "z.conjugate()\n",
    "\n",
    "# How about to get the real part?\n",
    "\n",
    "z.imag"
   ]
  },
  {
   "cell_type": "code",
   "execution_count": 19,
   "metadata": {
    "collapsed": false,
    "slideshow": {
     "slide_type": "fragment"
    }
   },
   "outputs": [
    {
     "name": "stdout",
     "output_type": "stream",
     "text": [
      "25.0\n"
     ]
    }
   ],
   "source": [
    "# How about a function to find the norm of a complex numbers?\n",
    "def norm(z):\n",
    "    norm = z*z.conjugate()\n",
    "    return norm.real\n",
    "\n",
    "print(norm(z))"
   ]
  },
  {
   "cell_type": "markdown",
   "metadata": {
    "slideshow": {
     "slide_type": "slide"
    }
   },
   "source": [
    "#### Lists in Python\n",
    "\n",
    "Organizing data is a *very* common need. Python makes it really easy!\n",
    "\n",
    "You might have accidentally run into a list or two during lab yesterday..."
   ]
  },
  {
   "cell_type": "code",
   "execution_count": 20,
   "metadata": {
    "collapsed": true,
    "slideshow": {
     "slide_type": "fragment"
    }
   },
   "outputs": [],
   "source": [
    "# How to declare a list?\n",
    "test = [1, 2, 3]"
   ]
  },
  {
   "cell_type": "code",
   "execution_count": 22,
   "metadata": {
    "collapsed": true,
    "slideshow": {
     "slide_type": "fragment"
    }
   },
   "outputs": [],
   "source": [
    "# In Java, you can have an array of doubles, an array of strings, an array of ints...\n",
    "# Should this work?\n",
    "\n",
    "crazy_shopping_list = [\"Veggies\", 3.14159265, [\"Milk\", \"Butter\", \"Eggs\"]]\n",
    "\n",
    "# Uhh..."
   ]
  },
  {
   "cell_type": "code",
   "execution_count": 25,
   "metadata": {
    "collapsed": false,
    "slideshow": {
     "slide_type": "slide"
    }
   },
   "outputs": [
    {
     "name": "stdout",
     "output_type": "stream",
     "text": [
      "Eggs\n"
     ]
    }
   ],
   "source": [
    "# Need some way of getting stuff out too!\n",
    "# You can think of lists like mailboxes:\n",
    "# crazy_shopping_list:\n",
    "#  ____________________________________________________\n",
    "# |     0     |     1      |            2             |\n",
    "# -----------------------------------------------------\n",
    "# | \"Veggies\" | 3.14159265 |[\"Milk\", \"Butter\", \"Eggs\"]|\n",
    "# -----------------------------------------------------\n",
    "\n",
    "# Remember the number, and you can get the mail:\n",
    "\n",
    "print(crazy_shopping_list[2][2])\n",
    "\n",
    "# You're also welcome to put your own mail in... guess how? \n",
    "# I've decided I prefer cake to pi after all...\n",
    "\n",
    "crazy_shopping_list[1] = 'cake'"
   ]
  },
  {
   "cell_type": "code",
   "execution_count": 31,
   "metadata": {
    "collapsed": false,
    "slideshow": {
     "slide_type": "slide"
    }
   },
   "outputs": [
    {
     "ename": "IndexError",
     "evalue": "list index out of range",
     "output_type": "error",
     "traceback": [
      "\u001b[0;31m---------------------------------------------------------------------------\u001b[0m",
      "\u001b[0;31mIndexError\u001b[0m                                Traceback (most recent call last)",
      "\u001b[0;32m<ipython-input-31-14d8c906dad8>\u001b[0m in \u001b[0;36m<module>\u001b[0;34m()\u001b[0m\n\u001b[1;32m      1\u001b[0m \u001b[0;31m# Getting more than a little of the mail...\u001b[0m\u001b[0;34m\u001b[0m\u001b[0;34m\u001b[0m\u001b[0m\n\u001b[1;32m      2\u001b[0m \u001b[0;34m\u001b[0m\u001b[0m\n\u001b[0;32m----> 3\u001b[0;31m \u001b[0mcrazy_shopping_list\u001b[0m\u001b[0;34m[\u001b[0m\u001b[0;36m3\u001b[0m\u001b[0;34m]\u001b[0m\u001b[0;34m\u001b[0m\u001b[0m\n\u001b[0m",
      "\u001b[0;31mIndexError\u001b[0m: list index out of range"
     ]
    }
   ],
   "source": [
    "# Getting more than a little of the mail...\n",
    "\n",
    "crazy_shopping_list[3]"
   ]
  },
  {
   "cell_type": "code",
   "execution_count": 36,
   "metadata": {
    "collapsed": false,
    "slideshow": {
     "slide_type": "slide"
    }
   },
   "outputs": [
    {
     "name": "stdout",
     "output_type": "stream",
     "text": [
      "Veggies\n",
      "cake\n",
      "['Milk', 'Butter', 'Eggs']\n",
      "5\n",
      "5\n",
      "5\n",
      "5\n"
     ]
    }
   ],
   "source": [
    "# We can also add things to our shopping list\n",
    "\n",
    "crazy_shopping_list.append(5)\n",
    "\n",
    "for item in crazy_shopping_list:\n",
    "    print(item)\n"
   ]
  },
  {
   "cell_type": "code",
   "execution_count": 43,
   "metadata": {
    "collapsed": false,
    "slideshow": {
     "slide_type": "slide"
    }
   },
   "outputs": [
    {
     "name": "stdout",
     "output_type": "stream",
     "text": [
      "[2, inf, 0, -4]\n",
      "[2, inf, 0, -4]\n",
      "[-4, 0, 2, inf]\n"
     ]
    }
   ],
   "source": [
    "# Python has many functions for working with lists because they are so common\n",
    "\n",
    "favorite_numbers = [2, float('Inf'), 0, -4]\n",
    "print(favorite_numbers)\n",
    "\n",
    "# sorting\n",
    "sorted_numbers = sorted(favorite_numbers)\n",
    "print(favorite_numbers)\n",
    "print(sorted_numbers)"
   ]
  },
  {
   "cell_type": "code",
   "execution_count": null,
   "metadata": {
    "collapsed": true,
    "slideshow": {
     "slide_type": "fragment"
    }
   },
   "outputs": [],
   "source": [
    "# adding numbers from 0 to 10"
   ]
  },
  {
   "cell_type": "code",
   "execution_count": 5,
   "metadata": {
    "collapsed": false,
    "slideshow": {
     "slide_type": "fragment"
    }
   },
   "outputs": [
    {
     "name": "stdout",
     "output_type": "stream",
     "text": [
      "['cat', 'dog', 'fish', 'zebra']\n"
     ]
    }
   ],
   "source": [
    "# sorting again...\n",
    "animals = [\"fish\", \"dog\", \"zebra\", \"cat\"]\n",
    "animals.sort()\n",
    "print(animals)\n",
    "# hmm..."
   ]
  },
  {
   "cell_type": "raw",
   "metadata": {
    "slideshow": {
     "slide_type": "slide"
    }
   },
   "source": [
    "#### Wait... sorted() and .sort()? What's up with that?\n",
    "\n",
    "The difference is that .sort() *changes* the list so that it's sorted,\n",
    "\n",
    "sorted() makes a copy and sorts that, returning it for assignment.\n",
    "\n",
    "This confusion arises due to..."
   ]
  },
  {
   "cell_type": "markdown",
   "metadata": {
    "slideshow": {
     "slide_type": "slide"
    }
   },
   "source": [
    "### Mutability\n",
    "\n",
    "You can modify certain Python objects but not others (there's a good reason for this we will discuss later)"
   ]
  },
  {
   "cell_type": "code",
   "execution_count": 37,
   "metadata": {
    "collapsed": false,
    "slideshow": {
     "slide_type": "fragment"
    }
   },
   "outputs": [
    {
     "name": "stdout",
     "output_type": "stream",
     "text": [
      "5\n"
     ]
    }
   ],
   "source": [
    "# Consider numbers\n",
    "x = 5\n",
    "y = x\n",
    "y += 2\n",
    "\n",
    "print(x)"
   ]
  },
  {
   "cell_type": "code",
   "execution_count": 39,
   "metadata": {
    "collapsed": false,
    "slideshow": {
     "slide_type": "fragment"
    }
   },
   "outputs": [
    {
     "name": "stdout",
     "output_type": "stream",
     "text": [
      "['A', 'B', 'C', 'D', 'E', 'F', 'G', 'H', 'I', 'J', 'K', 'L', 'M', 'N', 'O', 'P', 'Q', 'R', 'S', 'T', 'U', 'V', 'W', 'X', 'Y', 'Z']\n",
      "['A', 'B', 'C', 'D', 'E', 'F', 'G', 'H', 'I', 'J', 'K', 'L', 'M', 'N', 'O', 'P', 'Q', 'R', 'S', 'T', 'U', 'V', 'W', 'X', 'Y', 'Z']\n"
     ]
    }
   ],
   "source": [
    "# And lists\n",
    "letters = [\"A\", \"B\", \"C\"]\n",
    "\n",
    "alphabet = letters\n",
    "for letter in \"DEFGHIJKLMNOPQRSTUVWXYZ\":\n",
    "    alphabet.append(letter)\n",
    "\n",
    "print(alphabet)\n",
    "print(letters)"
   ]
  },
  {
   "cell_type": "code",
   "execution_count": 8,
   "metadata": {
    "collapsed": false,
    "slideshow": {
     "slide_type": "slide"
    }
   },
   "outputs": [
    {
     "name": "stdout",
     "output_type": "stream",
     "text": [
      "[1]\n"
     ]
    }
   ],
   "source": [
    "def sneaky_appends(element, l = None):\n",
    "    if l is None:\n",
    "        l = []\n",
    "    l.append(element)\n",
    "    return l\n",
    "\n",
    "print(sneaky_appends(1))"
   ]
  },
  {
   "cell_type": "code",
   "execution_count": 9,
   "metadata": {
    "collapsed": false,
    "slideshow": {
     "slide_type": "fragment"
    }
   },
   "outputs": [
    {
     "name": "stdout",
     "output_type": "stream",
     "text": [
      "[2]\n",
      "[3]\n"
     ]
    }
   ],
   "source": [
    "print(sneaky_appends(2))\n",
    "print(sneaky_appends(3))"
   ]
  },
  {
   "cell_type": "markdown",
   "metadata": {
    "slideshow": {
     "slide_type": "slide"
    }
   },
   "source": [
    "#### Escaping From Mutability\n",
    "\n",
    "Numbers, bools, and strings are immutable.\n",
    "\n",
    "There's also an immutable collection type called the tuple which looks a lot like a list."
   ]
  },
  {
   "cell_type": "code",
   "execution_count": 10,
   "metadata": {
    "collapsed": false,
    "slideshow": {
     "slide_type": "fragment"
    }
   },
   "outputs": [
    {
     "name": "stdout",
     "output_type": "stream",
     "text": [
      "My coordinates are 32N, 55W. Mayday!\n"
     ]
    }
   ],
   "source": [
    "coordinates = (32, 55) # note the ()s rather than []s\n",
    "\n",
    "def announce_coordinates(coords):\n",
    "    announcement = \"My coordinates are \"\n",
    "    announcement += str(coords[0])\n",
    "    announcement += \"N, \"\n",
    "    announcement += str(coords[1])\n",
    "    announcement += \"W. Mayday!\"\n",
    "    \n",
    "    print(announcement)\n",
    "\n",
    "announce_coordinates(coordinates)"
   ]
  },
  {
   "cell_type": "code",
   "execution_count": 11,
   "metadata": {
    "collapsed": false,
    "slideshow": {
     "slide_type": "fragment"
    }
   },
   "outputs": [
    {
     "ename": "AttributeError",
     "evalue": "'tuple' object has no attribute 'append'",
     "output_type": "error",
     "traceback": [
      "\u001b[0;31m---------------------------------------------------------------------------\u001b[0m",
      "\u001b[0;31mAttributeError\u001b[0m                            Traceback (most recent call last)",
      "\u001b[0;32m<ipython-input-11-f6b4011dcf38>\u001b[0m in \u001b[0;36m<module>\u001b[0;34m()\u001b[0m\n\u001b[0;32m----> 1\u001b[0;31m \u001b[0mcoordinates\u001b[0m\u001b[0;34m.\u001b[0m\u001b[0mappend\u001b[0m\u001b[0;34m(\u001b[0m\u001b[0;34m\"Altitude?\"\u001b[0m\u001b[0;34m)\u001b[0m\u001b[0;34m\u001b[0m\u001b[0m\n\u001b[0m",
      "\u001b[0;31mAttributeError\u001b[0m: 'tuple' object has no attribute 'append'"
     ]
    }
   ],
   "source": [
    "coordinates.append(\"Altitude?\")"
   ]
  },
  {
   "cell_type": "code",
   "execution_count": 12,
   "metadata": {
    "collapsed": true,
    "slideshow": {
     "slide_type": "fragment"
    }
   },
   "outputs": [],
   "source": [
    "# How to turn one into another?\n",
    "list_coordinates = list(coordinates)"
   ]
  },
  {
   "cell_type": "markdown",
   "metadata": {
    "slideshow": {
     "slide_type": "slide"
    }
   },
   "source": [
    "#### Dictionaries\n",
    "\n",
    "You might know them by the name 'map', 'key-value store', 'associative array' or many others."
   ]
  },
  {
   "cell_type": "code",
   "execution_count": null,
   "metadata": {
    "collapsed": true,
    "slideshow": {
     "slide_type": "fragment"
    }
   },
   "outputs": [],
   "source": [
    "# Dictionaries are a way of keeping associations of some set of stuff to another.\n",
    "# Imagine tracking student happiness..."
   ]
  },
  {
   "cell_type": "code",
   "execution_count": 52,
   "metadata": {
    "collapsed": false,
    "slideshow": {
     "slide_type": "fragment"
    }
   },
   "outputs": [
    {
     "name": "stdout",
     "output_type": "stream",
     "text": [
      "Carol's happiness is 10/10\n"
     ]
    }
   ],
   "source": [
    "student_happiness = {\"Alfred\": 9, \"Beth\": 7, \"Carol\": 10}\n",
    "\n",
    "# we can get just like arrays, but the indices can be (almost) arbitrary!\n",
    "print(\"Carol's happiness is \" + str(student_happiness[\"Carol\"]) + \"/10\")"
   ]
  },
  {
   "cell_type": "code",
   "execution_count": 54,
   "metadata": {
    "collapsed": false,
    "slideshow": {
     "slide_type": "fragment"
    }
   },
   "outputs": [
    {
     "name": "stdout",
     "output_type": "stream",
     "text": [
      "{'Carol': 10, 'Alfred': -1, 'Beth': 7}\n"
     ]
    }
   ],
   "source": [
    "# Alfred didn't like the lecture...\n",
    "# How to remember this?\n",
    "\n",
    "student_happiness[\"Alfred\"] -= 5\n",
    "print(student_happiness)"
   ]
  },
  {
   "cell_type": "code",
   "execution_count": 55,
   "metadata": {
    "collapsed": true,
    "slideshow": {
     "slide_type": "fragment"
    }
   },
   "outputs": [],
   "source": [
    "# Unlike lists, we can add to a dictionary using []\n",
    "student_happiness[\"David\"] = 0"
   ]
  },
  {
   "cell_type": "markdown",
   "metadata": {
    "slideshow": {
     "slide_type": "slide"
    }
   },
   "source": [
    "#### Revisiting Iteration with Lists and Dictionaries"
   ]
  },
  {
   "cell_type": "code",
   "execution_count": 56,
   "metadata": {
    "collapsed": false,
    "slideshow": {
     "slide_type": "fragment"
    }
   },
   "outputs": [
    {
     "name": "stdout",
     "output_type": "stream",
     "text": [
      "Wine Tasting\n",
      "Physics 91SI\n",
      "Thesis Research\n"
     ]
    }
   ],
   "source": [
    "my_classes = [\"Wine Tasting\", \"Physics 91SI\", \"Thesis Research\"]\n",
    "\n",
    "# how to print all my classes?\n",
    "for classname in my_classes:\n",
    "    print(classname)"
   ]
  },
  {
   "cell_type": "code",
   "execution_count": null,
   "metadata": {
    "collapsed": true,
    "slideshow": {
     "slide_type": "fragment"
    }
   },
   "outputs": [],
   "source": [
    "# Triaging \"in\"... how do we know that something is in a container?"
   ]
  },
  {
   "cell_type": "code",
   "execution_count": 57,
   "metadata": {
    "collapsed": true,
    "slideshow": {
     "slide_type": "fragment"
    }
   },
   "outputs": [],
   "source": [
    "# What about how much I enjoy them?\n",
    "class_scores = {\"Wine Tasting\": 8, \"Physics 91SI\": 11, \"Thesis Research\": 9}\n",
    "\n",
    "# how to print all the classes and their scores?\n",
    "for classname in my_classes:\n",
    "    print(classname)"
   ]
  },
  {
   "cell_type": "code",
   "execution_count": 62,
   "metadata": {
    "collapsed": false,
    "slideshow": {
     "slide_type": "fragment"
    }
   },
   "outputs": [
    {
     "name": "stdout",
     "output_type": "stream",
     "text": [
      "('Wine Tasting', 8)\n",
      "('Thesis Research', 9)\n",
      "('Physics 91SI', 11)\n"
     ]
    }
   ],
   "source": [
    "for classname in class_scores.items():\n",
    "    print(classname)\n",
    "    \n",
    "# what could .items() be doing?\n",
    "# Remember: special cases aren't special enough to break the rules!"
   ]
  },
  {
   "cell_type": "markdown",
   "metadata": {
    "slideshow": {
     "slide_type": "slide"
    }
   },
   "source": [
    "#### Other Containers\n",
    "\n",
    "Lists and Dictionaries are pretty great! \n",
    "\n",
    "Python has lots of special containers that are used in different contexts though.\n",
    "\n",
    "We won't talk about them now, but good to know that they exist, in case one sneaks up on you, or you get the feeling \"I bet someone's done this before!\"."
   ]
  },
  {
   "cell_type": "markdown",
   "metadata": {
    "slideshow": {
     "slide_type": "fragment"
    }
   },
   "source": [
    "In order to talk about these containers though, we need to discuss..."
   ]
  },
  {
   "cell_type": "markdown",
   "metadata": {
    "slideshow": {
     "slide_type": "slide"
    }
   },
   "source": [
    "##Modules\n",
    "\n",
    "Functions are a useful structural unit for code, but there's a lot more besides functions!\n",
    "\n",
    "Modules provide sets of related functionality: typically some group of functions.\n",
    "\n",
    "(They can also contain hidden away types, like other containers!)"
   ]
  },
  {
   "cell_type": "code",
   "execution_count": 66,
   "metadata": {
    "collapsed": false,
    "slideshow": {
     "slide_type": "fragment"
    }
   },
   "outputs": [
    {
     "data": {
      "text/plain": [
       "2.23606797749979"
      ]
     },
     "execution_count": 66,
     "metadata": {},
     "output_type": "execute_result"
    }
   ],
   "source": [
    "from math import sqrt\n",
    "\n",
    "sqrt(5)"
   ]
  },
  {
   "cell_type": "code",
   "execution_count": null,
   "metadata": {
    "collapsed": true,
    "slideshow": {
     "slide_type": "fragment"
    }
   },
   "outputs": [],
   "source": [
    "# Lots of useful modules in Python!\n",
    "\n",
    "# math, collections, functools, itertools, os, sys, time\n",
    "# Will explore many of these later."
   ]
  },
  {
   "cell_type": "markdown",
   "metadata": {
    "slideshow": {
     "slide_type": "slide"
    }
   },
   "source": [
    "#### I promised you a container..."
   ]
  },
  {
   "cell_type": "code",
   "execution_count": 68,
   "metadata": {
    "collapsed": false,
    "slideshow": {
     "slide_type": "fragment"
    }
   },
   "outputs": [],
   "source": [
    "from collections import Counter\n",
    "\n",
    "list_of_test_scores = [99, 99, 85, 100, 99, 88, 67, 92, 85, 87, 89]\n",
    "\n",
    "c = Counter(list_of_test_scores)"
   ]
  },
  {
   "cell_type": "code",
   "execution_count": 69,
   "metadata": {
    "collapsed": false,
    "slideshow": {
     "slide_type": "fragment"
    }
   },
   "outputs": [
    {
     "name": "stdout",
     "output_type": "stream",
     "text": [
      "3\n"
     ]
    }
   ],
   "source": [
    "# how many students got a 99?\n",
    "print(c[99])"
   ]
  },
  {
   "cell_type": "code",
   "execution_count": 70,
   "metadata": {
    "collapsed": false,
    "slideshow": {
     "slide_type": "fragment"
    }
   },
   "outputs": [
    {
     "name": "stdout",
     "output_type": "stream",
     "text": [
      "[(99, 3), (85, 2)]\n"
     ]
    }
   ],
   "source": [
    "# what were the two most common scores?\n",
    "print(c.most_common(2))"
   ]
  },
  {
   "cell_type": "markdown",
   "metadata": {
    "slideshow": {
     "slide_type": "fragment"
    }
   },
   "source": [
    "Point of this discussion is that you rarely have to work as hard in Python as you think."
   ]
  },
  {
   "cell_type": "markdown",
   "metadata": {
    "slideshow": {
     "slide_type": "slide"
    }
   },
   "source": [
    "### Some Powerful Builtins\n",
    "\n",
    "We've already seen about how to sort..."
   ]
  },
  {
   "cell_type": "code",
   "execution_count": 72,
   "metadata": {
    "collapsed": false,
    "slideshow": {
     "slide_type": "fragment"
    }
   },
   "outputs": [
    {
     "data": {
      "text/plain": [
       "5"
      ]
     },
     "execution_count": 72,
     "metadata": {},
     "output_type": "execute_result"
    }
   ],
   "source": [
    "# length\n",
    "len(range(5))"
   ]
  },
  {
   "cell_type": "code",
   "execution_count": 73,
   "metadata": {
    "collapsed": false,
    "slideshow": {
     "slide_type": "fragment"
    }
   },
   "outputs": [
    {
     "data": {
      "text/plain": [
       "['Are', 'you', 'guys', 'loving', 'Python?']"
      ]
     },
     "execution_count": 73,
     "metadata": {},
     "output_type": "execute_result"
    }
   ],
   "source": [
    "# splitting and joining strings\n",
    "sentence = \"Are you guys loving Python?\"\n",
    "sentence.split()"
   ]
  },
  {
   "cell_type": "code",
   "execution_count": 75,
   "metadata": {
    "collapsed": false,
    "slideshow": {
     "slide_type": "fragment"
    }
   },
   "outputs": [
    {
     "data": {
      "text/plain": [
       "['Comma', 'separated', 'values']"
      ]
     },
     "execution_count": 75,
     "metadata": {},
     "output_type": "execute_result"
    }
   ],
   "source": [
    "csv = \"Comma,separated,values\"\n",
    "csv.split(\",\")\n",
    "\n",
    "# uh oh"
   ]
  },
  {
   "cell_type": "code",
   "execution_count": 80,
   "metadata": {
    "collapsed": false,
    "slideshow": {
     "slide_type": "fragment"
    }
   },
   "outputs": [
    {
     "name": "stdout",
     "output_type": "stream",
     "text": [
      "Are\n",
      "you\n",
      "guys\n",
      "loving\n",
      "Python?\n"
     ]
    }
   ],
   "source": [
    "words = sentence.split()\n",
    "print(\"\\n\".join(words))\n",
    "# put them back together?"
   ]
  },
  {
   "cell_type": "code",
   "execution_count": null,
   "metadata": {
    "collapsed": true,
    "slideshow": {
     "slide_type": "fragment"
    }
   },
   "outputs": [],
   "source": [
    "# special whitespace characters... \\n \\t\n",
    "\n",
    "# get list of lines?"
   ]
  },
  {
   "cell_type": "code",
   "execution_count": 110,
   "metadata": {
    "collapsed": false,
    "slideshow": {
     "slide_type": "slide"
    }
   },
   "outputs": [],
   "source": [
    "# You probably noticed that strings are a lot like lists...\n",
    "\n",
    "print(sorted(\"My name is Conrad\"))"
   ]
  },
  {
   "cell_type": "code",
   "execution_count": 82,
   "metadata": {
    "collapsed": false,
    "slideshow": {
     "slide_type": "slide"
    }
   },
   "outputs": [
    {
     "name": "stdout",
     "output_type": "stream",
     "text": [
      "[1, 2, 3, 4, 5, 6]\n"
     ]
    }
   ],
   "source": [
    "# A lot of the stuff we would have to do manually with for loops Python can do for us!\n",
    "\n",
    "some_numbers = [1, 2, 3]\n",
    "some_more_numbers = [4, 5, 6]\n",
    "\n",
    "some_numbers.extend(some_more_numbers)\n",
    "print(some_numbers)"
   ]
  },
  {
   "cell_type": "markdown",
   "metadata": {
    "slideshow": {
     "slide_type": "slide"
    }
   },
   "source": [
    "#### Numeric Builtins"
   ]
  },
  {
   "cell_type": "code",
   "execution_count": 86,
   "metadata": {
    "collapsed": false,
    "slideshow": {
     "slide_type": "fragment"
    }
   },
   "outputs": [
    {
     "data": {
      "text/plain": [
       "5050"
      ]
     },
     "execution_count": 86,
     "metadata": {},
     "output_type": "execute_result"
    }
   ],
   "source": [
    "# We saw sum before... what else do we do to lists of numbers?\n",
    "# max? min?\n",
    "\n",
    "sum(range(101))"
   ]
  },
  {
   "cell_type": "markdown",
   "metadata": {
    "slideshow": {
     "slide_type": "slide"
    }
   },
   "source": [
    "#### String Formatting\n",
    "\n",
    "Plussing (+ing) is annoying, have to do type conversion, verbose."
   ]
  },
  {
   "cell_type": "code",
   "execution_count": 87,
   "metadata": {
    "collapsed": false,
    "slideshow": {
     "slide_type": "fragment"
    }
   },
   "outputs": [
    {
     "name": "stdout",
     "output_type": "stream",
     "text": [
      "Hi my name is Conrad and my major is physics.\n",
      "Hi my name is Conrad and my major is physics.\n"
     ]
    }
   ],
   "source": [
    "name = \"Conrad\"\n",
    "major = \"physics\"\n",
    "\n",
    "print(\"Hi my name is \" + name + \" and my major is \" + major + \".\")\n",
    "print(\"Hi my name is %(name)s and my major is %(major)s.\" \\\n",
    "      % {\"name\": name, \"major\": major})"
   ]
  },
  {
   "cell_type": "code",
   "execution_count": 89,
   "metadata": {
    "collapsed": false,
    "slideshow": {
     "slide_type": "fragment"
    }
   },
   "outputs": [
    {
     "data": {
      "text/plain": [
       "'There are 7 days in a week.'"
      ]
     },
     "execution_count": 89,
     "metadata": {},
     "output_type": "execute_result"
    }
   ],
   "source": [
    "# What about numbers?\n",
    "\"There are %(n)d %(sub_unit)ss in a %(unit)s.\" \\\n",
    "    % {\"n\": 7, \"sub_unit\": \"day\", \"unit\": \"week\"}\n",
    "\n",
    "# general specifier format %(label_for_insertion)X\n",
    "# X is a type, can be s for string, d for int, f for float..."
   ]
  },
  {
   "cell_type": "markdown",
   "metadata": {
    "slideshow": {
     "slide_type": "slide"
    }
   },
   "source": [
    "#### One Last Thing... Keyword Arguments\n",
    "\n",
    "Functions that have a lot of parameters can be a pain..."
   ]
  },
  {
   "cell_type": "code",
   "execution_count": 90,
   "metadata": {
    "collapsed": false,
    "slideshow": {
     "slide_type": "slide"
    }
   },
   "outputs": [
    {
     "name": "stdout",
     "output_type": "stream",
     "text": [
      "Sorry!\n"
     ]
    }
   ],
   "source": [
    "def tries_FLT(n = 2, a = 0, b = 0, c = 0):\n",
    "    if a**n + b**n == c**n:\n",
    "        if n > 2:\n",
    "            print(\"WHAT!!?!!??!\")\n",
    "            print(\"Oh... abc = \" + str(a * b * c))\n",
    "        elif n == 2:\n",
    "            print(\"Congratulations... who do you think you are, Pythagoras?\")\n",
    "        else:\n",
    "            print(\"So you can add...\")\n",
    "    else:\n",
    "        print(\"Sorry!\")\n",
    "\n",
    "\n",
    "# let's test just pythagorean triples\n",
    "\n",
    "tries_FLT(a = 2, b = 4)"
   ]
  },
  {
   "cell_type": "markdown",
   "metadata": {
    "slideshow": {
     "slide_type": "slide"
    }
   },
   "source": [
    "#### That's it for Python for today (+ questions, of course)!\n",
    "\n",
    "Have a few things to mention before starting the lab, \n",
    "take a moment to reflect on what we learned about Python syntax:\n",
    "\n",
    "1. The different kinds of numbers\n",
    "2. Lists, indexing, slicing\n",
    "3. Dictionaries\n",
    "4. Thematic similarities between different kinds of collections \n",
    " * ADS (advanced data structures) - stringy correspondance in Python\n",
    " * .items() for iteration\n",
    "5. Powerful builtins\n",
    "6. Module system with lots of functionality under the hood\n",
    " * math, collections both very useful\n",
    " * You can use to organize your own code. Modules are just files!\n",
    "7. Keyword arguments\n",
    " \n"
   ]
  },
  {
   "cell_type": "markdown",
   "metadata": {
    "slideshow": {
     "slide_type": "slide"
    }
   },
   "source": [
    "#### Prelab\n",
    "\n",
    "I've been using IPython notebook (with some extensions) for this lecture.\n",
    "\n",
    "REALLY AWESOME SYSTEM"
   ]
  },
  {
   "cell_type": "markdown",
   "metadata": {
    "slideshow": {
     "slide_type": "fragment"
    }
   },
   "source": [
    "1. Helps you to organize code and ideas\n",
    "2. Highly interactive\n",
    "3. Abstracts away from IO a lot of the time, easy to change parameters in a cell\n",
    "4. Common format, especially in scientific research/data science\n",
    "5. Most labs (and my lectures) will be in IPython notebook!"
   ]
  },
  {
   "cell_type": "markdown",
   "metadata": {
    "slideshow": {
     "slide_type": "fragment"
    }
   },
   "source": [
    "Let's learn how to use IPython notebook, make cells, and use it for workflow.\n",
    "\n",
    "Then one more brief slide."
   ]
  },
  {
   "cell_type": "markdown",
   "metadata": {
    "slideshow": {
     "slide_type": "slide"
    }
   },
   "source": [
    "## Notes on Program Design, and Basic Workflow\n",
    "\n",
    "#### Workflow\n",
    "Python encourages interaction and exploration. \n",
    "\n",
    "IPython notebook makes it less of a language to write programs in, and more of a living system that can be studied, investigated, interacted with, and yes, at times, angered (or at least it seems that way sometimes).\n",
    "\n",
    "This is powerful for taming Python, because Python is a profoundly large and powerful system, suitable for a wide variety of computing tasks, from building simple scripts, to writing particle physics analyses at scale, or building commercial products.\n",
    "\n",
    "Enjoy the freedom to explore that IPython provides."
   ]
  },
  {
   "cell_type": "markdown",
   "metadata": {
    "slideshow": {
     "slide_type": "slide"
    }
   },
   "source": [
    "## Design by Divide and Conquer\n",
    "It pays to think hierarchically:\n",
    "\n",
    "1. Think about your inputs and your outputs. \n",
    "2. If the gap between the two is small enough, bridge it.\n",
    "3. If the gap is large, break up the distance into a *FEW* meaningful pieces, identify the divisions this creates, and recurse. \n",
    "\n",
    "This recursion will not work (at least not in appropriate runtime!) if you don't choose meaningful pieces of work to subdivide the task, or if you attempt to break a task into too many pieces in one step.\n",
    "\n",
    " "
   ]
  },
  {
   "cell_type": "markdown",
   "metadata": {
    "slideshow": {
     "slide_type": "slide"
    }
   },
   "source": [
    "#### Identifying the base case\n",
    "When is small small enough? \n",
    "\n",
    "Python is powerful enough that many gaps that appear large may in fact not be, building maturity with the language will help you identify these opportunities!"
   ]
  },
  {
   "cell_type": "markdown",
   "metadata": {
    "slideshow": {
     "slide_type": "fragment"
    }
   },
   "source": [
    "I'm biased... (you'll see why in a few weeks) "
   ]
  },
  {
   "cell_type": "markdown",
   "metadata": {
    "slideshow": {
     "slide_type": "fragment"
    }
   },
   "source": [
    "...but it's still good advice to think in *functions*.\n",
    "\n",
    "Try to apply this design reasoning to the lab!"
   ]
  },
  {
   "cell_type": "markdown",
   "metadata": {
    "slideshow": {
     "slide_type": "slide"
    }
   },
   "source": [
    "# LAB TIME"
   ]
  },
  {
   "cell_type": "markdown",
   "metadata": {
    "slideshow": {
     "slide_type": "slide"
    }
   },
   "source": [
    "## After Lab Info\n",
    "\n",
    "#### Recap\n",
    "\n",
    "1. Python basics including collections types.\n",
    "2. IPython and basic workflow\n",
    "3. Enough git to get by\n",
    "\n",
    "Make sure you have submitted your lab before leaving! (Ask one of us if you are confused how.)\n"
   ]
  },
  {
   "cell_type": "markdown",
   "metadata": {
    "slideshow": {
     "slide_type": "slide"
    }
   },
   "source": [
    "## Before Next Week\n",
    "If you have not read the full syllabus, please please do so before the next course meeting on Tuesday. It's a lovely document that will serve you well.\n"
   ]
  },
  {
   "cell_type": "markdown",
   "metadata": {
    "slideshow": {
     "slide_type": "fragment"
    }
   },
   "source": [
    "Peer review. These are meant to be a learning opportunity for you, see how everyone solved problems, and to help them along if there was some aspect they didn't solve. I will email out this weeks' peer review groups, instructions on how to perform the review, and some questions to consider soon."
   ]
  },
  {
   "cell_type": "markdown",
   "metadata": {
    "slideshow": {
     "slide_type": "fragment"
    }
   },
   "source": [
    "My office hours are tomorrow, Friday, from 1-3pm at Coupa Cafe Y2E2 as mentioned last lecture.\n",
    "\n",
    "Stop by with questions or just to chat about Python and physics!"
   ]
  },
  {
   "cell_type": "markdown",
   "metadata": {
    "slideshow": {
     "slide_type": "slide"
    }
   },
   "source": [
    "## Plan for Next Week\n",
    "\n",
    "###Learning Goals\n",
    "1. Advanced UNIX, editors, and workflow\n",
    "  1. [CS 1U](https://practicalunix.org/content/week-2-intro) A bit hardcore, but interesting. Video lectures on UNIX.\n",
    "2. git and Github \n",
    "  1. [Simple git Guide](http://rogerdudler.github.io/git-guide/)\n",
    "  2. [git Homepage, good getting started](http://git-scm.com/)\n",
    "3. File I/O\n",
    "4. Understanding Errors. We're all bad communicators when we're upset (except Python, sometimes)."
   ]
  },
  {
   "cell_type": "markdown",
   "metadata": {
    "slideshow": {
     "slide_type": "fragment"
    }
   },
   "source": [
    "###Project Milestones and Assignments\n",
    "\n",
    "1. Setting up an effective, personal workflow\n",
    "2. Feel free, but unobliged, to think about your project topic"
   ]
  },
  {
   "cell_type": "markdown",
   "metadata": {
    "slideshow": {
     "slide_type": "slide"
    }
   },
   "source": [
    "# Have a great weekend!"
   ]
  }
 ],
 "metadata": {
  "celltoolbar": "Slideshow",
  "kernelspec": {
   "display_name": "Python 3",
   "language": "python",
   "name": "python3"
  },
  "language_info": {
   "codemirror_mode": {
    "name": "ipython",
    "version": 3
   },
   "file_extension": ".py",
   "mimetype": "text/x-python",
   "name": "python",
   "nbconvert_exporter": "python",
   "pygments_lexer": "ipython3",
   "version": "3.5.1"
  }
 },
 "nbformat": 4,
 "nbformat_minor": 0
}
