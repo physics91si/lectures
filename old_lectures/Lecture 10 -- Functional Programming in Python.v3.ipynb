{
 "metadata": {
  "celltoolbar": "Slideshow",
  "kernelspec": {
   "display_name": "Python 3",
   "language": "python",
   "name": "python3"
  },
  "language_info": {
   "codemirror_mode": {
    "name": "ipython",
    "version": 3
   },
   "file_extension": ".py",
   "mimetype": "text/x-python",
   "name": "python",
   "nbconvert_exporter": "python",
   "pygments_lexer": "ipython3",
   "version": "3.4.3"
  },
  "name": ""
 },
 "nbformat": 3,
 "nbformat_minor": 0,
 "worksheets": [
  {
   "cells": [
    {
     "cell_type": "heading",
     "level": 4,
     "metadata": {
      "slideshow": {
       "slide_type": "slide"
      }
     },
     "source": [
      "Lecture 10: Functional Programming in Python"
     ]
    },
    {
     "cell_type": "markdown",
     "metadata": {
      "slideshow": {
       "slide_type": "fragment"
      }
     },
     "source": [
      "Here's what we're covering today:\n",
      "\n",
      "1. What is functional programming?\n",
      "2. List comprehensions\n",
      "3. Functions as objects\n",
      "4. map, reduce, filter, lambda\n",
      "5. functools"
     ]
    },
    {
     "cell_type": "markdown",
     "metadata": {
      "slideshow": {
       "slide_type": "slide"
      }
     },
     "source": [
      "Going to see how we can\n",
      "    \n",
      "1. understand and explain functional, as opposed to imperative code\n",
      "2. apply functional programming write simple, declarative code\n",
      "3. judge appropriate opportunities for applying the functional style *in Python*"
     ]
    },
    {
     "cell_type": "heading",
     "level": 1,
     "metadata": {
      "slideshow": {
       "slide_type": "slide"
      }
     },
     "source": [
      "Questions?"
     ]
    },
    {
     "cell_type": "heading",
     "level": 4,
     "metadata": {
      "slideshow": {
       "slide_type": "slide"
      }
     },
     "source": [
      "Review from last time"
     ]
    },
    {
     "cell_type": "markdown",
     "metadata": {
      "collapsed": true,
      "slideshow": {
       "slide_type": "fragment"
      }
     },
     "source": [
      "We saw more about how you can use IPython to explore object internals\n",
      "\n",
      "Wrote special functions, learned about inheritance, saw how Python uses special functions"
     ]
    },
    {
     "cell_type": "code",
     "collapsed": false,
     "input": [
      "class Quaternion:\n",
      "    def __init__(self, cx, ci, cj, ck):\n",
      "        self._cx = cx\n",
      "        self._ci = ci\n",
      "        self._cj = cj\n",
      "        self._ck = ck\n",
      "        \n",
      "    def __repr__(self):\n",
      "        return '%.2f + %.2fi + %.2fj + %.2fk' % \\\n",
      "            (self._cx, self._ci, self._cj, self._ck)\n",
      "        \n",
      "    def __add__(self, o):\n",
      "        return Quarternion(self._cx + o._cx, ...)\n",
      "    \n",
      "    # how do we support +, -?\n",
      "    \n",
      "p = Quaternion(0, 1, 2, 3)\n",
      "q = Quaternion(-1, 1, -1, 3.14159)\n",
      "print(p+q)"
     ],
     "language": "python",
     "metadata": {
      "slideshow": {
       "slide_type": "fragment"
      }
     },
     "outputs": [
      {
       "ename": "TypeError",
       "evalue": "unsupported operand type(s) for +: 'Quaternion' and 'Quaternion'",
       "output_type": "pyerr",
       "traceback": [
        "\u001b[0;31m---------------------------------------------------------------------------\u001b[0m",
        "\u001b[0;31mTypeError\u001b[0m                                 Traceback (most recent call last)",
        "\u001b[0;32m<ipython-input-61-6268a0f2c2ab>\u001b[0m in \u001b[0;36m<module>\u001b[0;34m()\u001b[0m\n\u001b[1;32m     13\u001b[0m \u001b[0mp\u001b[0m \u001b[0;34m=\u001b[0m \u001b[0mQuaternion\u001b[0m\u001b[0;34m(\u001b[0m\u001b[0;36m0\u001b[0m\u001b[0;34m,\u001b[0m \u001b[0;36m1\u001b[0m\u001b[0;34m,\u001b[0m \u001b[0;36m2\u001b[0m\u001b[0;34m,\u001b[0m \u001b[0;36m3\u001b[0m\u001b[0;34m)\u001b[0m\u001b[0;34m\u001b[0m\u001b[0m\n\u001b[1;32m     14\u001b[0m \u001b[0mq\u001b[0m \u001b[0;34m=\u001b[0m \u001b[0mQuaternion\u001b[0m\u001b[0;34m(\u001b[0m\u001b[0;34m-\u001b[0m\u001b[0;36m1\u001b[0m\u001b[0;34m,\u001b[0m \u001b[0;36m1\u001b[0m\u001b[0;34m,\u001b[0m \u001b[0;34m-\u001b[0m\u001b[0;36m1\u001b[0m\u001b[0;34m,\u001b[0m \u001b[0;36m3.14159\u001b[0m\u001b[0;34m)\u001b[0m\u001b[0;34m\u001b[0m\u001b[0m\n\u001b[0;32m---> 15\u001b[0;31m \u001b[0mprint\u001b[0m\u001b[0;34m(\u001b[0m\u001b[0mp\u001b[0m\u001b[0;34m+\u001b[0m\u001b[0mq\u001b[0m\u001b[0;34m)\u001b[0m\u001b[0;34m\u001b[0m\u001b[0m\n\u001b[0m",
        "\u001b[0;31mTypeError\u001b[0m: unsupported operand type(s) for +: 'Quaternion' and 'Quaternion'"
       ]
      }
     ],
     "prompt_number": 61
    },
    {
     "cell_type": "heading",
     "level": 4,
     "metadata": {
      "slideshow": {
       "slide_type": "slide"
      }
     },
     "source": [
      "So what is functional programming exactly?"
     ]
    },
    {
     "cell_type": "markdown",
     "metadata": {
      "slideshow": {
       "slide_type": "fragment"
      }
     },
     "source": [
      "##### Imperative Programming\n",
      "\n",
      "1. Sequence of actions, performed by actors (can be as simple as variables)\n",
      "2. The unit of the program is a computation stored by an assignment '='\n",
      "3. A recipe for how to create the output from the input\n",
      "\n"
     ]
    },
    {
     "cell_type": "markdown",
     "metadata": {
      "slideshow": {
       "slide_type": "slide"
      }
     },
     "source": [
      "##### Functional Programming\n",
      "\n",
      "1. Sequence of data transformations, strung together to perform more advanced computations\n",
      "2. Unit of the program is a rule for data transformation (function), describes how to turn parameters into return value\n",
      "3. A hierarchical description about how the output is made up of the inputs\n",
      "\n"
     ]
    },
    {
     "cell_type": "heading",
     "level": 4,
     "metadata": {
      "slideshow": {
       "slide_type": "slide"
      }
     },
     "source": [
      "A descriptive analogy"
     ]
    },
    {
     "cell_type": "markdown",
     "metadata": {
      "slideshow": {
       "slide_type": "fragment"
      }
     },
     "source": [
      "Suppose that I were trying to describe to someone how to make my ideal breakfast"
     ]
    },
    {
     "cell_type": "markdown",
     "metadata": {
      "slideshow": {
       "slide_type": "slide"
      }
     },
     "source": [
      "The *imperative* approach might be to say:\n",
      "\n",
      "1. First put a pan on the stove and add a small amount of oil\n",
      "2. Turn the stove on to medium heat\n",
      "3. Get two eggs from the fridge..."
     ]
    },
    {
     "cell_type": "markdown",
     "metadata": {
      "slideshow": {
       "slide_type": "slide"
      }
     },
     "source": [
      "Meanwhile, the *functional* approach might be to say:\n",
      "\n",
      "1. My ideal breakfast *is* two fried eggs and a piece of toast on a plate\n",
      "2. A fried egg *is* an egg placed in a heated and oiled pan for 90 seconds\n",
      "3. A heated and oiled pan *is*..."
     ]
    },
    {
     "cell_type": "markdown",
     "metadata": {
      "slideshow": {
       "slide_type": "slide"
      }
     },
     "source": [
      "So what are the eggs and toast in the Python world?"
     ]
    },
    {
     "cell_type": "markdown",
     "metadata": {
      "slideshow": {
       "slide_type": "fragment"
      }
     },
     "source": [
      "Almost universally, collections.\n",
      "\n",
      "Python has only limited functional programming support, but it really works well for dealing with operations on collections."
     ]
    },
    {
     "cell_type": "markdown",
     "metadata": {
      "slideshow": {
       "slide_type": "slide"
      }
     },
     "source": [
      "##### List Comprehensions\n",
      "\n",
      "Instead of looping like we would in imperative code, we can declare how to build one list out of another"
     ]
    },
    {
     "cell_type": "code",
     "collapsed": true,
     "input": [
      "# Transforming lists is so common that Python offers a special syntax\n",
      "\n",
      "# Suppose we want to get a list of the square numbers from 0 to 81\n",
      "\n",
      "sqs = []\n",
      "for i in range(10):\n",
      "    sqs.append(i ** 2)\n"
     ],
     "language": "python",
     "metadata": {
      "slideshow": {
       "slide_type": "fragment"
      }
     },
     "outputs": [],
     "prompt_number": 62
    },
    {
     "cell_type": "code",
     "collapsed": false,
     "input": [
      "# List comprehensions let you avoid manually iterating where it is not necessary, \n",
      "# in our case the new list's elements could be described in terms of the old\n",
      "\n",
      "[i**2 for i in range(10)]"
     ],
     "language": "python",
     "metadata": {
      "slideshow": {
       "slide_type": "fragment"
      }
     },
     "outputs": [
      {
       "metadata": {},
       "output_type": "pyout",
       "prompt_number": 64,
       "text": [
        "[0, 1, 4, 9, 16, 25, 36, 49, 64, 81]"
       ]
      }
     ],
     "prompt_number": 64
    },
    {
     "cell_type": "heading",
     "level": 4,
     "metadata": {
      "slideshow": {
       "slide_type": "slide"
      }
     },
     "source": [
      "Understanding the structure of list comprehensions"
     ]
    },
    {
     "cell_type": "code",
     "collapsed": true,
     "input": [
      "# We can think of a for loop in python as having three pieces:\n",
      "\n",
      "for _ in _:\n",
      "    _\n",
      "\n",
      "# or\n",
      "\n",
      "for name in data:\n",
      "    do_stuff_with_name\n"
     ],
     "language": "python",
     "metadata": {
      "slideshow": {
       "slide_type": "fragment"
      }
     },
     "outputs": [],
     "prompt_number": null
    },
    {
     "cell_type": "code",
     "collapsed": true,
     "input": [
      "# list comprehensions are similar...\n",
      "\n",
      "[formula for name in data]"
     ],
     "language": "python",
     "metadata": {
      "slideshow": {
       "slide_type": "slide"
      }
     },
     "outputs": [],
     "prompt_number": null
    },
    {
     "cell_type": "markdown",
     "metadata": {
      "slideshow": {
       "slide_type": "fragment"
      }
     },
     "source": [
      "Data is some input list, like range(10) or np.loadtxt(\"some file\")\n",
      "\n",
      "Name is just a symbol that is sequentially assigned to everything in the list, just like the \"for in\"\n",
      "\n",
      "Formula describes how to build a new element out of the one inside 'name'"
     ]
    },
    {
     "cell_type": "code",
     "collapsed": false,
     "input": [
      "# Let's say we wanted to remove whitespace from a bunch of strings\n",
      "\n",
      "to_strip = ['unnecessary    whitespace ', 'this one is fine', '    a  ']\n",
      "[\" \".join(s.split()) for s in to_strip]\n",
      "# how can we fix them all with list comprehensions?"
     ],
     "language": "python",
     "metadata": {
      "slideshow": {
       "slide_type": "fragment"
      }
     },
     "outputs": [
      {
       "metadata": {},
       "output_type": "pyout",
       "prompt_number": 69,
       "text": [
        "['unnecessary whitespace', 'this one is fine', 'a']"
       ]
      }
     ],
     "prompt_number": 69
    },
    {
     "cell_type": "heading",
     "level": 4,
     "metadata": {
      "slideshow": {
       "slide_type": "slide"
      }
     },
     "source": [
      "Actually... there's  a bit more to list comprehensions"
     ]
    },
    {
     "cell_type": "code",
     "collapsed": false,
     "input": [
      "# common to conditionally apply operations\n",
      "\n",
      "items = [3, 'five', float('inf'), 42, 'a house']\n",
      "new_items = []\n",
      "\n",
      "# only keep the numbery things\n",
      "\n",
      "# iterate\n",
      "for item in items:\n",
      "    # filter\n",
      "    if isinstance(item, (int, float, complex)):\n",
      "        # construct output\n",
      "        new_items.append(item)\n",
      "        \n",
      "print(new_items)"
     ],
     "language": "python",
     "metadata": {
      "slideshow": {
       "slide_type": "fragment"
      }
     },
     "outputs": [
      {
       "output_type": "stream",
       "stream": "stdout",
       "text": [
        "[3, inf, 42]\n"
       ]
      }
     ],
     "prompt_number": 4
    },
    {
     "cell_type": "code",
     "collapsed": false,
     "input": [
      "# How would we rewrite this as a list comp? Any guesses?\n",
      "\n",
      "items = [3, 'five', float('inf'), 42, 'a house']\n",
      "print([i for i in items if isinstance(i, (int, float, complex))])"
     ],
     "language": "python",
     "metadata": {
      "slideshow": {
       "slide_type": "slide"
      }
     },
     "outputs": [
      {
       "output_type": "stream",
       "stream": "stdout",
       "text": [
        "[3, inf, 42]\n"
       ]
      }
     ],
     "prompt_number": 70
    },
    {
     "cell_type": "code",
     "collapsed": true,
     "input": [
      "# Full syntax is \n",
      "\n",
      "[formula for name in data if condition]\n",
      "\n",
      "# the condition is an expression of the name just like formula"
     ],
     "language": "python",
     "metadata": {
      "slideshow": {
       "slide_type": "fragment"
      }
     },
     "outputs": [],
     "prompt_number": null
    },
    {
     "cell_type": "markdown",
     "metadata": {
      "slideshow": {
       "slide_type": "fragment"
      }
     },
     "source": [
      "Python list comprehensions make code shorter and usually more readable\n",
      "\n",
      "You don't have to deal with specifying *how* to iterate, because Python already knows that\n",
      "\n"
     ]
    },
    {
     "cell_type": "markdown",
     "metadata": {
      "slideshow": {
       "slide_type": "slide"
      }
     },
     "source": [
      "#### Maps!\n",
      "\n",
      "You may have noticed that using a list comprehension is kind of like applying a function/expression to each thing in a list.\n",
      "\n",
      "In fact, this process is called mapping!"
     ]
    },
    {
     "cell_type": "markdown",
     "metadata": {
      "slideshow": {
       "slide_type": "fragment"
      }
     },
     "source": [
      "Python has a function called 'map' that does exactly this as well, let's take a look in IPython"
     ]
    },
    {
     "cell_type": "code",
     "collapsed": false,
     "input": [
      "# Let's give it a try\n",
      "\n",
      "# let's remake this as a map\n",
      "print([x + 2 for x in range(10)])\n",
      "\n",
      "def multiplies(n, m):\n",
      "    return n*m\n",
      "\n",
      "print(list(map(lambda n: n+2, range(10))))"
     ],
     "language": "python",
     "metadata": {
      "slideshow": {
       "slide_type": "slide"
      }
     },
     "outputs": [
      {
       "output_type": "stream",
       "stream": "stdout",
       "text": [
        "[2, 3, 4, 5, 6, 7, 8, 9, 10, 11]\n",
        "[2, 3, 4, 5, 6, 7, 8, 9, 10, 11]\n"
       ]
      }
     ],
     "prompt_number": 75
    },
    {
     "cell_type": "code",
     "collapsed": false,
     "input": [
      "# The issue is that map takes a function as it's first argument\n",
      "# (That's right! Functions are objects and can be passed to \n",
      "# and returned from other functions)\n"
     ],
     "language": "python",
     "metadata": {
      "slideshow": {
       "slide_type": "slide"
      }
     },
     "outputs": [],
     "prompt_number": 28
    },
    {
     "cell_type": "code",
     "collapsed": false,
     "input": [
      "# You probably realized: list comprehensions are 'kinda' equivalent to maps!\n",
      "\n",
      "[f(x) for x in ls]\n",
      "\n",
      "# is equivalent to \n",
      "\n",
      "map(f, ls)\n",
      "\n",
      "# for any list ls and function f"
     ],
     "language": "python",
     "metadata": {
      "slideshow": {
       "slide_type": "slide"
      }
     },
     "outputs": [],
     "prompt_number": null
    },
    {
     "cell_type": "markdown",
     "metadata": {
      "slideshow": {
       "slide_type": "fragment"
      }
     },
     "source": [
      "However... we could use 'expressions' (like x + 2) in a list comprehension, but not in a map"
     ]
    },
    {
     "cell_type": "markdown",
     "metadata": {
      "slideshow": {
       "slide_type": "fragment"
      }
     },
     "source": [
      "This is somewhat inconvenient, but luckily there's a syntax for this too! It allows us to construct functions on the fly."
     ]
    },
    {
     "cell_type": "markdown",
     "metadata": {
      "slideshow": {
       "slide_type": "slide"
      }
     },
     "source": [
      "#### Lambdas\n",
      "\n",
      "Sometimes we need to construct functions that we don't want to bind to a name\n",
      "\n",
      "They can be used in maps and other functional pieces of code, or how they work can be deteremined by user supplied data at runtime!"
     ]
    },
    {
     "cell_type": "code",
     "collapsed": false,
     "input": [
      "# syntax is \n",
      "# lambda {parameters}: {formula of parameters}\n",
      "\n",
      "# for instance our adds two function:\n",
      "def adds_two(n):\n",
      "    return n+2\n",
      "\n",
      "lambda n: n+2"
     ],
     "language": "python",
     "metadata": {
      "slideshow": {
       "slide_type": "fragment"
      }
     },
     "outputs": [],
     "prompt_number": 30
    },
    {
     "cell_type": "code",
     "collapsed": false,
     "input": [
      "# We actually *can* store them to names:\n",
      "\n",
      "adds_two = lambda x: x + 2\n",
      "\n",
      "adds_two(5)"
     ],
     "language": "python",
     "metadata": {
      "slideshow": {
       "slide_type": "fragment"
      }
     },
     "outputs": [
      {
       "metadata": {},
       "output_type": "pyout",
       "prompt_number": 13,
       "text": [
        "7"
       ]
      }
     ],
     "prompt_number": 13
    },
    {
     "cell_type": "code",
     "collapsed": false,
     "input": [
      "# Even more useful, we can stuff them inside a map:\n",
      "\n",
      "# make list of pairs of the form (x, 2*x)\n",
      "list(  map(lambda n: (n, 2*n), range(10))  )"
     ],
     "language": "python",
     "metadata": {
      "slideshow": {
       "slide_type": "slide"
      }
     },
     "outputs": [
      {
       "metadata": {},
       "output_type": "pyout",
       "prompt_number": 76,
       "text": [
        "[(0, 0),\n",
        " (1, 2),\n",
        " (2, 4),\n",
        " (3, 6),\n",
        " (4, 8),\n",
        " (5, 10),\n",
        " (6, 12),\n",
        " (7, 14),\n",
        " (8, 16),\n",
        " (9, 18)]"
       ]
      }
     ],
     "prompt_number": 76
    },
    {
     "cell_type": "markdown",
     "metadata": {
      "slideshow": {
       "slide_type": "slide"
      }
     },
     "source": [
      "Wait... didn't list comprehensions let us use conditionals, though?"
     ]
    },
    {
     "cell_type": "markdown",
     "metadata": {
      "slideshow": {
       "slide_type": "slide"
      }
     },
     "source": [
      "#### Filters\n",
      "\n",
      "Very similar to maps.\n",
      "\n",
      "Let's look at IPython again."
     ]
    },
    {
     "cell_type": "code",
     "collapsed": false,
     "input": [
      "# Get all the negative numbers from a list\n",
      "\n",
      "# functions like these that return True/False\n",
      "# are often called 'predicates'\n",
      "def positive(x):\n",
      "    return x > 0\n",
      "\n",
      "list(filter(lambda n: n > 0, np.random.randn(10)))\n",
      "\n",
      "# do we need the def?"
     ],
     "language": "python",
     "metadata": {
      "slideshow": {
       "slide_type": "fragment"
      }
     },
     "outputs": [
      {
       "metadata": {},
       "output_type": "pyout",
       "prompt_number": 77,
       "text": [
        "[1.9315300117531131,\n",
        " 1.2919557837792603,\n",
        " 0.68997933385622723,\n",
        " 0.7807077393015659,\n",
        " 0.5969128277061162,\n",
        " 1.8597501435411543,\n",
        " 0.51696958064787446]"
       ]
      }
     ],
     "prompt_number": 77
    },
    {
     "cell_type": "code",
     "collapsed": false,
     "input": [
      "# What list comprehension is this equivalent to?\n",
      "\n",
      "filter(predicate, ls)\n",
      "\n",
      "# equivalent to\n",
      "\n",
      "[item for item in ls if predicate(item)]"
     ],
     "language": "python",
     "metadata": {
      "slideshow": {
       "slide_type": "slide"
      }
     },
     "outputs": [],
     "prompt_number": null
    },
    {
     "cell_type": "markdown",
     "metadata": {
      "slideshow": {
       "slide_type": "slide"
      }
     },
     "source": [
      "#### Aha!\n",
      "\n",
      "So every list comprehension is equivalent to a map after a filter:"
     ]
    },
    {
     "cell_type": "code",
     "collapsed": false,
     "input": [
      "[f(x) for x in ls if predicate(x)]\n",
      "\n",
      "# equivalent to\n",
      "\n",
      "???\n",
      "\n",
      "# if you plan on using both features of a list comphrension,\n",
      "# stay away from the map, filter unless you have good reason to!"
     ],
     "language": "python",
     "metadata": {
      "slideshow": {
       "slide_type": "fragment"
      }
     },
     "outputs": [],
     "prompt_number": null
    },
    {
     "cell_type": "code",
     "collapsed": false,
     "input": [
      "# Puzzle: what if we want to perform some action a certain number of times?\n",
      "# Like making 15 of the same object?\n",
      "\n",
      "zero_qs = [Quaternion(0, 0, 0, 0) for _ in range(15)]\n",
      "print(zero_qs)"
     ],
     "language": "python",
     "metadata": {
      "slideshow": {
       "slide_type": "fragment"
      }
     },
     "outputs": [
      {
       "output_type": "stream",
       "stream": "stdout",
       "text": [
        "[0.00 + 0.00i + 0.00j + 0.00k, 0.00 + 0.00i + 0.00j + 0.00k, 0.00 + 0.00i + 0.00j + 0.00k, 0.00 + 0.00i + 0.00j + 0.00k, 0.00 + 0.00i + 0.00j + 0.00k, 0.00 + 0.00i + 0.00j + 0.00k, 0.00 + 0.00i + 0.00j + 0.00k, 0.00 + 0.00i + 0.00j + 0.00k, 0.00 + 0.00i + 0.00j + 0.00k, 0.00 + 0.00i + 0.00j + 0.00k, 0.00 + 0.00i + 0.00j + 0.00k, 0.00 + 0.00i + 0.00j + 0.00k, 0.00 + 0.00i + 0.00j + 0.00k, 0.00 + 0.00i + 0.00j + 0.00k, 0.00 + 0.00i + 0.00j + 0.00k]\n"
       ]
      }
     ],
     "prompt_number": 79
    },
    {
     "cell_type": "markdown",
     "metadata": {
      "slideshow": {
       "slide_type": "slide"
      }
     },
     "source": [
      "#### So we know how to turn sets of data into sets of other data...\n",
      "\n",
      "The last piece of the puzzle is turning lists of data into a single result.\n",
      "\n",
      "Reducing our data towards the end is often a necessary part of the process!"
     ]
    },
    {
     "cell_type": "markdown",
     "metadata": {
      "slideshow": {
       "slide_type": "slide"
      }
     },
     "source": [
      "#### Reducing with reduce\n",
      "\n",
      "reduce looks different than map/filter, to an extent"
     ]
    },
    {
     "cell_type": "code",
     "collapsed": false,
     "input": [
      "# Let's see how to add a list of numbers:\n",
      "from functools import reduce # a Python 3 thing, you don't need to do this\n",
      "\n",
      "\n",
      "reduce(lambda x, y: x * y, range(1,10))"
     ],
     "language": "python",
     "metadata": {
      "slideshow": {
       "slide_type": "fragment"
      }
     },
     "outputs": [
      {
       "metadata": {},
       "output_type": "pyout",
       "prompt_number": 80,
       "text": [
        "362880"
       ]
      }
     ],
     "prompt_number": 80
    },
    {
     "cell_type": "markdown",
     "metadata": {
      "slideshow": {
       "slide_type": "fragment"
      }
     },
     "source": [
      "Wait, what's up with that lambda?"
     ]
    },
    {
     "cell_type": "markdown",
     "metadata": {
      "slideshow": {
       "slide_type": "fragment"
      }
     },
     "source": [
      "reduce needs a place to start the computation, and keep an intermediate value.\n",
      "\n",
      "Let's look in IPython"
     ]
    },
    {
     "cell_type": "code",
     "collapsed": false,
     "input": [
      "# Why is the initial value important?\n",
      "\n",
      "# Let's consider how to multiply a list of numbers\n",
      "\n",
      "reduce(lambda x, y: x * y, [])"
     ],
     "language": "python",
     "metadata": {
      "slideshow": {
       "slide_type": "slide"
      }
     },
     "outputs": [
      {
       "ename": "TypeError",
       "evalue": "reduce() of empty sequence with no initial value",
       "output_type": "pyerr",
       "traceback": [
        "\u001b[0;31m---------------------------------------------------------------------------\u001b[0m",
        "\u001b[0;31mTypeError\u001b[0m                                 Traceback (most recent call last)",
        "\u001b[0;32m<ipython-input-82-68ac8e656b6e>\u001b[0m in \u001b[0;36m<module>\u001b[0;34m()\u001b[0m\n\u001b[1;32m      3\u001b[0m \u001b[0;31m# Let's consider how to multiply a list of numbers\u001b[0m\u001b[0;34m\u001b[0m\u001b[0;34m\u001b[0m\u001b[0m\n\u001b[1;32m      4\u001b[0m \u001b[0;34m\u001b[0m\u001b[0m\n\u001b[0;32m----> 5\u001b[0;31m \u001b[0mreduce\u001b[0m\u001b[0;34m(\u001b[0m\u001b[0;32mlambda\u001b[0m \u001b[0mx\u001b[0m\u001b[0;34m,\u001b[0m \u001b[0my\u001b[0m\u001b[0;34m:\u001b[0m \u001b[0mx\u001b[0m \u001b[0;34m*\u001b[0m \u001b[0my\u001b[0m\u001b[0;34m,\u001b[0m \u001b[0;34m[\u001b[0m\u001b[0;34m]\u001b[0m\u001b[0;34m)\u001b[0m\u001b[0;34m\u001b[0m\u001b[0m\n\u001b[0m",
        "\u001b[0;31mTypeError\u001b[0m: reduce() of empty sequence with no initial value"
       ]
      }
     ],
     "prompt_number": 82
    },
    {
     "cell_type": "code",
     "collapsed": false,
     "input": [
      "# it's the same reason you need to say prod = 1 at the beginning of the for loop version:\n",
      "\n",
      "prod = 1\n",
      "ls = [2, 3, 4]\n",
      "for x in ls:\n",
      "    prod *= x\n",
      "print(prod)"
     ],
     "language": "python",
     "metadata": {
      "slideshow": {
       "slide_type": "fragment"
      }
     },
     "outputs": [
      {
       "output_type": "stream",
       "stream": "stdout",
       "text": [
        "24\n"
       ]
      }
     ],
     "prompt_number": 37
    },
    {
     "cell_type": "markdown",
     "metadata": {
      "slideshow": {
       "slide_type": "slide"
      }
     },
     "source": [
      "#### When to use functional programming in Python\n",
      "\n",
      "It can be easy to get carried away with nested maps/filters/reduces and list comprehensions\n",
      "\n",
      "Although there are languages that encourage functional programming everywhere, Pyhton is *not* one of them, and it is not outfitted for working effectively in this style\n",
      "\n",
      "As a rule of thumb:\n",
      "\n",
      "1. Don't use FP if the FP solution will be longer than a few lines\n",
      "2. Don't use FP if you need to specify how to iterate\n",
      "3. DO use FP inside OOP code and methods, if it makes things simpler and easier to read"
     ]
    },
    {
     "cell_type": "code",
     "collapsed": false,
     "input": [
      "# Before we break for lab, let's work \n",
      "# through a few examples modulo time:\n",
      "\n",
      "# Get the length of string of all numbers between 0 and 100000\n",
      "print(___)\n",
      "\n",
      "# A broken function\n",
      "def buggy_fib(n):\n",
      "    if n == 0:\n",
      "        return 1\n",
      "    if n == 1:\n",
      "        return 2\n",
      "    return buggy_fib(n-1) + buggy_fib(n-2)\n",
      "\n",
      "# Make a function which takes a single argument function, \n",
      "# and returns a new one which does the same thing, \n",
      "# but which traces the parameter and return values"
     ],
     "language": "python",
     "metadata": {
      "slideshow": {
       "slide_type": "slide"
      }
     },
     "outputs": [],
     "prompt_number": null
    },
    {
     "cell_type": "markdown",
     "metadata": {
      "slideshow": {
       "slide_type": "slide"
      }
     },
     "source": [
      "#### Just so you know, there are a lot of FP topics we didn't cover\n",
      "\n",
      "Some more basic things:\n",
      "\n",
      "1. Dictionary comprehensions\n",
      "\n",
      "If you're curious...\n",
      "\n",
      "1. Closures and closure/object equivalence\n",
      "2. Advanced features in functools package\n",
      "3. Functors, transformers, and other advanced features in strongly typed FP languages"
     ]
    },
    {
     "cell_type": "code",
     "collapsed": false,
     "input": [
      "# A quick example of a closure:\n",
      "\n"
     ],
     "language": "python",
     "metadata": {
      "slideshow": {
       "slide_type": "fragment"
      }
     },
     "outputs": [],
     "prompt_number": 53
    },
    {
     "cell_type": "code",
     "collapsed": false,
     "input": [
      "### Syntax review:\n",
      "\n",
      "# ALSO: Ternary operator:\n",
      "# allows you to use one computation, OR another:\n",
      "# ex\n",
      "'number' if isinstance(n, (int, float, complex)) else 'other'\n",
      "\n",
      "# abstractly:\n",
      "# list comprehension\n",
      "[formula for name in ls]\n",
      "\n",
      "# map\n",
      "map(function, ls)\n",
      "\n",
      "#filter\n",
      "filter(predicate, ls)\n",
      "\n",
      "# reduce\n",
      "reduce(combining_function, ls[, starting value]) # starting value optional!\n",
      "\n",
      "# lambda\n",
      "lambda parameters: expression\n",
      "\n",
      "### Some concrete examples:\n",
      "\n",
      "# numbers in range(40) that contain a 3\n",
      "print(list(filter(lambda n: '3' in str(n), range(40))))\n",
      "\n",
      "# you can be gauss\n",
      "print(reduce(lambda x,y: x + y, range(100)))\n",
      "\n",
      "# remove whitespace and remove comments from a python file\n",
      "[\" \".join(line.split()) for line in open(\"python_file.py\") \\\n",
      " if not line.startswith('#')]"
     ],
     "language": "python",
     "metadata": {
      "slideshow": {
       "slide_type": "slide"
      }
     },
     "outputs": [],
     "prompt_number": null
    }
   ],
   "metadata": {}
  }
 ]
}