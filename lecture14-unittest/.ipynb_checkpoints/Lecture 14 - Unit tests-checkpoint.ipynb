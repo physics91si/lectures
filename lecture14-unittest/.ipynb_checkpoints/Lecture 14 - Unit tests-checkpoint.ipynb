{
 "cells": [
  {
   "cell_type": "markdown",
   "metadata": {
    "slideshow": {
     "slide_type": "slide"
    }
   },
   "source": [
    "# Lecture 14 - Testing "
   ]
  },
  {
   "cell_type": "markdown",
   "metadata": {
    "slideshow": {
     "slide_type": "fragment"
    }
   },
   "source": [
    "Your final projects are due in two weeks! Presentations on May 31st (+ food!)\n",
    "\n",
    "To help customize the assignment to your needs, Milestone 7 will have two parts.\n",
    "\n",
    "1. Get a rough draft of your code working! \n",
    "2. Practice explaining your results. You get to choose one of two options:\n",
    "    1. Make a plot of one of your results and annotate it (titles, axis labels, legend). \n",
    "        - Doesn't have to be final (or accurate), but should explain its significance.\n",
    "    2. Find a chunk of code (10-20 lines) and figure out how to explain how it currently works and how it’s supposed to work\n",
    "        - Pick one aspect about which to ask your partner for suggestions. “How can I make ______ work better?”\n"
   ]
  },
  {
   "cell_type": "markdown",
   "metadata": {
    "slideshow": {
     "slide_type": "slide"
    }
   },
   "source": [
    "Our last lecture on debugging! Teaching you how to test your code like a pro(fessional|grammer)!"
   ]
  },
  {
   "cell_type": "markdown",
   "metadata": {
    "slideshow": {
     "slide_type": "fragment"
    }
   },
   "source": [
    "Today's lecture will be short enough to give you time for a fun lab - building and testing out a calculator!"
   ]
  },
  {
   "cell_type": "markdown",
   "metadata": {
    "slideshow": {
     "slide_type": "slide"
    }
   },
   "source": [
    "### Unit tests\n",
    "\n",
    "We'll teach you how to use OOP to create your own autotesters"
   ]
  },
  {
   "cell_type": "markdown",
   "metadata": {
    "slideshow": {
     "slide_type": "fragment"
    }
   },
   "source": [
    "Testing comes in two frameworks:\n",
    "- Unit tests: modules, classes, functions\n",
    "    - knowledge of internals\n",
    "- System tests: entire programs\n",
    "    - treat system as a black-box"
   ]
  },
  {
   "cell_type": "markdown",
   "metadata": {
    "slideshow": {
     "slide_type": "slide"
    }
   },
   "source": [
    "### How do I do this 'unit test'?\n",
    "\n",
    "First, import the built-in package, ```unittest```\n",
    "    - import unittest"
   ]
  },
  {
   "cell_type": "markdown",
   "metadata": {
    "slideshow": {
     "slide_type": "fragment"
    }
   },
   "source": [
    "Create a subclass of the class unittest.TestCase.\n",
    "    - class TestMyModule(unittest.TestCase)"
   ]
  },
  {
   "cell_type": "markdown",
   "metadata": {
    "slideshow": {
     "slide_type": "fragment"
    }
   },
   "source": [
    "Define methods that contain individual tests\n",
    "    - def test_tostring(self):"
   ]
  },
  {
   "cell_type": "markdown",
   "metadata": {
    "slideshow": {
     "slide_type": "slide"
    }
   },
   "source": [
    "How do you check that a method behaves the way you want? \n",
    "```\n",
    "def test_tostring(self):\n",
    "    #what goes here?\n",
    "```"
   ]
  },
  {
   "cell_type": "markdown",
   "metadata": {
    "slideshow": {
     "slide_type": "fragment"
    }
   },
   "source": [
    "Special **assert** functions:\n",
    "\n",
    "- assertEqual() - takes in two parameters (any type) \n",
    "\n",
    "- assertTrue() - takes in a boolean parameter\n",
    "- assertFalse() - takes in a boolean parameter\n",
    "\n",
    "- assertRaises() - takes in an Exception parameter"
   ]
  },
  {
   "cell_type": "markdown",
   "metadata": {
    "slideshow": {
     "slide_type": "slide"
    }
   },
   "source": [
    "We're going to test out some methods in the `string` class"
   ]
  },
  {
   "cell_type": "code",
   "execution_count": 7,
   "metadata": {
    "collapsed": false,
    "slideshow": {
     "slide_type": "fragment"
    }
   },
   "outputs": [],
   "source": [
    "# Saved in string_test.py file\n",
    "\n",
    "import unittest\n",
    "# string module is already imported\n",
    "\n",
    "class TestStringMethods(unittest.TestCase):\n",
    "            \n",
    "    def test_upper(self):\n",
    "        self.assertEqual('foo'.upper(), 'FOO')\n",
    "\n",
    "    def test_isupper(self):\n",
    "        self.assertTrue('FOO'.isupper())\n",
    "        self.assertFalse('Foo'.isupper())\n",
    "\n",
    "    def test_split(self):\n",
    "        s = 'hello world'\n",
    "        self.assertEqual(s.split(), ['hello', 'world'])\n",
    "        # check that s.split fails when the separator is not a string\n",
    "        with self.assertRaises(TypeError):\n",
    "            s.split(2)\n",
    "\n",
    "#if __name__ == '__main__':\n",
    "#   unittest.main()"
   ]
  },
  {
   "cell_type": "markdown",
   "metadata": {
    "slideshow": {
     "slide_type": "slide"
    }
   },
   "source": [
    "Individual test method are of the form:\n",
    "```\n",
    "def test_<methodname>(self):\n",
    "    #self is an instance of unittest.TestCase\n",
    "    self.assertFalse(...)\n",
    "    \n",
    "```\n",
    "\n",
    "Note that checking if an error is raised requires a special ```with ```  environment in order to first  **catch** the error.\n",
    "```\n",
    "with self.assertRaises(TypeError)\n",
    "    <do something that raises a TypeError>\n",
    "```\n"
   ]
  },
  {
   "cell_type": "markdown",
   "metadata": {
    "slideshow": {
     "slide_type": "slide"
    }
   },
   "source": [
    "#### Okay, how do I run the tests? \n",
    "\n",
    "Type this in the the command line. \n",
    "```\n",
    "python string_test.py\n",
    "```\n",
    "\n",
    "Add a `-v` in order to make it 'verbose' and give individual test results"
   ]
  },
  {
   "cell_type": "code",
   "execution_count": 87,
   "metadata": {
    "collapsed": false,
    "scrolled": true,
    "slideshow": {
     "slide_type": "fragment"
    }
   },
   "outputs": [
    {
     "name": "stdout",
     "output_type": "stream",
     "text": [
      "...\r\n",
      "----------------------------------------------------------------------\r\n",
      "Ran 3 tests in 0.000s\r\n",
      "\r\n",
      "OK\r\n"
     ]
    }
   ],
   "source": [
    "!python string_test.py"
   ]
  },
  {
   "cell_type": "code",
   "execution_count": 109,
   "metadata": {
    "collapsed": false
   },
   "outputs": [
    {
     "name": "stdout",
     "output_type": "stream",
     "text": [
      "test_isupper (__main__.TestStringMethods) ... ok\n",
      "test_split (__main__.TestStringMethods) ... ok\n",
      "test_upper (__main__.TestStringMethods) ... ok\n",
      "\n",
      "----------------------------------------------------------------------\n",
      "Ran 3 tests in 0.000s\n",
      "\n",
      "OK\n"
     ]
    }
   ],
   "source": [
    "!python string_test.py -v"
   ]
  },
  {
   "cell_type": "code",
   "execution_count": 108,
   "metadata": {
    "collapsed": false,
    "slideshow": {
     "slide_type": "slide"
    }
   },
   "outputs": [
    {
     "name": "stdout",
     "output_type": "stream",
     "text": [
      "test_isupper (__main__.TestStringMethods) ... FAIL\n",
      "test_split (__main__.TestStringMethods) ... ok\n",
      "test_upper (__main__.TestStringMethods) ... ok\n",
      "\n",
      "======================================================================\n",
      "FAIL: test_isupper (__main__.TestStringMethods)\n",
      "----------------------------------------------------------------------\n",
      "Traceback (most recent call last):\n",
      "  File \"string_test.py\", line 10, in test_isupper\n",
      "    self.assertTrue('Foo'.isupper())\n",
      "AssertionError: False is not true\n",
      "\n",
      "----------------------------------------------------------------------\n",
      "Ran 3 tests in 0.001s\n",
      "\n",
      "FAILED (failures=1)\n"
     ]
    }
   ],
   "source": [
    "# Failed version!!!\n",
    "\n",
    "!python string_test.py -v"
   ]
  },
  {
   "cell_type": "markdown",
   "metadata": {
    "collapsed": true,
    "slideshow": {
     "slide_type": "slide"
    }
   },
   "source": [
    "### Setup command"
   ]
  },
  {
   "cell_type": "markdown",
   "metadata": {
    "slideshow": {
     "slide_type": "fragment"
    }
   },
   "source": [
    "Let's say you want to create an instance of a class to use in your test case methods. \n",
    "\n",
    "Instead of creating the object in every method, why not define it once and then reuse it?\n",
    "\n",
    "This is where the ` setUp() ` method comes in handy."
   ]
  },
  {
   "cell_type": "code",
   "execution_count": 24,
   "metadata": {
    "collapsed": false,
    "slideshow": {
     "slide_type": "skip"
    }
   },
   "outputs": [
    {
     "data": {
      "text/plain": [
       "<module 'sets' from '/Users/Andrew/Physics-91_SI/lectures/lecture14-unittest/sets.py'>"
      ]
     },
     "execution_count": 24,
     "metadata": {},
     "output_type": "execute_result"
    }
   ],
   "source": [
    "import sets \n",
    "from importlib import reload\n",
    "reload(sets)"
   ]
  },
  {
   "cell_type": "code",
   "execution_count": 116,
   "metadata": {
    "collapsed": false,
    "slideshow": {
     "slide_type": "slide"
    }
   },
   "outputs": [],
   "source": [
    "import sets \n",
    "\n",
    "class TestSetMethods(unittest.TestCase):\n",
    "    \n",
    "    def setUp(self):\n",
    "        self.A = sets.Set([1,2,3])\n",
    "        self.B = sets.Set([3,4,5])\n",
    "    \n",
    "    def test_or(self):\n",
    "        C = self.A | self.B\n",
    "        self.assertEqual(C.data, [1,2,3,4,5] , 'wrong union')\n",
    "        \n",
    "    def test_and(self):\n",
    "        D = self.A & self.B\n",
    "        self.assertEqual(D.data, [3] , 'wrong intersection')\n",
    "    \n",
    "    def test_sub(self):\n",
    "        E = self.A - self.B\n",
    "        self.assertEqual(E.data, [1,2] , 'wrong difference')"
   ]
  },
  {
   "cell_type": "code",
   "execution_count": 106,
   "metadata": {
    "collapsed": false,
    "slideshow": {
     "slide_type": "slide"
    }
   },
   "outputs": [
    {
     "name": "stdout",
     "output_type": "stream",
     "text": [
      "test_and (__main__.TestSetMethods) ... ok\r\n",
      "test_or (__main__.TestSetMethods) ... ok\r\n",
      "test_sub (__main__.TestSetMethods) ... ok\r\n",
      "\r\n",
      "----------------------------------------------------------------------\r\n",
      "Ran 3 tests in 0.001s\r\n",
      "\r\n",
      "OK\r\n"
     ]
    }
   ],
   "source": [
    "!python set_test.py -v"
   ]
  },
  {
   "cell_type": "code",
   "execution_count": 121,
   "metadata": {
    "collapsed": false,
    "scrolled": true,
    "slideshow": {
     "slide_type": "slide"
    }
   },
   "outputs": [
    {
     "name": "stdout",
     "output_type": "stream",
     "text": [
      "test_and (__main__.TestSetMethods) ... ok\r\n",
      "test_or (__main__.TestSetMethods) ... ok\r\n",
      "test_sub (__main__.TestSetMethods) ... FAIL\r\n",
      "\r\n",
      "======================================================================\r\n",
      "FAIL: test_sub (__main__.TestSetMethods)\r\n",
      "----------------------------------------------------------------------\r\n",
      "Traceback (most recent call last):\r\n",
      "  File \"set_test.py\", line 20, in test_sub\r\n",
      "    self.assertEqual(E.data, [1,2] , 'wrong difference')\r\n",
      "AssertionError: Lists differ: [3] != [1, 2]\r\n",
      "\r\n",
      "First differing element 0:\r\n",
      "3\r\n",
      "1\r\n",
      "\r\n",
      "Second list contains 1 additional elements.\r\n",
      "First extra element 1:\r\n",
      "2\r\n",
      "\r\n",
      "- [3]\r\n",
      "+ [1, 2] : wrong difference\r\n",
      "\r\n",
      "----------------------------------------------------------------------\r\n",
      "Ran 3 tests in 0.002s\r\n",
      "\r\n",
      "FAILED (failures=1)\r\n"
     ]
    }
   ],
   "source": [
    "# Failed version!!!\n",
    "!python set_test.py -v"
   ]
  },
  {
   "cell_type": "markdown",
   "metadata": {
    "slideshow": {
     "slide_type": "slide"
    }
   },
   "source": [
    "### Q: How do I run my tests without resorting to the command line?\n"
   ]
  },
  {
   "cell_type": "markdown",
   "metadata": {
    "slideshow": {
     "slide_type": "fragment"
    }
   },
   "source": [
    "First of all tests should be run outside of your program \n",
    "\n",
    "Reasons: \n",
    "\n",
    "1. It's really **easy** to run the test.py as an individual module. \n",
    "2. There is less temptation to change test code to fit the code it tests without a good reason     \n",
    "3. Tested code can be refactored more easily (e.g. rewritten in C)"
   ]
  },
  {
   "cell_type": "markdown",
   "metadata": {
    "slideshow": {
     "slide_type": "slide"
    }
   },
   "source": [
    "*But*...there IS a way to do it. This involves packaging your test cases into a **test suite**"
   ]
  },
  {
   "cell_type": "code",
   "execution_count": 127,
   "metadata": {
    "collapsed": false,
    "slideshow": {
     "slide_type": "fragment"
    }
   },
   "outputs": [],
   "source": [
    "# Define a suite\n",
    "suite = unittest.TestSuite()\n",
    "\n",
    "# Can add single tests from other test cases\n",
    "suite.addTest(TestStringMethods('test_split'))\n",
    "suite.addTest(TestSetMethods('test_or'))"
   ]
  },
  {
   "cell_type": "code",
   "execution_count": 128,
   "metadata": {
    "collapsed": false,
    "slideshow": {
     "slide_type": "slide"
    }
   },
   "outputs": [
    {
     "name": "stderr",
     "output_type": "stream",
     "text": [
      "test_and (__main__.TestSetMethods) ... ok\n",
      "test_or (__main__.TestSetMethods) ... ok\n",
      "test_sub (__main__.TestSetMethods) ... ok\n",
      "\n",
      "----------------------------------------------------------------------\n",
      "Ran 3 tests in 0.004s\n",
      "\n",
      "OK\n"
     ]
    },
    {
     "data": {
      "text/plain": [
       "<unittest.runner.TextTestResult run=3 errors=0 failures=0>"
      ]
     },
     "execution_count": 128,
     "metadata": {},
     "output_type": "execute_result"
    }
   ],
   "source": [
    "# Loads the test cases from the TestSetMethods\n",
    "suite = unittest.TestLoader().loadTestsFromTestCase(TestSetMethods)\n",
    "\n",
    "# Run your suite using verbose mode\n",
    "unittest.TextTestRunner(verbosity=2).run(suite) "
   ]
  },
  {
   "cell_type": "markdown",
   "metadata": {
    "slideshow": {
     "slide_type": "slide"
    }
   },
   "source": [
    "### Discovery magic\n",
    "\n",
    "You can also discover and run all your test cases at the same time! \n",
    "\n",
    "`discover` automagically finds your test files and run them. "
   ]
  },
  {
   "cell_type": "code",
   "execution_count": 105,
   "metadata": {
    "collapsed": false,
    "slideshow": {
     "slide_type": "fragment"
    }
   },
   "outputs": [
    {
     "name": "stdout",
     "output_type": "stream",
     "text": [
      "test_and (set_test.TestSetMethods) ... ok\r\n",
      "test_or (set_test.TestSetMethods) ... ok\r\n",
      "test_sub (set_test.TestSetMethods) ... ok\r\n",
      "test_isupper (string_test.TestStringMethods) ... ok\r\n",
      "test_split (string_test.TestStringMethods) ... ok\r\n",
      "test_upper (string_test.TestStringMethods) ... ok\r\n",
      "\r\n",
      "----------------------------------------------------------------------\r\n",
      "Ran 6 tests in 0.001s\r\n",
      "\r\n",
      "OK\r\n"
     ]
    }
   ],
   "source": [
    "!python -m unittest discover -p '*_test.py' -v"
   ]
  },
  {
   "cell_type": "markdown",
   "metadata": {
    "slideshow": {
     "slide_type": "slide"
    }
   },
   "source": [
    "In summary, unit test is a framework for building checks for every modules you use.\n",
    "\n",
    "It's an **essential** part of good Object-Oriented Programming.\n",
    "\n",
    "Importantly, it needs to be *fast*, since you will run it frequently. Practically speaking, this means to choose small test cases.\n",
    "\n",
    "But we'll have a guest lecture talk about optimization on Thursday!"
   ]
  },
  {
   "cell_type": "code",
   "execution_count": null,
   "metadata": {
    "collapsed": true,
    "slideshow": {
     "slide_type": "slide"
    }
   },
   "outputs": [],
   "source": [
    "# Summary \n",
    "import unittest\n",
    "\n",
    "# define your test case as a subclass of TestCase\n",
    "class TestMod(unittest.TestCase):\n",
    "            \n",
    "# define test case methods\n",
    "def test_method(self):\n",
    "    \n",
    "# various assert statements    \n",
    "assertEqual(...,...)\n",
    "assertTrue(...)\n",
    "assertFalse(...)\n",
    "\n",
    "# assertRaises has special syntax\n",
    "with assertRaises(...Error)\n",
    "    ...\n",
    "\n",
    "# Allows you to run from command line\n",
    "if __name__ == '__main__':\n",
    "    unittest.main()"
   ]
  }
 ],
 "metadata": {
  "celltoolbar": "Slideshow",
  "kernelspec": {
   "display_name": "Python 3",
   "language": "python",
   "name": "python3"
  },
  "language_info": {
   "codemirror_mode": {
    "name": "ipython",
    "version": 3
   },
   "file_extension": ".py",
   "mimetype": "text/x-python",
   "name": "python",
   "nbconvert_exporter": "python",
   "pygments_lexer": "ipython3",
   "version": "3.5.1"
  }
 },
 "nbformat": 4,
 "nbformat_minor": 0
}
