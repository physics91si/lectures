{
 "cells": [
  {
   "cell_type": "markdown",
   "metadata": {},
   "source": [
    "# Lecture 8"
   ]
  },
  {
   "cell_type": "markdown",
   "metadata": {},
   "source": [
    "## Object-Oriented Programming"
   ]
  },
  {
   "cell_type": "markdown",
   "metadata": {},
   "source": [
    "###### OOP vs. Procedural Programming\n",
    "\n",
    "**What are procedures?**\n",
    "\n",
    "Procedures are commands that do something. \n",
    "They are like functions, but don't necessarily return an output\n",
    "\n",
    "**What is a procedural program?**\n",
    "It's a program where you input a serious of commands that the computer follows. Then it returns the desired output at the end. "
   ]
  },
  {
   "cell_type": "markdown",
   "metadata": {},
   "source": [
    "Example of a **procedure**:\n",
    "```\n",
    "half_n_half_pints = 2\n",
    "heavy_whip_cream_pints = 1\n",
    "sugar_grams = 100\n",
    "liquid_nitrogen_liters = 4\n",
    "bowl = (___)   # not actually Python command\n",
    "\n",
    "ice_cream_mixture = combine(half_n_half_pints,heavy_whip_cream_pints,sugar_grams,bowl)\n",
    "\n",
    "spoon = True    # no picture for this one...\n",
    "\n",
    "while !solid(ice_cream_mixture) and liquid_nitrogen_liters > 0:\n",
    "    pour_ln2(ice_cream_mixture)\n",
    "    mix(ice_cream_mixture,spoon) \n",
    "    liquid_nitrogen_liters -= 0.2\n",
    "serve(ice_cream_mixture)\n",
    "```"
   ]
  },
  {
   "cell_type": "markdown",
   "metadata": {},
   "source": [
    "In functional programming, all commands are functions in a procedure:\n",
    "```\n",
    "function(arguments)\n",
    "\n",
    "```\n",
    "In OOP, we use **classes** to represent **objects** and **methods** that perform actions on the object or return output\n",
    "```\n",
    "object.method(arguments)\n",
    "```"
   ]
  },
  {
   "cell_type": "markdown",
   "metadata": {},
   "source": [
    "###### What are the benefits of using OOP? \n",
    "* Helps you decompose your program into discrete chunks\n",
    "* Allows you to reuse code you’ve already written in new programs\n",
    "* Make changes easily across code snippets"
   ]
  },
  {
   "cell_type": "markdown",
   "metadata": {},
   "source": [
    "**How would I define a class in Java?**\n",
    "\n",
    "Classes have two main attributes: **methods** and **variables**\n",
    "\n",
    "There's a special method called the **constructor**\n",
    "\n",
    "```\n",
    "public class Dog{\n",
    "    //instance variables\n",
    "    private String breed;\n",
    "    private int age;\n",
    "\n",
    "    public Dog(int startAge, String breed){\n",
    "        age = startAge;\n",
    "        breed = breed;\n",
    "    }\n",
    "    //helper methods\n",
    "    void bark(){\n",
    "        System.out.println(\"Woof!!!\"); \n",
    "    }\n",
    "}\n",
    "```"
   ]
  },
  {
   "cell_type": "markdown",
   "metadata": {},
   "source": [
    "In Python, it's a lot* easier!\n",
    "\n",
    "Roughly like a function, but with `class` instead of `def`\n",
    "```\n",
    "class <classname>:\n",
    "    def __init__(self):\n",
    "        pass\n",
    "        \n",
    "    def <method>(self,...):\n",
    "        pass\n",
    "```\n",
    "*a little bit"
   ]
  },
  {
   "cell_type": "markdown",
   "metadata": {},
   "source": [
    "```\n",
    "class Dog:\n",
    "\n",
    "    #this is a constructor\n",
    "    #note the special parameter *self*\n",
    "    def __init__(self,age,breed):\n",
    "        self.age = age\n",
    "        self.breed = breed\n",
    "    \n",
    "    def bark(self):\n",
    "        print('Woof!')\n",
    "```"
   ]
  },
  {
   "cell_type": "markdown",
   "metadata": {},
   "source": [
    "And you can instantiate objects pretty easily! \n",
    "```    \n",
    "my_dog = Dog(5,'Pomeranian')\n",
    "my_dog.bark()\n",
    "```\n",
    "Compare with Java:\n",
    "```\n",
    "Dog your_dog = new Dog(15,'Pug')\n",
    "your_dog.bark();\n",
    "```"
   ]
  },
  {
   "cell_type": "markdown",
   "metadata": {},
   "source": [
    "Let's try to make a class for complex numbers!"
   ]
  },
  {
   "cell_type": "code",
   "execution_count": 30,
   "metadata": {
    "collapsed": false
   },
   "outputs": [],
   "source": [
    "import math\n",
    "class Complex:\n",
    "    '''A class that represents a complex number with a real and imaginary part'''\n",
    "    #Initialize a complex number\n",
    "    def __init__(self,realpart,imagpart):\n",
    "        self.real = realpart\n",
    "        self.imag = imagpart\n",
    "        \n",
    "    #What methods do complex numbers have?\n",
    "    def __add__(self,other): \n",
    "        if other.__class__ == 'float':\n",
    "            return Complex(self.real+other,self.imag)\n",
    "        else: \n",
    "            return Complex(self.real + other.real, self.imag + other.imag)\n",
    "        #a complex number with sum of real and imaginary parts\n",
    "        #duck typing \n",
    "        #\"if it walks likes a duck and quacks like a duck, then it is a duck.\"\n",
    "    def conjugate(self):\n",
    "        return Complex(self.real,-self.imag)\n",
    "    def __abs__(self):\n",
    "        return math.sqrt(self.real ** 2 + self.imag **2)\n",
    "       \n",
    "    def __str__(self):\n",
    "#        return \"{self.real} + {self.imag}i\".format(self=self)\n",
    "        return str(self.real) + '+'+ str(self.imag) + 'i'\n",
    "    "
   ]
  },
  {
   "cell_type": "code",
   "execution_count": 31,
   "metadata": {
    "collapsed": false
   },
   "outputs": [
    {
     "name": "stdout",
     "output_type": "stream",
     "text": [
      "20\n",
      "3\n"
     ]
    },
    {
     "data": {
      "text/plain": [
       "'20+3i'"
      ]
     },
     "execution_count": 31,
     "metadata": {},
     "output_type": "execute_result"
    }
   ],
   "source": [
    "z = Complex(5,3)\n",
    "z2 = z + 15\n",
    "print(z2.real)\n",
    "print(z2.imag)\n",
    "str(z2)"
   ]
  },
  {
   "cell_type": "code",
   "execution_count": null,
   "metadata": {
    "collapsed": true
   },
   "outputs": [],
   "source": []
  }
 ],
 "metadata": {
  "kernelspec": {
   "display_name": "Python 3",
   "language": "python",
   "name": "python3"
  },
  "language_info": {
   "codemirror_mode": {
    "name": "ipython",
    "version": 3
   },
   "file_extension": ".py",
   "mimetype": "text/x-python",
   "name": "python",
   "nbconvert_exporter": "python",
   "pygments_lexer": "ipython3",
   "version": "3.5.1"
  }
 },
 "nbformat": 4,
 "nbformat_minor": 0
}
