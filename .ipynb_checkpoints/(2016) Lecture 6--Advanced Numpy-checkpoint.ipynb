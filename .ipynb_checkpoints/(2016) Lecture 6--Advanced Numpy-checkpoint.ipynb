{
 "cells": [
  {
   "cell_type": "code",
   "execution_count": 103,
   "metadata": {
    "collapsed": false,
    "slideshow": {
     "slide_type": "skip"
    }
   },
   "outputs": [],
   "source": [
    "from IPython.display import clear_output\n",
    "import numpy as np\n",
    "from scipy import misc\n",
    "import scipy\n",
    "import matplotlib.pyplot as plt\n",
    "\n",
    "\n",
    "%matplotlib inline"
   ]
  },
  {
   "cell_type": "markdown",
   "metadata": {
    "slideshow": {
     "slide_type": "slide"
    }
   },
   "source": [
    "#### Lecture 6: Advanced Numpy\n",
    "Welcome back!\n",
    "\n",
    "Here's what we've got lined up for today:"
   ]
  },
  {
   "cell_type": "markdown",
   "metadata": {
    "slideshow": {
     "slide_type": "fragment"
    }
   },
   "source": [
    "1. Higher dimensional arrays\n",
    "2. Indexing (it's easy and universal!)\n",
    "3. Curve-fitting\n",
    "\n",
    "###### Learning Objectives\n",
    "\n",
    "Want to get you more comfortable with syntax, planning and executing your projects, and finding what you need, on Google, or in the inline documentation sources"
   ]
  },
  {
   "cell_type": "markdown",
   "metadata": {
    "slideshow": {
     "slide_type": "slide"
    }
   },
   "source": [
    "As always, please follow along, experiment, stumble, and explore in your own notebook"
   ]
  },
  {
   "cell_type": "markdown",
   "metadata": {
    "slideshow": {
     "slide_type": "fragment"
    }
   },
   "source": [
    "#### Shebang\n",
    "\n",
    "You can put (and you should) \n",
    "\n",
    "\\#!/usr/bin/python \n",
    "\n",
    "to run more easily in terminal!"
   ]
  },
  {
   "cell_type": "markdown",
   "metadata": {
    "slideshow": {
     "slide_type": "slide"
    }
   },
   "source": [
    "#### Review from Tuesday\n",
    "\n",
    "Covered:\n",
    "\n",
    "1. Basic numpy syntax\n",
    "\n",
    "2. Basic plotting"
   ]
  },
  {
   "cell_type": "markdown",
   "metadata": {
    "slideshow": {
     "slide_type": "fragment"
    }
   },
   "source": [
    "# QUESTIONS?"
   ]
  },
  {
   "cell_type": "code",
   "execution_count": 98,
   "metadata": {
    "collapsed": false,
    "slideshow": {
     "slide_type": "slide"
    }
   },
   "outputs": [
    {
     "name": "stdout",
     "output_type": "stream",
     "text": [
      "[1 2 3]\n"
     ]
    }
   ],
   "source": [
    "# I'll use import numpy as np throughout\n",
    "import numpy as np\n",
    "\n",
    "# We were able to get data into numpy with np.array()\n",
    "print(np.array([1,2,3]))\n",
    "\n",
    "# How to get a numpy array with 0 - 49?"
   ]
  },
  {
   "cell_type": "code",
   "execution_count": 99,
   "metadata": {
    "collapsed": false,
    "slideshow": {
     "slide_type": "fragment"
    }
   },
   "outputs": [
    {
     "name": "stdout",
     "output_type": "stream",
     "text": [
      "[ 0.   0.1  0.2  0.3  0.4  0.5  0.6  0.7  0.8  0.9]\n",
      "[ 0.   0.1  0.2  0.3  0.4  0.5  0.6  0.7  0.8  0.9]\n"
     ]
    }
   ],
   "source": [
    "# What about 0.0, 0.1, 0.2, ... 0.9?\n",
    "\n",
    "# arange, linspace, logspace"
   ]
  },
  {
   "cell_type": "code",
   "execution_count": 17,
   "metadata": {
    "collapsed": false,
    "slideshow": {
     "slide_type": "fragment"
    }
   },
   "outputs": [
    {
     "data": {
      "image/png": "[encoded data removed]",
      "text/plain": [
       "<matplotlib.figure.Figure at 0x10c6154e0>"
      ]
     },
     "metadata": {},
     "output_type": "display_data"
    }
   ],
   "source": [
    "# plotting is easy, how about an exponential curve?\n",
    "import matplotlib.pyplot as plt\n",
    "\n",
    "plt.plot(np.linspace(0, 1, 10), np.logspace(0, 1, 10))\n",
    "# gets rid of annoying axes output... NECESSARY out of IPythonNotebook\n",
    "plt.show()"
   ]
  },
  {
   "cell_type": "code",
   "execution_count": 100,
   "metadata": {
    "collapsed": false,
    "slideshow": {
     "slide_type": "slide"
    }
   },
   "outputs": [
    {
     "name": "stdout",
     "output_type": "stream",
     "text": [
      "['Def NaN' '1']\n"
     ]
    }
   ],
   "source": [
    "# Remember that Python was able to coerce ints to strings?\n",
    "print(np.array(['Def NaN', 1]))\n",
    "\n",
    "# Magic!? Nope... numpy finds the 'smallest' type that's 'big enough'\n",
    "# to hold everything... (strings can 'hold' numbers)"
   ]
  },
  {
   "cell_type": "code",
   "execution_count": 101,
   "metadata": {
    "collapsed": false,
    "slideshow": {
     "slide_type": "fragment"
    }
   },
   "outputs": [
    {
     "data": {
      "text/plain": [
       "(array([5, 7, 9]), array([ 4, 10, 18]))"
      ]
     },
     "execution_count": 101,
     "metadata": {},
     "output_type": "execute_result"
    }
   ],
   "source": [
    "# We also saw we could do basic math\n",
    "a, b = np.array([1,2,3]), np.array([4,5,6])\n",
    "\n",
    "a + b, a * b\n",
    "# convenient for specifying lots of calculations in parallel!"
   ]
  },
  {
   "cell_type": "code",
   "execution_count": 24,
   "metadata": {
    "collapsed": false,
    "slideshow": {
     "slide_type": "slide"
    }
   },
   "outputs": [
    {
     "name": "stdout",
     "output_type": "stream",
     "text": [
      "['Def NaN' '1']\n"
     ]
    }
   ],
   "source": [
    "# Just a note, we can also tell numpy how to convert things\n",
    "print(np.array(['Def NaN', 1], str))"
   ]
  },
  {
   "cell_type": "code",
   "execution_count": 71,
   "metadata": {
    "collapsed": false,
    "scrolled": true,
    "slideshow": {
     "slide_type": "fragment"
    }
   },
   "outputs": [
    {
     "data": {
      "text/plain": [
       "<matplotlib.image.AxesImage at 0x1153ef278>"
      ]
     },
     "execution_count": 71,
     "metadata": {},
     "output_type": "execute_result"
    },
    {
     "data": {
      "image/png": "[encoded data removed]",
      "text/plain": [
       "<matplotlib.figure.Figure at 0x1142bf630>"
      ]
     },
     "metadata": {},
     "output_type": "display_data"
    }
   ],
   "source": [
    "img = misc.imread('/Users/Andrew/Physics-91_SI/lectures/octocat.jpg')\n",
    "\n",
    "plt.imshow(img)"
   ]
  },
  {
   "cell_type": "code",
   "execution_count": 64,
   "metadata": {
    "collapsed": false,
    "slideshow": {
     "slide_type": "slide"
    }
   },
   "outputs": [
    {
     "name": "stdout",
     "output_type": "stream",
     "text": [
      "<class 'numpy.ndarray'>\n",
      "(896, 896, 3)\n"
     ]
    }
   ],
   "source": [
    "# Oh and by the way...\n",
    "print(type(img))\n",
    "print(img.shape)"
   ]
  },
  {
   "cell_type": "code",
   "execution_count": 65,
   "metadata": {
    "collapsed": false,
    "slideshow": {
     "slide_type": "fragment"
    }
   },
   "outputs": [
    {
     "data": {
      "text/plain": [
       "<matplotlib.image.AxesImage at 0x114b332b0>"
      ]
     },
     "execution_count": 65,
     "metadata": {},
     "output_type": "execute_result"
    },
    {
     "data": {
      "image/png": "[encoded data removed]",
      "text/plain": [
       "<matplotlib.figure.Figure at 0x1153e53c8>"
      ]
     },
     "metadata": {},
     "output_type": "display_data"
    }
   ],
   "source": [
    "img[:,:,0], img[:,:,1], img[:,:,2] = np.copy(img[:,:,1]), np.copy(img[:,:,2]), np.copy(img[:,:,0])\n",
    "plt.imshow(img)"
   ]
  },
  {
   "cell_type": "code",
   "execution_count": 66,
   "metadata": {
    "collapsed": false,
    "slideshow": {
     "slide_type": "slide"
    }
   },
   "outputs": [
    {
     "name": "stdout",
     "output_type": "stream",
     "text": [
      "[     nan  3.14159  3.     ]\n"
     ]
    }
   ],
   "source": [
    "# Ahem... to get back to np.array()...\n",
    "# What if we want to make numbers from strings and other numbery things?\n",
    "\n",
    "print(np.array(['NaN', '3.14159', 3], float))"
   ]
  },
  {
   "cell_type": "code",
   "execution_count": 67,
   "metadata": {
    "collapsed": false,
    "slideshow": {
     "slide_type": "slide"
    }
   },
   "outputs": [
    {
     "name": "stdout",
     "output_type": "stream",
     "text": [
      "array(object, dtype=None, copy=True, order=None, subok=False, ndmin=0)\n",
      "\n",
      "    Create an array.\n",
      "\n",
      "    Parameters\n",
      "    ----------\n",
      "    object : array_like\n",
      "        An array, any object exposing the array interface, an\n",
      "        object whose __array__ method returns an array, or any\n",
      "        (nested) sequence.\n",
      "    dtype : data-type, optional\n",
      "        The desired data-type for the array.  If not given, then\n",
      "        the type will be determined as the minimum type required\n",
      "        to hold the objects in the sequence.  This argument can only\n",
      "        be used to 'upcast' the array.  For downcasting, use the\n",
      "        .astype(t) method.\n"
     ]
    }
   ],
   "source": [
    "documentation = np.array.__doc__\n",
    "print(\"\\n\".join(documentation.split(\"\\n\")[:16]))\n"
   ]
  },
  {
   "cell_type": "code",
   "execution_count": 68,
   "metadata": {
    "collapsed": false,
    "slideshow": {
     "slide_type": "slide"
    }
   },
   "outputs": [
    {
     "name": "stdout",
     "output_type": "stream",
     "text": [
      "(177.55778783681441, 175.11722611407845, 184.83263163663904)\n"
     ]
    }
   ],
   "source": [
    "# Now that we have arrays in numpy, we can do some more basic math with them\n",
    "\n",
    "r_ness = np.sum(img[:, :, 0]) / np.prod(img.shape[:-1])\n",
    "g_ness = np.sum(img[:, :, 1]) / np.prod(img.shape[:-1])\n",
    "b_ness = np.sum(img[:, :, 2]) / np.prod(img.shape[:-1])\n",
    "print((r_ness, g_ness, b_ness))"
   ]
  },
  {
   "cell_type": "code",
   "execution_count": 69,
   "metadata": {
    "collapsed": false,
    "slideshow": {
     "slide_type": "fragment"
    }
   },
   "outputs": [
    {
     "data": {
      "image/png": "[encoded data removed]",
      "text/plain": [
       "<matplotlib.figure.Figure at 0x11507d978>"
      ]
     },
     "metadata": {},
     "output_type": "display_data"
    }
   ],
   "source": [
    "# So average image is...\n",
    "\n",
    "img[:,:] = (r_ness, g_ness, b_ness)\n",
    "\n",
    "plt.imshow(img)\n",
    "plt.show()"
   ]
  },
  {
   "cell_type": "markdown",
   "metadata": {
    "slideshow": {
     "slide_type": "fragment"
    }
   },
   "source": [
    "##### Getting Higher Dimensional Arrays"
   ]
  },
  {
   "cell_type": "code",
   "execution_count": null,
   "metadata": {
    "collapsed": true,
    "slideshow": {
     "slide_type": "fragment"
    }
   },
   "outputs": [],
   "source": [
    "# It was easy to make numpy \"lists\"\n"
   ]
  },
  {
   "cell_type": "code",
   "execution_count": 72,
   "metadata": {
    "collapsed": false,
    "slideshow": {
     "slide_type": "fragment"
    }
   },
   "outputs": [
    {
     "name": "stdout",
     "output_type": "stream",
     "text": [
      "[[[ 0  0  0]\n",
      "  [ 0  0  1]\n",
      "  [ 0 -1  0]]\n",
      "\n",
      " [[ 0  0 -1]\n",
      "  [ 0  0  0]\n",
      "  [ 1  0  0]]\n",
      "\n",
      " [[ 0  1  0]\n",
      "  [-1  0  0]\n",
      "  [ 0  0  0]]]\n"
     ]
    }
   ],
   "source": [
    "# Not much harder to get higher dimensional arrays!\n",
    "\n",
    "levi_civita = np.array([[[0,0,0],[0,0,1],[0,-1,0]],\n",
    "                        [[0,0,-1],[0,0,0],[1,0,0]],\n",
    "                        [[0,1,0],[-1,0,0],[0,0,0]]])\n",
    "\n",
    "print(levi_civita)"
   ]
  },
  {
   "cell_type": "markdown",
   "metadata": {
    "slideshow": {
     "slide_type": "slide"
    }
   },
   "source": [
    "##### Doing this manually is a massive pain!\n",
    "\n",
    "Lots of helpful utilities exist for constructing \"standard\" arrays"
   ]
  },
  {
   "cell_type": "code",
   "execution_count": 73,
   "metadata": {
    "collapsed": false,
    "slideshow": {
     "slide_type": "fragment"
    }
   },
   "outputs": [
    {
     "name": "stdout",
     "output_type": "stream",
     "text": [
      "[[ 0.  0.  0.  0.]\n",
      " [ 0.  0.  0.  0.]\n",
      " [ 0.  0.  0.  0.]\n",
      " [ 0.  0.  0.  0.]\n",
      " [ 0.  0.  0.  0.]]\n"
     ]
    }
   ],
   "source": [
    "# Here are a few, maybe want an array of zeros?\n",
    "\n",
    "print(np.zeros((5,4)))"
   ]
  },
  {
   "cell_type": "code",
   "execution_count": 74,
   "metadata": {
    "collapsed": false,
    "slideshow": {
     "slide_type": "fragment"
    }
   },
   "outputs": [
    {
     "data": {
      "text/plain": [
       "array([[ 1.,  0.,  0.],\n",
       "       [ 0.,  1.,  0.],\n",
       "       [ 0.,  0.,  1.]])"
      ]
     },
     "execution_count": 74,
     "metadata": {},
     "output_type": "execute_result"
    }
   ],
   "source": [
    "# or an identity matrix?\n",
    "np.eye(3)"
   ]
  },
  {
   "cell_type": "code",
   "execution_count": 77,
   "metadata": {
    "collapsed": false,
    "slideshow": {
     "slide_type": "fragment"
    }
   },
   "outputs": [
    {
     "name": "stdout",
     "output_type": "stream",
     "text": [
      "[[ 1.  2.  3.]\n",
      " [ 4.  5.  6.]\n",
      " [ 7.  8.  9.]]\n"
     ]
    }
   ],
   "source": [
    "# np.loadtxt()\n",
    "numbers = np.loadtxt(\"numbers.txt\")\n",
    "\n",
    "print(numbers)"
   ]
  },
  {
   "cell_type": "markdown",
   "metadata": {
    "slideshow": {
     "slide_type": "slide"
    }
   },
   "source": [
    "##### Have plenty of arrays how, but now to get data into/out of them?\n",
    "\n",
    "Basic slicing syntax still works!"
   ]
  },
  {
   "cell_type": "code",
   "execution_count": 82,
   "metadata": {
    "collapsed": false,
    "slideshow": {
     "slide_type": "fragment"
    }
   },
   "outputs": [
    {
     "name": "stdout",
     "output_type": "stream",
     "text": [
      "[  0.   1.   2.   3.   4.   5.   6.   7.   8.   9.  10.  11.  12.  13.  14.\n",
      "  15.  16.  17.  18.  19.]\n"
     ]
    },
    {
     "data": {
      "text/plain": [
       "array([ 10.,  11.,  12.,  13.,  14.])"
      ]
     },
     "execution_count": 82,
     "metadata": {},
     "output_type": "execute_result"
    }
   ],
   "source": [
    "# basic slicing\n",
    "a = np.linspace(0, 19, 20)\n",
    "print(a)\n",
    "\n",
    "a[10:15]"
   ]
  },
  {
   "cell_type": "code",
   "execution_count": 85,
   "metadata": {
    "collapsed": false,
    "slideshow": {
     "slide_type": "fragment"
    }
   },
   "outputs": [
    {
     "data": {
      "text/plain": [
       "array([  0.,   2.,   4.,   6.,   8.,  10.,  12.,  14.,  16.,  18.])"
      ]
     },
     "execution_count": 85,
     "metadata": {},
     "output_type": "execute_result"
    }
   ],
   "source": [
    "# Can also index with stride\n",
    "a[::2]\n",
    "# what would [::-1] do?"
   ]
  },
  {
   "cell_type": "markdown",
   "metadata": {
    "slideshow": {
     "slide_type": "slide"
    }
   },
   "source": [
    "#### Okay, but what about those higher dimensional arrays?"
   ]
  },
  {
   "cell_type": "code",
   "execution_count": 88,
   "metadata": {
    "collapsed": false,
    "slideshow": {
     "slide_type": "fragment"
    }
   },
   "outputs": [
    {
     "name": "stdout",
     "output_type": "stream",
     "text": [
      "[[ 2.11936881  0.25696663  0.79351977]\n",
      " [ 0.55339784 -1.08784355  1.35459691]\n",
      " [ 0.68222971  0.23134475 -0.39377343]]\n",
      "(3,)\n",
      "[[ 2.11936881  0.25696663  0.79351977]\n",
      " [ 0.55339784 -1.08784355  1.35459691]\n",
      " [ 0.          0.          0.        ]]\n"
     ]
    }
   ],
   "source": [
    "# can use comma separated list of slices\n",
    "a = np.random.randn(3, 3)\n",
    "print(a)\n",
    "\n",
    "a[2,:] = 0\n",
    "print(a)"
   ]
  },
  {
   "cell_type": "code",
   "execution_count": 89,
   "metadata": {
    "collapsed": false,
    "slideshow": {
     "slide_type": "fragment"
    }
   },
   "outputs": [
    {
     "name": "stdout",
     "output_type": "stream",
     "text": [
      "[[1.0, 2.0, 3.0], [4.0, 5.0, 6.0], [7.0, 8.0, 9.0]]\n",
      "[[1.0, 2.0, 3.0], [4.0, 5.0, 6.0]]\n"
     ]
    }
   ],
   "source": [
    "# This is genuinely different than standard Python lists!\n",
    "pylist_numbers = [list(l) for l in numbers]\n",
    "print(pylist_numbers)\n",
    "print(pylist_numbers[:][:2])\n",
    "\n",
    "# not the same! Why?"
   ]
  },
  {
   "cell_type": "code",
   "execution_count": 110,
   "metadata": {
    "collapsed": false,
    "slideshow": {
     "slide_type": "fragment"
    }
   },
   "outputs": [
    {
     "ename": "NameError",
     "evalue": "name 'numbers' is not defined",
     "output_type": "error",
     "traceback": [
      "\u001b[0;31m---------------------------------------------------------------------------\u001b[0m",
      "\u001b[0;31mNameError\u001b[0m                                 Traceback (most recent call last)",
      "\u001b[0;32m<ipython-input-110-7dab6331537e>\u001b[0m in \u001b[0;36m<module>\u001b[0;34m()\u001b[0m\n\u001b[1;32m      3\u001b[0m \u001b[0;31m# LHS and RHS of equals should have \"similar\" shape (broadcasting)\u001b[0m\u001b[0;34m\u001b[0m\u001b[0;34m\u001b[0m\u001b[0m\n\u001b[1;32m      4\u001b[0m \u001b[0;34m\u001b[0m\u001b[0m\n\u001b[0;32m----> 5\u001b[0;31m \u001b[0mnumbers\u001b[0m\u001b[0;34m[\u001b[0m\u001b[0;34m:\u001b[0m\u001b[0;34m,\u001b[0m\u001b[0;34m-\u001b[0m\u001b[0;36m1\u001b[0m\u001b[0;34m]\u001b[0m \u001b[0;34m=\u001b[0m \u001b[0;36m0\u001b[0m\u001b[0;34m\u001b[0m\u001b[0m\n\u001b[0m\u001b[1;32m      6\u001b[0m \u001b[0mprint\u001b[0m\u001b[0;34m(\u001b[0m\u001b[0mnumbers\u001b[0m\u001b[0;34m)\u001b[0m\u001b[0;34m\u001b[0m\u001b[0m\n\u001b[1;32m      7\u001b[0m \u001b[0;34m\u001b[0m\u001b[0m\n",
      "\u001b[0;31mNameError\u001b[0m: name 'numbers' is not defined"
     ]
    }
   ],
   "source": [
    "# Whenever you're slicing in numpy, the thing you need to think\n",
    "# about is the shape of what you start with, and what you end with\n",
    "# LHS and RHS of equals should have \"similar\" shape (broadcasting)\n",
    "\n",
    "numbers[:,-1] = 0\n",
    "print(numbers)\n",
    "\n",
    "#pylist_numbers[1][:] = (100,100,100)\n",
    "#print(pylist_numbers)"
   ]
  },
  {
   "cell_type": "markdown",
   "metadata": {
    "slideshow": {
     "slide_type": "slide"
    }
   },
   "source": [
    "#### Logical indexing\n",
    "\n",
    "We can also slice into arrays using logical expressions!"
   ]
  },
  {
   "cell_type": "code",
   "execution_count": 109,
   "metadata": {
    "collapsed": false,
    "slideshow": {
     "slide_type": "fragment"
    }
   },
   "outputs": [
    {
     "name": "stdout",
     "output_type": "stream",
     "text": [
      "[[-1.74770857  3.05022926  1.07493474]\n",
      " [-0.3801543  -0.23566404  1.1224664 ]\n",
      " [ 0.59453875  0.93405711  0.99439728]]\n",
      "[[ True False False]\n",
      " [ True  True False]\n",
      " [False False False]]\n",
      "[[-1.74770857  0.          0.        ]\n",
      " [-0.3801543  -0.23566404  0.        ]\n",
      " [ 0.59453875  0.93405711  0.99439728]]\n"
     ]
    }
   ],
   "source": [
    "# get random matrix\n",
    "a = np.random.randn(3, 3)\n",
    "print(a)\n",
    "print(a < 0)\n"
   ]
  },
  {
   "cell_type": "markdown",
   "metadata": {
    "slideshow": {
     "slide_type": "slide"
    }
   },
   "source": [
    "#### Index Arrays\n",
    "\n",
    "We can also set several selections at the same time, like a \"union\" of the selections"
   ]
  },
  {
   "cell_type": "code",
   "execution_count": 158,
   "metadata": {
    "collapsed": false,
    "slideshow": {
     "slide_type": "fragment"
    }
   },
   "outputs": [
    {
     "name": "stdout",
     "output_type": "stream",
     "text": [
      "[10  9  8  7  6  5  4  3  2  1]\n",
      "[9 2 6]\n"
     ]
    }
   ],
   "source": [
    "a = np.arange(10, 0, -1)\n",
    "print(a)\n",
    "\n",
    "indexes = np.array([1,8,4])\n",
    "print(a[indexes]) # get second, ninth, fifth thing out of a"
   ]
  },
  {
   "cell_type": "markdown",
   "metadata": {
    "slideshow": {
     "slide_type": "slide"
    }
   },
   "source": [
    "#### Syntax Review"
   ]
  },
  {
   "cell_type": "code",
   "execution_count": null,
   "metadata": {
    "collapsed": true,
    "slideshow": {
     "slide_type": "fragment"
    }
   },
   "outputs": [],
   "source": [
    "# Can covert between lists and np.ndarray\n",
    "list(...)\n",
    "np.array(...) # np.array is the translation function, np.ndarray is the type!\n",
    "\n",
    "# Useful functions\n",
    "zeros((3, 4, 5,)) # tuple as argument\n",
    "eye(5) # integer size as argument\n",
    "np.linspace(start, finish, steps)\n",
    "np.arange(start, finish, step_size)\n",
    "np.logspace(a,b,c) === np.exp(np.linspace(a,b,c))\n",
    "\n",
    "# Indexing\n",
    "arr[:,:,5:20] # comma separated list of slices, : means 0:-1 (the whole axis)\n",
    "\n",
    "# Boolean indexing\n",
    "arr[arr == 'str'] = 'not str' # replaces all instances of 'str' with 'not str'. Can be any predicate\n",
    "\n",
    "# Documentation and getting help\n",
    "# Use function? if you are in IPython\n",
    "# Google!\n",
    "# Use intuition!\n",
    "# Use help(function) in interactive mode (REPL) \n",
    "\n",
    "# Plotting\n",
    "plt.plot(xs, ys)\n",
    "plt.show() ### DONT FORGET THIS!"
   ]
  },
  {
   "cell_type": "code",
   "execution_count": 82,
   "metadata": {
    "collapsed": false
   },
   "outputs": [
    {
     "name": "stdout",
     "output_type": "stream",
     "text": [
      "[[-0.94372348 -0.07465453  0.09328519]\n",
      " [ 0.73088673  1.41909906  0.05925538]\n",
      " [ 0.77430079  0.92425894 -0.47544173]]\n",
      "====\n",
      "[[-0.94372348 -0.07465453  0.09328519]\n",
      " [ 0.73088673  1.41909906  1.        ]\n",
      " [ 1.          0.92425894 -0.47544173]]\n"
     ]
    }
   ],
   "source": [
    "a = np.random.randn(3,3)\n",
    "print(a)\n",
    "print(\"====\")\n",
    "a[([1,2], [2,0])] = 1\n",
    "\n",
    "print(a)"
   ]
  }
 ],
 "metadata": {
  "kernelspec": {
   "display_name": "Python 3",
   "language": "python",
   "name": "python3"
  },
  "language_info": {
   "codemirror_mode": {
    "name": "ipython",
    "version": 3
   },
   "file_extension": ".py",
   "mimetype": "text/x-python",
   "name": "python",
   "nbconvert_exporter": "python",
   "pygments_lexer": "ipython3",
   "version": "3.5.1"
  }
 },
 "nbformat": 4,
 "nbformat_minor": 0
}
